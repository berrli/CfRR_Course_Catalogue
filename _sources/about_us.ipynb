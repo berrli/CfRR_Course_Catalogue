{
 "cells": [
  {
   "cell_type": "markdown",
   "id": "a20e3b3b-cdf3-432d-881b-a1ff96f93c34",
   "metadata": {
    "editable": true,
    "slideshow": {
     "slide_type": ""
    },
    "tags": []
   },
   "source": [
    "# About Us"
   ]
  },
  {
   "cell_type": "markdown",
   "id": "82ab98d7-09bc-46f2-bf07-4de98b524834",
   "metadata": {
    "editable": true,
    "slideshow": {
     "slide_type": ""
    },
    "tags": []
   },
   "source": [
    "Coding for Reproducible Research is a training programme that provides a series of workshops to support researchers at the University of Exeter in expanding their skill sets and positioning them to confidently perform informatics research projects efficiently and in a reproducible way. The program provides training on specific languages, such as [Python](individual_modules/section_landing_pages/introduction_to_python.md), R, and Unix/Linux, alongside training relating to good practice and reproducible working methods designed to be agnostic of programming language. In this way, we offer a holistic perspective on how programming tasks should be approached, ultimately providing researchers with the tools and knowledge to feel confident in what they are doing. All workshops are open to any staff or student from any college or department and accessible from any campus."
   ]
  }
 ],
 "metadata": {
  "kernelspec": {
   "display_name": "Python 3 (ipykernel)",
   "language": "python",
   "name": "python3"
  },
  "language_info": {
   "codemirror_mode": {
    "name": "ipython",
    "version": 3
   },
   "file_extension": ".py",
   "mimetype": "text/x-python",
   "name": "python",
   "nbconvert_exporter": "python",
   "pygments_lexer": "ipython3",
   "version": "3.12.2"
  }
 },
 "nbformat": 4,
 "nbformat_minor": 5
}
