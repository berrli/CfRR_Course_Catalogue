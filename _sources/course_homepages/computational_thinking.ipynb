{
 "cells": [
  {
   "cell_type": "markdown",
   "id": "866180fb-e8e3-4db8-ac58-760996bfbffc",
   "metadata": {
    "editable": true,
    "slideshow": {
     "slide_type": ""
    },
    "tags": []
   },
   "source": [
    "# Computational Thinking"
   ]
  },
  {
   "cell_type": "code",
   "execution_count": 1,
   "id": "27dbbfdf-de68-4b08-8450-fd571c38405f",
   "metadata": {
    "editable": true,
    "slideshow": {
     "slide_type": ""
    },
    "tags": [
     "remove-input"
    ]
   },
   "outputs": [
    {
     "data": {
      "text/markdown": [
       "## Welcome to the Computational Thinking Workshop\n",
       "**Next Session Date:** Summer 2024\n",
       "\n",
       "**What to Expect:**\n",
       "Over two sessions this course will introduce you to some fundamental principles that are the basis of writing computer code in any language and should enable you to write develop and debug your code more effectively.\n",
       "\n",
       "**Registration Status:** Registration is currently closed.\n",
       "**Please register by:** nan\n",
       "**Installation Instructions:** [Click here to install]( )\n"
      ],
      "text/plain": [
       "<IPython.core.display.Markdown object>"
      ]
     },
     "metadata": {},
     "output_type": "display_data"
    }
   ],
   "source": [
    "from IPython.display import Markdown, display\n",
    "\n",
    "display(Markdown(\"course_details_markdowns/computational_thinking.md\"))"
   ]
  },
  {
   "cell_type": "code",
   "execution_count": null,
   "id": "405e2487-a0a0-46a5-ae07-09555bd7f90f",
   "metadata": {
    "editable": true,
    "slideshow": {
     "slide_type": ""
    },
    "tags": []
   },
   "outputs": [],
   "source": []
  }
 ],
 "metadata": {
  "kernelspec": {
   "display_name": "Python 3 (ipykernel)",
   "language": "python",
   "name": "python3"
  },
  "language_info": {
   "codemirror_mode": {
    "name": "ipython",
    "version": 3
   },
   "file_extension": ".py",
   "mimetype": "text/x-python",
   "name": "python",
   "nbconvert_exporter": "python",
   "pygments_lexer": "ipython3",
   "version": "3.9.19"
  }
 },
 "nbformat": 4,
 "nbformat_minor": 5
}
