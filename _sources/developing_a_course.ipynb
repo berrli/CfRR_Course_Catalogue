{
 "cells": [
  {
   "cell_type": "markdown",
   "id": "06708aa3-66d9-4af3-8399-272030c6290c",
   "metadata": {},
   "source": [
    "# Developing a Course Guidance\n",
    "If you are interested in developing and contributing some course content or a complete course to the CfRR program, then please ensure you first read the [Contributing Guide](contributing.ipynb).\n",
    "\n",
    "The goal of this page is to provide some helpful hints to how to develop a course for the CfRR program. While the courses are on a diverse range of topics, there is a desire for all of the courses that are offered to have some degree of simiarilty in approach and quality. Below are some of the key points that have been raised."
   ]
  },
  {
   "cell_type": "markdown",
   "id": "6afb954b-38f9-4419-92fc-57542f54b8da",
   "metadata": {},
   "source": []
  }
 ],
 "metadata": {
  "kernelspec": {
   "display_name": "Python 3 (ipykernel)",
   "language": "python",
   "name": "python3"
  },
  "language_info": {
   "codemirror_mode": {
    "name": "ipython",
    "version": 3
   },
   "file_extension": ".py",
   "mimetype": "text/x-python",
   "name": "python",
   "nbconvert_exporter": "python",
   "pygments_lexer": "ipython3",
   "version": "3.9.19"
  }
 },
 "nbformat": 4,
 "nbformat_minor": 5
}
