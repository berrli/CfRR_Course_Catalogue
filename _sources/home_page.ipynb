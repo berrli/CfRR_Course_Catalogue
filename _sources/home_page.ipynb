{
 "cells": [
  {
   "cell_type": "markdown",
   "id": "26cd46a7-0a19-44a7-bc1e-fd1548c4bfdc",
   "metadata": {
    "editable": true,
    "slideshow": {
     "slide_type": ""
    },
    "tags": []
   },
   "source": [
    "# Coding for Reproducible Research (CfRR)\n",
    "This training programme provides a series workshops to support researchers at the University of Exeter to expand their skillsets and position them to confidently perform their informatics research projects in an efficient and reproducible way. The programme covers not only training on specific languages, such as Python, R, and Unix/Linux, but additionally incorporates training relating to good practise and reproducible working methods that is designed to be agnostic of programming language. In this way we offer a holistic perspective as to how programming tasks should be approached, ultimately providing researchers with the tools and knowledge to feel confident in what they are doing. All workshops are open to any staff or student, from any college or department and are accessible from any campus.\n",
    "\n",
    "These workshops are brought to you by the [University of Exeter Research Software and Analytics Group](https://www.exeter.ac.uk/research/research-software-and-analytics/), [University of Exeter Researcher Development](https://www.exeter.ac.uk/research/doctoralcollege/researcherdevelopment/) and the [University of Exeter Doctoral College](https://www.exeter.ac.uk/research/doctoralcollege/).\n",
    "\n",
    "You can contact the CfRR team at the following email: [codingforreproducibleresearch@exeter.ac.uk](mailto:codingforreproducibleresearch@exeter.ac.uk)"
   ]
  },
  {
   "cell_type": "code",
   "execution_count": 1,
   "id": "8670ae52-cd67-403b-a822-542a73e09a3a",
   "metadata": {
    "editable": true,
    "slideshow": {
     "slide_type": ""
    },
    "tags": [
     "remove-input"
    ]
   },
   "outputs": [],
   "source": [
    "#from IPython.display import Markdown, display\n",
    "\n",
    "#display(Markdown(\"course_details_markdowns/all_upcoming_workshops.md\"))"
   ]
  },
  {
   "cell_type": "markdown",
   "id": "a1738f70-bcac-4ef4-b365-8012de33ae2d",
   "metadata": {
    "editable": true,
    "slideshow": {
     "slide_type": ""
    },
    "tags": []
   },
   "source": [
    "<iframe width=\"100%\" height=\"1000px\" src=\"https://forms.office.com/Pages/ResponsePage.aspx?id=d10qkZj77k6vMhM02PBKU6c8tNVRoxhAjFFJWmm07JtUOFUxN05CWFdQQTVTWVc4SDBGSjBKSVUxRy4u&embed=true\" frameborder=\"0\" marginwidth=\"0\" marginheight=\"0\" style=\"border: none;\" allowfullscreen webkitallowfullscreen mozallowfullscreen msallowfullscreen> </iframe>"
   ]
  }
 ],
 "metadata": {
  "kernelspec": {
   "display_name": "Python 3 (ipykernel)",
   "language": "python",
   "name": "python3"
  },
  "language_info": {
   "codemirror_mode": {
    "name": "ipython",
    "version": 3
   },
   "file_extension": ".py",
   "mimetype": "text/x-python",
   "name": "python",
   "nbconvert_exporter": "python",
   "pygments_lexer": "ipython3",
   "version": "3.9.19"
  }
 },
 "nbformat": 4,
 "nbformat_minor": 5
}
