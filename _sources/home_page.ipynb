{
 "cells": [
  {
   "cell_type": "markdown",
   "id": "74f5f804-955b-4861-94be-03092b6c8b0f",
   "metadata": {},
   "source": [
    "# What is Coding for Reproducible Research?\n",
    "This training programme provides a series workshops to support researchers at the University of Exeter to expand their skillsets and position them to confidently perform the informatics research projects in an efficient and reproducible way. The programme covers not only training on specific languages, such as Python, R, and Unix/Linux, but additionally incorporates training relating to good practise and reproducible working methods that is designed to be agnostic of programming language. In this way we offer a holistic perspective as to how programming tasks should be approached, ultimately providing researchers with the tools and knowledge to feel confident in what they are doing. All workshops are open to any staff or student, from any college or department and accessible from any campus.\n",
    "\n",
    "\n",
    "\n",
    "These workshops are brought to you by the [University of Exeter Research Software Engineering Group](https://www.exeter.ac.uk/research/software-engineering/), [University of Exeter Institute of Data Science and Artificial Intelligence](https://www.exeter.ac.uk/research/institutes/idsai/), [University of Exeter Researcher Development](https://www.exeter.ac.uk/research/doctoralcollege/researcherdevelopment/) and the [University of Exeter Doctoral College](https://www.exeter.ac.uk/research/doctoralcollege/).\n",
    "\n",
    "## Workshops \n",
    "\n",
    "A list of the workshops we offer can be found on the [Workshops page](section_landing_pages/workshops.md). If you wish to be added to our mailing list and contacted when registration for workshops opens please complete our mailing list form.\n",
    "\n",
    "\n",
    "# Welcome to Coding for Reproducible Research\n",
    "\n",
    "This Jupyter book contains the content for the Intermediate Python course, which uses the real-world problem of air pollution concentration data to highlight the power of key Python packages such as Pandas, Matplotlib and Scikit-Learn. The format of this book is as follows and will guide you through a range of different Python packages that allow you to analyse, visualise and model data within the Python ecosystem.\n",
    "\n",
    "## Pre-requisite knowledge\n",
    "\n",
    "To engage appropriately with the course's content, a beginner's knowledge of Python, either through self-study or a course such as Coding for Reproducible Research Introduction to Python, is needed. Topics include general data structures such as variables and lists, control flow such as for and if statements, and functions. If you are uncomfortable with or need a refresher on any of those courses then the CfRR Introduction to Python course is available here:\n",
    " "
   ]
  },
  {
   "cell_type": "code",
   "execution_count": null,
   "id": "395f401f-858d-467b-bd7c-96daa08ac89b",
   "metadata": {},
   "outputs": [],
   "source": []
  }
 ],
 "metadata": {
  "kernelspec": {
   "display_name": "Python 3 (ipykernel)",
   "language": "python",
   "name": "python3"
  },
  "language_info": {
   "codemirror_mode": {
    "name": "ipython",
    "version": 3
   },
   "file_extension": ".py",
   "mimetype": "text/x-python",
   "name": "python",
   "nbconvert_exporter": "python",
   "pygments_lexer": "ipython3",
   "version": "3.12.2"
  }
 },
 "nbformat": 4,
 "nbformat_minor": 5
}
