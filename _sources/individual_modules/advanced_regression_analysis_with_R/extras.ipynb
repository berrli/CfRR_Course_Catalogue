{
 "cells": [
  {
   "cell_type": "code",
   "execution_count": 1,
   "id": "b9ecb632-1728-4245-be1c-649f2165a3fd",
   "metadata": {
    "editable": true,
    "slideshow": {
     "slide_type": ""
    },
    "tags": [
     "remove-input"
    ]
   },
   "outputs": [],
   "source": [
    "%load_ext rpy2.ipython"
   ]
  },
  {
   "cell_type": "code",
   "execution_count": 2,
   "id": "3bd18871-f159-4905-b82f-df059bc416a3",
   "metadata": {
    "editable": true,
    "slideshow": {
     "slide_type": ""
    },
    "tags": [
     "remove-input"
    ]
   },
   "outputs": [],
   "source": [
    "%%R\n",
    "knitr::opts_chunk$set(echo = TRUE)\n",
    "\n",
    "nInd<-175\n",
    "indIDs <-paste0(\"X\", sample(10000:40000, nInd))\n",
    "nVisits<-rpois(indIDs, 4)\n",
    "nVisits[which(nVisits == 0)]<-1\n",
    "\n",
    "cogAbaseline<-rpois(indIDs, 25)\n",
    "cogBbaseline<-rnorm(indIDs, 8,4)\n",
    "cogCbaseline<-rnorm(indIDs, 20, 2)\n",
    "sex<-sample(c(\"M\", \"F\"), nInd, replace = TRUE, prob = c(0.55, 0.45))\n",
    "age<-floor(runif(nInd, 20, 60))\n",
    "intervention<-sample(c(\"Placebo\", \"Training\"), nInd, replace = TRUE)\n",
    "yearsEd<-sample(c(12,14,17), nInd, replace = TRUE, prob = c(0.3,0.4, 0.3))\n",
    "smoke <- sample(c(\"Yes\", \"No\"), nInd, replace = TRUE, prob = c(0.25,0.75))\n",
    "physicalWellbeing <- sample(c(\"High\", \"Low\"), nInd, replace = TRUE, prob = c(0.85,0.15))\n",
    "mentalWellbeing <- sample(c(\"High\", \"Low\"), nInd, replace = TRUE, prob = c(0.7,0.3))\n",
    "cogAbaseline <- cogAbaseline[(physicalWellbeing == \"Low\" | mentalWellbeing == \"Low\")]<- rpois(sum((physicalWellbeing == \"Low\" | mentalWellbeing == \"Low\")), 22)\n",
    "cogAbaseline <- cogAbaseline[smoke == \"Yes\"]<- rpois(sum(smoke == \"Yes\"), 23)\n",
    "\n",
    "visitID<-as.factor(rep(indIDs, nVisits))\n",
    "visitNum <- unlist(lapply(nVisits, seq))\n",
    "\n",
    "index<-match(visitID, indIDs)\n",
    "visitSex<-as.factor(sex[index])\n",
    "visitAge<-age[index]+visitNum\n",
    "visitIntervention<-as.factor(intervention[index])\n",
    "visitYearsEd <- yearsEd[index]\n",
    "visitSmoke <- as.factor(smoke[index])\n",
    "visitPW <- as.factor(physicalWellbeing[index])\n",
    "randomIndex<-sample(1:length(index), nInd)\n",
    "visitPW[randomIndex]<-\"Low\"\n",
    "visitMW <-as.factor(mentalWellbeing[index])\n",
    "randomIndex<-sample(which(visitNum > 3), nInd*0.5)\n",
    "visitMW[randomIndex]<-\"High\"\n",
    "    \n",
    "cogA<- floor(cogAbaseline[index] + visitNum * (0.2 + 0.05 * as.numeric(visitIntervention) + 0.04 * as.numeric(visitMW)) + rnorm(length(visitNum), 0,2))\n",
    "\n",
    "cogB<-cogBbaseline[index] + visitNum * (0.1 - 0.08 * as.numeric(visitSex) + 0.05 * (visitYearsEd-12)) + rnorm(length(visitNum), 0, 1) \n",
    "\n",
    "cogC<-cogCbaseline[index] + visitNum * (0.01 + 0.003 * as.numeric(visitSex) + 0.001 * as.numeric(visitIntervention)) + rnorm(length(visitNum), 0, 5) \n",
    "\n",
    "\n",
    "cogDat<-data.frame(\"ID\" = visitID, \"VisitNum\" = visitNum, \"Age\" = visitAge, \"Sex\" = visitSex, \"YearsEducation\" = visitYearsEd, \"Smoker\" = visitSmoke, \"Intervention\" = visitIntervention, \"CognitionA\" = cogA, \"CognitionB\" = cogB, \"CognitionC\" = cogC, \"PhysicalWellbeing\" = visitPW, \"MentalWellbeing\" = visitMW)\n"
   ]
  },
  {
   "cell_type": "markdown",
   "id": "08318751-d0b0-42f5-b370-3702cfbe0cbf",
   "metadata": {
    "editable": true,
    "slideshow": {
     "slide_type": ""
    },
    "tags": []
   },
   "source": [
    "# Extras\n",
    "\n",
    "## R coding conventions for interactions\n",
    "\n",
    "In fact we can write this code more compactly, as R will automatically include the main effects for the two variables as well as the interaction, if we use the `*` to denote which variables we want to model an interaction for. For example, we obtain the same output with the more compact coding here:"
   ]
  },
  {
   "cell_type": "code",
   "execution_count": 3,
   "id": "4a078d31-2ae4-4215-affe-111c49a4059f",
   "metadata": {
    "editable": true,
    "slideshow": {
     "slide_type": ""
    },
    "tags": []
   },
   "outputs": [
    {
     "name": "stdout",
     "output_type": "stream",
     "text": [
      "\n",
      "Call:\n",
      "lm(formula = CognitionB ~ VisitNum * Sex, data = cogDat)\n",
      "\n",
      "Residuals:\n",
      "     Min       1Q   Median       3Q      Max \n",
      "-10.0439  -2.9890  -0.2351   2.9613  11.4649 \n",
      "\n",
      "Coefficients:\n",
      "              Estimate Std. Error t value Pr(>|t|)    \n",
      "(Intercept)     8.4569     0.4566  18.523   <2e-16 ***\n",
      "VisitNum        0.2655     0.1329   1.997   0.0461 *  \n",
      "SexM           -0.4223     0.6104  -0.692   0.4893    \n",
      "VisitNum:SexM  -0.3016     0.1790  -1.685   0.0924 .  \n",
      "---\n",
      "Signif. codes:  0 ‘***’ 0.001 ‘**’ 0.01 ‘*’ 0.05 ‘.’ 0.1 ‘ ’ 1\n",
      "\n",
      "Residual standard error: 4.095 on 720 degrees of freedom\n",
      "Multiple R-squared:  0.02987,\tAdjusted R-squared:  0.02583 \n",
      "F-statistic:  7.39 on 3 and 720 DF,  p-value: 7.003e-05\n",
      "\n"
     ]
    }
   ],
   "source": [
    "%%R\n",
    "model.int<-lm(CognitionB ~ VisitNum*Sex, dat = cogDat)\n",
    "summary(model.int)"
   ]
  },
  {
   "cell_type": "markdown",
   "id": "c2c66ebc-e29f-4100-b052-58cbb8569c93",
   "metadata": {
    "editable": true,
    "slideshow": {
     "slide_type": ""
    },
    "tags": []
   },
   "source": [
    "If in fact, we want to include just the interaction without the main effect terms, we can use \":\" instead.\n",
    "\n",
    "For example:"
   ]
  },
  {
   "cell_type": "code",
   "execution_count": 4,
   "id": "4fa1e36f-894a-4b4a-82d8-62a3849ff5a8",
   "metadata": {
    "editable": true,
    "slideshow": {
     "slide_type": ""
    },
    "tags": []
   },
   "outputs": [
    {
     "name": "stdout",
     "output_type": "stream",
     "text": [
      "\n",
      "Call:\n",
      "lm(formula = CognitionB ~ VisitNum:Sex, data = cogDat)\n",
      "\n",
      "Residuals:\n",
      "    Min      1Q  Median      3Q     Max \n",
      "-9.9809 -2.9682 -0.2984  2.9523 11.4965 \n",
      "\n",
      "Coefficients:\n",
      "              Estimate Std. Error t value Pr(>|t|)    \n",
      "(Intercept)    8.22064    0.30295  27.136  < 2e-16 ***\n",
      "VisitNum:SexF  0.32450    0.10189   3.185  0.00151 ** \n",
      "VisitNum:SexM -0.08393    0.09782  -0.858  0.39118    \n",
      "---\n",
      "Signif. codes:  0 ‘***’ 0.001 ‘**’ 0.01 ‘*’ 0.05 ‘.’ 0.1 ‘ ’ 1\n",
      "\n",
      "Residual standard error: 4.093 on 721 degrees of freedom\n",
      "Multiple R-squared:  0.02923,\tAdjusted R-squared:  0.02654 \n",
      "F-statistic: 10.85 on 2 and 721 DF,  p-value: 2.268e-05\n",
      "\n"
     ]
    }
   ],
   "source": [
    "%%R\n",
    "model.int<-lm(CognitionB ~ VisitNum:Sex, dat = cogDat)\n",
    "summary(model.int)"
   ]
  },
  {
   "cell_type": "markdown",
   "id": "6010111e-2f30-42b0-b69d-be612fcbf692",
   "metadata": {
    "editable": true,
    "slideshow": {
     "slide_type": ""
    },
    "tags": []
   },
   "source": [
    "Because we have omitted the main effect terms, we need two interaction terms to capture the sex specific effects (i.e. we need two regression coefficients to enable us to estimate a female-specific slope and a male-specific slope). When we have age as a main effect, the regression coefficient is equivalent to the \"VisitNum:SexF\" variable. As shown here\n"
   ]
  },
  {
   "cell_type": "code",
   "execution_count": 5,
   "id": "ca2c5012-a2c2-4e7e-ac5b-75ffcfec49ae",
   "metadata": {
    "editable": true,
    "slideshow": {
     "slide_type": ""
    },
    "tags": []
   },
   "outputs": [
    {
     "name": "stdout",
     "output_type": "stream",
     "text": [
      "\n",
      "Call:\n",
      "lm(formula = CognitionB ~ Sex + VisitNum:Sex, data = cogDat)\n",
      "\n",
      "Residuals:\n",
      "     Min       1Q   Median       3Q      Max \n",
      "-10.0439  -2.9890  -0.2351   2.9613  11.4649 \n",
      "\n",
      "Coefficients:\n",
      "              Estimate Std. Error t value Pr(>|t|)    \n",
      "(Intercept)    8.45687    0.45656  18.523   <2e-16 ***\n",
      "SexM          -0.42230    0.61044  -0.692   0.4893    \n",
      "SexF:VisitNum  0.26549    0.13291   1.997   0.0461 *  \n",
      "SexM:VisitNum -0.03607    0.11984  -0.301   0.7635    \n",
      "---\n",
      "Signif. codes:  0 ‘***’ 0.001 ‘**’ 0.01 ‘*’ 0.05 ‘.’ 0.1 ‘ ’ 1\n",
      "\n",
      "Residual standard error: 4.095 on 720 degrees of freedom\n",
      "Multiple R-squared:  0.02987,\tAdjusted R-squared:  0.02583 \n",
      "F-statistic:  7.39 on 3 and 720 DF,  p-value: 7.003e-05\n",
      "\n"
     ]
    }
   ],
   "source": [
    "%%R\n",
    "model.int<-lm(CognitionB ~ Sex + VisitNum:Sex, dat = cogDat)\n",
    "summary(model.int)"
   ]
  },
  {
   "cell_type": "markdown",
   "id": "972b18ff-4254-453b-843f-ffec2c2456d5",
   "metadata": {
    "editable": true,
    "slideshow": {
     "slide_type": ""
    },
    "tags": []
   },
   "source": [
    "In general though, it is advisable to have the main effects for each predictor variable as well as the interaction, to ensure that effects are correctly attributed to the right source.\n",
    "\n",
    "## More complex mixed effects models\n",
    "\n",
    "Take a look at the [lme4 vignette](https://cran.r-project.org/web/packages/lme4/vignettes/lmer.pdf) for more details on how to specify more complex mixed effect models with this package.\n",
    "\n",
    "Also this post: <https://rstudio-pubs-static.s3.amazonaws.com/63556_e35cc7e2dfb54a5bb551f3fa4b3ec4ae.html>\n",
    "\n",
    "Notes on REML here: <http://users.stat.umn.edu/~gary/classes/5303/handouts/REML.pdf>\n",
    "\n",
    "A common error message when using `lmer()` is `Error in KhatriRao(sm, t(mm)) : (p \\<- ncol(X)) == ncol(Y) is not TRUE`\n",
    "\n",
    "If you get this error, try removing observations with missing data. While `lm()` and `glm()` were good at automatically handling the presence of these lmer throws an arguably confusing error."
   ]
  },
  {
   "cell_type": "code",
   "execution_count": null,
   "id": "8a1c9c37-325a-4c6c-8497-e0d2463fc123",
   "metadata": {
    "editable": true,
    "slideshow": {
     "slide_type": ""
    },
    "tags": []
   },
   "outputs": [],
   "source": []
  }
 ],
 "metadata": {
  "kernelspec": {
   "display_name": "Python 3 (ipykernel)",
   "language": "python",
   "name": "python3"
  },
  "language_info": {
   "codemirror_mode": {
    "name": "ipython",
    "version": 3
   },
   "file_extension": ".py",
   "mimetype": "text/x-python",
   "name": "python",
   "nbconvert_exporter": "python",
   "pygments_lexer": "ipython3",
   "version": "3.12.2"
  }
 },
 "nbformat": 4,
 "nbformat_minor": 5
}
