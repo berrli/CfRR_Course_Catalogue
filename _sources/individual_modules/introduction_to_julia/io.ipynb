{
 "cells": [
  {
   "cell_type": "markdown",
   "id": "48fd687b-b5d4-4d22-8d37-2afd9aa4050e",
   "metadata": {},
   "source": [
    "# Input Output\n",
    "\n",
    "Section Outline:\n",
    "Reading from and Writing to Files: Techniques for data input and output in Julia, handling different file formats.\n"
   ]
  }
 ],
 "metadata": {
  "kernelspec": {
   "display_name": "Python 3 (ipykernel)",
   "language": "python",
   "name": "python3"
  },
  "language_info": {
   "codemirror_mode": {
    "name": "ipython",
    "version": 3
   },
   "file_extension": ".py",
   "mimetype": "text/x-python",
   "name": "python",
   "nbconvert_exporter": "python",
   "pygments_lexer": "ipython3",
   "version": "3.9.19"
  }
 },
 "nbformat": 4,
 "nbformat_minor": 5
}
