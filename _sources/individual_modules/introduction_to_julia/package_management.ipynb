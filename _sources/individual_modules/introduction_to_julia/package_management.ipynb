{
 "cells": [
  {
   "cell_type": "markdown",
   "id": "0c81dff2-cf9d-4951-899b-b4cf978eec1c",
   "metadata": {},
   "source": [
    "Section Outline:\n",
    "Using Packages: Learn how to add, remove, and manage Julia packages using the package manager.\n",
    "Key Packages: Introduction to essential packages like Plots, DataFrames, and DifferentialEquations."
   ]
  },
  {
   "cell_type": "code",
   "execution_count": null,
   "id": "992c1736-05dd-4e99-b5c2-d67dd5b38465",
   "metadata": {},
   "outputs": [],
   "source": []
  }
 ],
 "metadata": {
  "kernelspec": {
   "display_name": "Julia 1.10.3",
   "language": "julia",
   "name": "julia-1.10"
  },
  "language_info": {
   "file_extension": ".jl",
   "mimetype": "application/julia",
   "name": "julia",
   "version": "1.10.3"
  }
 },
 "nbformat": 4,
 "nbformat_minor": 5
}
