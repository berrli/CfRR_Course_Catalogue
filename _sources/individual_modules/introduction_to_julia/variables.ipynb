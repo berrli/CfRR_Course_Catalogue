{
 "cells": [
  {
   "cell_type": "markdown",
   "id": "8173db8b-9c0a-4618-96b8-11dc853f5889",
   "metadata": {},
   "source": [
    "# Variables \n",
    "Variable in Julia are created with an assignment statement. Julia uses dynamic typing, such as specifying a int below.  "
   ]
  },
  {
   "cell_type": "code",
   "execution_count": 3,
   "id": "261d699a-0d4c-4440-8fb7-18d2db511579",
   "metadata": {},
   "outputs": [
    {
     "name": "stdout",
     "output_type": "stream",
     "text": [
      "10\n",
      "10\n"
     ]
    }
   ],
   "source": [
    "x = 10 \n",
    "println(x)\n",
    "println(x)"
   ]
  },
  {
   "cell_type": "markdown",
   "id": "47592bed-5610-4efb-86f2-862062015afa",
   "metadata": {},
   "source": [
    "## Basic Types \n",
    "- **Integers (Int)**: Represent whole numbers. Julia selects appropriate bit sizes based on the platform (e.g., Int32, Int64).\n",
    "- **Floating-point numbers (Float32, Float64)**: Used for decimal numbers. Precision can vary.\n",
    "- **Strings (String)**: Used for text. Julia uses UTF-8 encoded strings.\n",
    "- **Booleans (Bool)**: Logical data type with two states: true and false."
   ]
  },
  {
   "cell_type": "code",
   "execution_count": 12,
   "id": "eabfb3a9-e7c3-4886-9494-de2a83d3daa2",
   "metadata": {},
   "outputs": [
    {
     "name": "stdout",
     "output_type": "stream",
     "text": [
      "The value of X: 100 with the data type: Int64\n",
      "The value of y: 100.05 with the data type: Float64\n",
      "The value of name: Julia with the data type: String\n",
      "The value of conditional: true with the data type: Bool\n"
     ]
    }
   ],
   "source": [
    "x = 100\n",
    "println(\"The value of X: \", x, \" with the data type: \", typeof(x))\n",
    "\n",
    "y = 100.05 \n",
    "println(\"The value of y: \", y, \" with the data type: \", typeof(y))\n",
    "\n",
    "name = \"Julia\"\n",
    "println(\"The value of name: \", name, \" with the data type: \", typeof(name))\n",
    "\n",
    "conditional = true\n",
    "println(\"The value of conditional: \", conditional, \" with the data type: \", typeof(conditional))"
   ]
  }
 ],
 "metadata": {
  "kernelspec": {
   "display_name": "Julia 1.10.3",
   "language": "julia",
   "name": "julia-1.10"
  },
  "language_info": {
   "file_extension": ".jl",
   "mimetype": "application/julia",
   "name": "julia",
   "version": "1.10.3"
  }
 },
 "nbformat": 4,
 "nbformat_minor": 5
}
