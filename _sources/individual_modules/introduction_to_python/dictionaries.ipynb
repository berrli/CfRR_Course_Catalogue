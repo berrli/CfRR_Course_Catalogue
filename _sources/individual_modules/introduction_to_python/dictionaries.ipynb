{
 "cells": [
  {
   "cell_type": "markdown",
   "id": "f0c44cf2-5f89-43a1-8d8f-c4827016b188",
   "metadata": {},
   "source": [
    "# Dictionaries\n",
    "\n",
    "## Learning Objectives\n",
    "\n",
    "At the end of this lesson you will be able to:\n",
    "\n",
    "- Identify and explain what a dictionary is\n",
    "- Explain what makes a dictionary different to a list\n",
    "- Understand the `key`: `value` relationship\n",
    "- Create a dictionary containing simple values\n",
    "- Update values in a dictionary\n",
    "\n",
    "## Key points\n",
    "\n",
    "- A dictionary stores key-value pairs.\n",
    "- Dictionaries are unordered.\n",
    "- Dictionaries are immutable.\n",
    "\n",
    "## Introduction\n",
    "\n",
    "Lists and arrays are useful, but don’t cover every use case. One of Python’s best features is its “dictionary” data structure. Whereas a list or array is simply a collection of elements, a dictionary supports key-value storage of data. Put into plain english, it lets you store and retrieve data values by name.\n",
    "\n",
    "## Create a dictionary\n",
    "\n",
    "Let’s create and use a simple dictionary of scientist's birth years to illustrate this:"
   ]
  },
  {
   "cell_type": "code",
   "execution_count": 2,
   "id": "73c0b67e-71cf-499f-923c-69eea41dfa75",
   "metadata": {},
   "outputs": [
    {
     "name": "stdout",
     "output_type": "stream",
     "text": [
      "{'Newton': 1642, 'Darwin': 1809, 'Einstein': 1979, 'Nobel': 1833}\n"
     ]
    }
   ],
   "source": [
    "birth_years = {'Newton': 1642, 'Darwin': 1809, 'Einstein': 1979, 'Nobel': 1833}\n",
    "print(birth_years)"
   ]
  },
  {
   "cell_type": "markdown",
   "id": "95430a8d-7555-4bbb-89cf-1cf508f3191e",
   "metadata": {},
   "source": [
    "Here, 'Newton', 'Darwin', 'Einstein' and 'Nobel' are keys, and the years are values. Keys and values form a pairwise mapping, allowing the retrieval of a value via the value's key. We can retrieve a value from a dictionary by entering the correct key for this value. We do this using the following syntax:\n"
   ]
  },
  {
   "cell_type": "markdown",
   "id": "cc8de4e2-dc1b-4cfb-828e-1434bd724754",
   "metadata": {},
   "source": [
    "value_we_want = dictionary['key_of_value_we_want']"
   ]
  },
  {
   "cell_type": "markdown",
   "id": "a24fb92c-8ea4-4726-831f-7e8475845c9a",
   "metadata": {},
   "source": [
    "This is similar to accessing a value stored in a list. However, the key does not have to be an integer.\n",
    "\n",
    "## Retrieve a value\n",
    "\n",
    "Retrieve the birth year for Isaac Newton from the dictionary of birth years."
   ]
  },
  {
   "cell_type": "markdown",
   "id": "c64f5b14-c776-49bf-890f-20c3d5698c93",
   "metadata": {},
   "source": [
    "```{admonition} Solution\n",
    ":class: dropdown\n",
    "```python\n",
    "birth_years = {'Newton': 1642, 'Darwin': 1809, 'Einstein': 1979, 'Nobel': 1833}\n",
    "birth_years['Newton']\n",
    "```\n",
    "```"
   ]
  },
  {
   "cell_type": "markdown",
   "id": "df99445a-4507-4301-8a6b-7b9785e51d89",
   "metadata": {},
   "source": [
    "## Altering a dictionary\n",
    "\n",
    "Similar to lists, dictionaries are mutable. We can add a value to a dictionary, using a key:"
   ]
  },
  {
   "cell_type": "code",
   "execution_count": 5,
   "id": "24870d70-edcd-4c59-bed6-1e1377bd8334",
   "metadata": {},
   "outputs": [
    {
     "name": "stdout",
     "output_type": "stream",
     "text": [
      "{'Newton': 1642, 'Darwin': 1809, 'Einstein': 1979, 'Nobel': 1833, 'Turing': 1612}\n"
     ]
    }
   ],
   "source": [
    "birth_years = {'Newton': 1642, 'Darwin': 1809, 'Einstein': 1979, 'Nobel': 1833}\n",
    "birth_years['Turing'] = 1612\n",
    "print(birth_years)"
   ]
  },
  {
   "cell_type": "markdown",
   "id": "a568cacd-8862-45bb-924b-eaf354642c6e",
   "metadata": {},
   "source": [
    "Oops, we made a mistake there. Turing was actually born in 1912. We can update a value using a key. Turing's birthdate above is actual incorrect. Values may be overwritten by re-assignment:\n"
   ]
  },
  {
   "cell_type": "code",
   "execution_count": 6,
   "id": "a4359170-6736-43dd-b4fb-6e8b43f51301",
   "metadata": {},
   "outputs": [
    {
     "name": "stdout",
     "output_type": "stream",
     "text": [
      "{'Newton': 1642, 'Darwin': 1809, 'Einstein': 1979, 'Nobel': 1833, 'Turing': 1912}\n"
     ]
    }
   ],
   "source": [
    "birth_years = {'Newton': 1642, 'Darwin': 1809, 'Einstein': 1979, 'Nobel': 1833, 'Turing': 1612}\n",
    "birth_years['Turing'] = 1912\n",
    "print(birth_years)"
   ]
  },
  {
   "cell_type": "markdown",
   "id": "b5dc8045-86fb-4437-8e4a-480235207364",
   "metadata": {},
   "source": [
    "## Add your own scientists to a dictionary\n",
    "\n",
    "Add two more scientist's birth years to our dictionary of birth years."
   ]
  },
  {
   "cell_type": "markdown",
   "id": "74969db3-dbc6-4588-8c9e-ee98230a3191",
   "metadata": {},
   "source": [
    "```{admonition} Solution\n",
    ":class: dropdown\n",
    "```python\n",
    "birth_years = {'Newton': 1642, 'Darwin': 1809, 'Einstein': 1979, 'Nobel': 1833, 'Turing': 1612}\n",
    "birth_years['Curie'] = 1867\n",
    "birth_years['Franklin'] = 1920\n",
    "print(birth_years)\n",
    "```\n",
    "```"
   ]
  },
  {
   "cell_type": "markdown",
   "id": "500c4feb-cb55-4283-a8dc-3031d27dc00b",
   "metadata": {},
   "source": [
    "## Retrieve all keys and values\n",
    "\n",
    "Dictionaries contain a number of in-built methods that allow you to easily access the data contained within. These methods are automatically attached to every dictionary.\n"
   ]
  },
  {
   "cell_type": "code",
   "execution_count": 8,
   "id": "4b221645-f51f-45dc-a95f-672cd78148a9",
   "metadata": {},
   "outputs": [
    {
     "data": {
      "text/plain": [
       "dict_keys(['Newton', 'Darwin', 'Einstein', 'Nobel', 'Turing', 'Curie', 'Franklin'])"
      ]
     },
     "execution_count": 8,
     "metadata": {},
     "output_type": "execute_result"
    }
   ],
   "source": [
    "birth_years = {'Newton': 1642, 'Darwin': 1809, 'Einstein': 1979, 'Nobel': 1833, 'Turing': 1612, 'Curie': 1867, 'Franklin': 1920}\n",
    "birth_years.keys()"
   ]
  },
  {
   "cell_type": "markdown",
   "id": "2f0d7882-10e9-47b9-beb4-0bfe12cd9e62",
   "metadata": {},
   "source": [
    "Similarly for values:"
   ]
  },
  {
   "cell_type": "code",
   "execution_count": 10,
   "id": "13fb5580-7386-4512-84f6-30bfed9790ff",
   "metadata": {},
   "outputs": [
    {
     "data": {
      "text/plain": [
       "dict_values([1642, 1809, 1979, 1833, 1612, 1867, 1920])"
      ]
     },
     "execution_count": 10,
     "metadata": {},
     "output_type": "execute_result"
    }
   ],
   "source": [
    "birth_years.values()"
   ]
  },
  {
   "cell_type": "markdown",
   "id": "1d343f37-8fcc-4e39-aed0-b504ba65638e",
   "metadata": {},
   "source": [
    "We can convert these to lists:"
   ]
  },
  {
   "cell_type": "code",
   "execution_count": 12,
   "id": "1ff14a25-a37d-4aa1-8082-4d4ed438c96e",
   "metadata": {},
   "outputs": [
    {
     "data": {
      "text/plain": [
       "[1642, 1809, 1979, 1833, 1612, 1867, 1920]"
      ]
     },
     "execution_count": 12,
     "metadata": {},
     "output_type": "execute_result"
    }
   ],
   "source": [
    "list(birth_years.values())"
   ]
  },
  {
   "cell_type": "markdown",
   "id": "3c99a1ae-3b0e-4f77-9240-ef7ac9c2331c",
   "metadata": {},
   "source": [
    "And finally, retrieve the key, value pairs together, forming a list of tuples:"
   ]
  },
  {
   "cell_type": "code",
   "execution_count": 13,
   "id": "a14e33bf-3f38-41fe-adda-6d872d67d9b2",
   "metadata": {},
   "outputs": [
    {
     "data": {
      "text/plain": [
       "[('Newton', 1642),\n",
       " ('Darwin', 1809),\n",
       " ('Einstein', 1979),\n",
       " ('Nobel', 1833),\n",
       " ('Turing', 1612),\n",
       " ('Curie', 1867),\n",
       " ('Franklin', 1920)]"
      ]
     },
     "execution_count": 13,
     "metadata": {},
     "output_type": "execute_result"
    }
   ],
   "source": [
    "list(birth_years.items())"
   ]
  },
  {
   "cell_type": "code",
   "execution_count": null,
   "id": "43214281-c30e-4000-89eb-e196b1768a1c",
   "metadata": {},
   "outputs": [],
   "source": []
  }
 ],
 "metadata": {
  "kernelspec": {
   "display_name": "Python 3 (ipykernel)",
   "language": "python",
   "name": "python3"
  },
  "language_info": {
   "codemirror_mode": {
    "name": "ipython",
    "version": 3
   },
   "file_extension": ".py",
   "mimetype": "text/x-python",
   "name": "python",
   "nbconvert_exporter": "python",
   "pygments_lexer": "ipython3",
   "version": "3.12.2"
  }
 },
 "nbformat": 4,
 "nbformat_minor": 5
}
