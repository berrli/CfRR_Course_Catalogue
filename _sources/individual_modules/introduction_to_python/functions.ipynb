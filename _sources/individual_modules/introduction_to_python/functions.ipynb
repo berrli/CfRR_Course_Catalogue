{
 "cells": [
  {
   "cell_type": "markdown",
   "id": "5d039457-1356-4511-b8a4-16a0c4ad27af",
   "metadata": {
    "editable": true,
    "slideshow": {
     "slide_type": ""
    },
    "tags": []
   },
   "source": [
    "# Functions\n",
    "## Learning Objectives\n",
    "\n",
    "At the end of this lesson you will be able to:\n",
    "\n",
    "- Identify the built-in functions that we have used previously.\n",
    "- Define a function that takes parameters.\n",
    "- Return a value from a function.\n",
    "- Test and debug a function.\n",
    "- Set default values for function parameters.\n",
    "- Explain why we should divide programs into small, single-purpose functions.\n",
    "\n",
    "## Key points\n",
    "\n",
    "\n",
    "- \"Define a function using `def function_name(parameter)`.\"\n",
    "- \"The body of a function must be indented.\"\n",
    "- \"Call a function using `function_name(value)`.\"\n",
    "- \"Numbers are stored as integers or floating-point numbers.\"\n",
    "- \"Variables defined within a function can only be seen and used within the body of the function.\"\n",
    "- \"Variables created outside of any function are called global variables.\"\n",
    "- \"Within a function, we can access global variables.\"\n",
    "- \"Variables created within a function override global variables if their names match.\"\n",
    "- \"Use `help(thing)` to view help for something.\"\n",
    "- \"Put docstrings in functions to provide help for that function.\"\n",
    "- \"Specify default values for parameters when defining a function using `name=value`\n",
    "   in the parameter list.\"\n",
    "- \"Parameters can be passed by matching based on name, by position,\n",
    "   or by omitting them (in which case the default value is used).\"\n",
    "- \"Put code whose parameters change frequently in a function,\n",
    "   then call it with different parameter values to customize its behavior.\"\n",
    "\n",
    "## Why use functions?\n",
    "\n",
    "We are starting to write some more complex code, and things could get quite complicated. When we want to repeat a programming task, or check that everything is working correctly, we should use functions.\n",
    "\n",
    "A function is a shorthand way of allowing us to re-execute longer pieces of code. We can test and verify these smaller blocks individually, and call them whenever we want.\n",
    "\n",
    "## Built in functions\n",
    "\n",
    "We have already used some built-in functions: `print()`, `type()`, `range()` and so on. We have also used functions that are associated with objects, such as `.append()`, `.keys()`, `.strip()`, and more. \n",
    "\n",
    "Using these functions allows us to create much more concise, readable code. Imagine if we had to write all the code that goes on behind the scenes each time we wanted to use `print()`! We will do the same with our own functions.\n",
    "\n",
    "## Defining functions\n",
    "\n",
    "Let's start by defining a function `fahr_to_celsius` that converts temperatures\n",
    "from Fahrenheit to Celsius:"
   ]
  },
  {
   "cell_type": "code",
   "execution_count": 1,
   "id": "d2d33035-d315-4375-8db6-c590959b091e",
   "metadata": {
    "editable": true,
    "slideshow": {
     "slide_type": ""
    },
    "tags": []
   },
   "outputs": [],
   "source": [
    "def fahr_to_celsius(temp):\n",
    "    return ((temp - 32) * (5/9))"
   ]
  },
  {
   "cell_type": "markdown",
   "id": "33321257-f2b0-440a-9315-fa4474ad5a49",
   "metadata": {
    "editable": true,
    "slideshow": {
     "slide_type": ""
    },
    "tags": []
   },
   "source": [
    "The function definition opens with the keyword `def` followed by the name of the function (`fahr_to_celsius`) and a parenthesized list of parameter names (`temp`). The body of the function --- the statements that are executed when it runs --- is indented below the definition line.  The body concludes with a `return` keyword followed by the return value.\n",
    "\n",
    "![Labeled parts of a Python function definition](images/python-function.svg)\n",
    "\n",
    "When we call the function, the values we pass to it are assigned to those variables so that we can use them inside the function. Inside the function, we use a return statement to send a result back to whoever asked for it.\n",
    "\n",
    "Let's try running our function."
   ]
  },
  {
   "cell_type": "code",
   "execution_count": 2,
   "id": "c1d6ee13-84c2-4747-837e-a03710fb3529",
   "metadata": {
    "editable": true,
    "slideshow": {
     "slide_type": ""
    },
    "tags": []
   },
   "outputs": [
    {
     "data": {
      "text/plain": [
       "0.0"
      ]
     },
     "execution_count": 2,
     "metadata": {},
     "output_type": "execute_result"
    }
   ],
   "source": [
    "fahr_to_celsius(32)"
   ]
  },
  {
   "cell_type": "markdown",
   "id": "4d61c3a3-633f-46e6-96bf-768ce00c7b09",
   "metadata": {
    "editable": true,
    "slideshow": {
     "slide_type": ""
    },
    "tags": []
   },
   "source": [
    "This command should call our function, using \"32\" as the input and return the function value.\n",
    "\n",
    "In fact, calling our own function is no different from calling any other function:"
   ]
  },
  {
   "cell_type": "code",
   "execution_count": 3,
   "id": "08c1103e-850f-4a51-85cf-25e318d896aa",
   "metadata": {
    "editable": true,
    "slideshow": {
     "slide_type": ""
    },
    "tags": []
   },
   "outputs": [
    {
     "name": "stdout",
     "output_type": "stream",
     "text": [
      "freezing point of water: 0.0 C\n",
      "boiling point of water: 100.0 C\n"
     ]
    }
   ],
   "source": [
    "print('freezing point of water:', fahr_to_celsius(32), 'C')\n",
    "print('boiling point of water:', fahr_to_celsius(212), 'C')"
   ]
  },
  {
   "cell_type": "markdown",
   "id": "174852aa-fdb7-4472-8d39-cf37059b296f",
   "metadata": {
    "editable": true,
    "slideshow": {
     "slide_type": ""
    },
    "tags": []
   },
   "source": [
    "We've successfully called the function that we defined, and we have access to the value that we returned.\n",
    "\n",
    "## Composing Functions\n",
    "\n",
    "Now that we've seen how to turn Fahrenheit into Celsius, we can also write the function to turn Celsius into Kelvin:"
   ]
  },
  {
   "cell_type": "code",
   "execution_count": 4,
   "id": "c99b3814-bb4d-42c0-8b5d-e4af7c314f9d",
   "metadata": {
    "editable": true,
    "slideshow": {
     "slide_type": ""
    },
    "tags": []
   },
   "outputs": [
    {
     "name": "stdout",
     "output_type": "stream",
     "text": [
      "freezing point of water in Kelvin: 273.15\n"
     ]
    }
   ],
   "source": [
    "def celsius_to_kelvin(temp_c):\n",
    "    return temp_c + 273.15\n",
    "\n",
    "print('freezing point of water in Kelvin:', celsius_to_kelvin(0.))"
   ]
  },
  {
   "cell_type": "markdown",
   "id": "bcc67bd0-6e99-4120-9f84-33efa7fdeb12",
   "metadata": {
    "editable": true,
    "slideshow": {
     "slide_type": ""
    },
    "tags": []
   },
   "source": [
    "What about converting Fahrenheit to Kelvin? We could write out the formula, but we don't need to. Instead, we can compose the two functions we have already created:"
   ]
  },
  {
   "cell_type": "code",
   "execution_count": 5,
   "id": "d6bba695-473d-4cb6-91f3-6137d908546a",
   "metadata": {
    "editable": true,
    "slideshow": {
     "slide_type": ""
    },
    "tags": []
   },
   "outputs": [
    {
     "name": "stdout",
     "output_type": "stream",
     "text": [
      "boiling point of water in Kelvin: 373.15\n"
     ]
    }
   ],
   "source": [
    "def fahr_to_kelvin(temp_f):\n",
    "    temp_c = fahr_to_celsius(temp_f)\n",
    "    temp_k = celsius_to_kelvin(temp_c)\n",
    "    return temp_k\n",
    "\n",
    "print('boiling point of water in Kelvin:', fahr_to_kelvin(212.0))"
   ]
  },
  {
   "cell_type": "markdown",
   "id": "434c1444-6519-4b6c-b565-2b749ff8398f",
   "metadata": {
    "editable": true,
    "slideshow": {
     "slide_type": ""
    },
    "tags": []
   },
   "source": [
    "This is our first taste of how larger programs are built: we define basic operations, then combine them in ever-larger chunks to get the effect we want. Real-life functions will usually be larger than the ones shown here --- typically half a dozen to a few dozen lines --- but they shouldn't ever be much longer than that, or the next person who reads it won't be able to understand what's going on.\n",
    "\n",
    "## Variable Scope\n",
    "\n",
    "In composing our temperature conversion functions, we created variables inside of those functions, `temp`, `temp_c`, `temp_f`, and `temp_k`. We refer to these variables as local variables because they no longer exist once the function is done executing. If we try to access their values outside of the function, we will encounter an error:"
   ]
  },
  {
   "cell_type": "code",
   "execution_count": 6,
   "id": "e85fe258-3196-4077-a729-23b2c0e614df",
   "metadata": {
    "editable": true,
    "slideshow": {
     "slide_type": ""
    },
    "tags": []
   },
   "outputs": [],
   "source": [
    "#print('Again, temperature in Kelvin was:', temp_k)"
   ]
  },
  {
   "cell_type": "markdown",
   "id": "7e2a088a-6cae-4a36-ab35-6215fc66b38c",
   "metadata": {
    "editable": true,
    "slideshow": {
     "slide_type": ""
    },
    "tags": []
   },
   "source": [
    "If you want to reuse the temperature in Kelvin after you have calculated it with `fahr_to_kelvin`,\n",
    "you can store the result of the function call in a variable:"
   ]
  },
  {
   "cell_type": "code",
   "execution_count": 7,
   "id": "95a4079c-d0e4-400c-80ec-c1d5c4a18704",
   "metadata": {
    "editable": true,
    "slideshow": {
     "slide_type": ""
    },
    "tags": []
   },
   "outputs": [
    {
     "name": "stdout",
     "output_type": "stream",
     "text": [
      "temperature in Kelvin was: 373.15\n"
     ]
    }
   ],
   "source": [
    "temp_kelvin = fahr_to_kelvin(212.0)\n",
    "print('temperature in Kelvin was:', temp_kelvin)"
   ]
  },
  {
   "cell_type": "markdown",
   "id": "02dcfb23-7f83-4133-a9ec-69e85844f8a0",
   "metadata": {
    "editable": true,
    "slideshow": {
     "slide_type": ""
    },
    "tags": []
   },
   "source": [
    "The variable `temp_kelvin`, being defined outside any function, is said to be global.\n",
    "Inside a function, one can read the value of such global variables:"
   ]
  },
  {
   "cell_type": "code",
   "execution_count": 8,
   "id": "3ef14c0b-27be-4a4f-9598-fa4ec398c3bc",
   "metadata": {
    "editable": true,
    "slideshow": {
     "slide_type": ""
    },
    "tags": []
   },
   "outputs": [
    {
     "name": "stdout",
     "output_type": "stream",
     "text": [
      "temperature in Fahrenheit was: 212.0\n",
      "temperature in Kelvin was: 373.15\n"
     ]
    }
   ],
   "source": [
    "def print_temperatures():\n",
    "  print('temperature in Fahrenheit was:', temp_fahr)\n",
    "  print('temperature in Kelvin was:', temp_kelvin)\n",
    "\n",
    "temp_fahr = 212.0\n",
    "temp_kelvin = fahr_to_kelvin(temp_fahr)\n",
    "\n",
    "print_temperatures()"
   ]
  },
  {
   "cell_type": "markdown",
   "id": "20f86914-cbfd-42d0-a7f8-d6d9f66fc021",
   "metadata": {
    "editable": true,
    "slideshow": {
     "slide_type": ""
    },
    "tags": []
   },
   "source": [
    "## Readable functions\n",
    "\n",
    "Consider these two functions:"
   ]
  },
  {
   "cell_type": "code",
   "execution_count": 9,
   "id": "4636931b-7cc6-4e51-a6f5-cbcd10f40f50",
   "metadata": {
    "editable": true,
    "slideshow": {
     "slide_type": ""
    },
    "tags": []
   },
   "outputs": [],
   "source": [
    "def s(p):\n",
    "    a = 0\n",
    "    for v in p:\n",
    "        a += v\n",
    "    m = a / len(p)\n",
    "    d = 0\n",
    "    for v in p:\n",
    "        d += (v - m) * (v - m)\n",
    "    return np.sqrt(d / (len(p) - 1))\n",
    "\n",
    "def std_dev(sample):\n",
    "    sample_sum = 0\n",
    "    for value in sample:\n",
    "        sample_sum += value\n",
    "\n",
    "    sample_mean = sample_sum / len(sample)\n",
    "\n",
    "    sum_squared_devs = 0\n",
    "    for value in sample:\n",
    "        sum_squared_devs += (value - sample_mean) * (value - sample_mean)\n",
    "\n",
    "    return np.sqrt(sum_squared_devs / (len(sample) - 1))"
   ]
  },
  {
   "cell_type": "markdown",
   "id": "c451fbef-ac60-44f2-b16c-55a98f82c7cd",
   "metadata": {
    "editable": true,
    "slideshow": {
     "slide_type": ""
    },
    "tags": []
   },
   "source": [
    "The functions `s` and `std_dev` are computationally equivalent (they both calculate the sample standard deviation), but to a human reader, they look very different. You probably found `std_dev` much easier to read and understand than `s`.\n",
    "As this example illustrates, both documentation and a programmer's _coding style_ combine to determine how easy it is for others to read and understand the programmer's code. Choosing meaningful variable names and using blank spaces to break the code into logical \"chunks\" are helpful techniques for producing _readable code_. This is useful not only for sharing code with others, but also for the original programmer. If you need to revisit code that you wrote months ago and haven't thought about since then, you will appreciate the value of readable code!\n",
    "\n",
    "## Exercises\n",
    "\n",
    "## Combining Strings"
   ]
  },
  {
   "cell_type": "markdown",
   "id": "bd4be6a1-e493-42dd-875c-925a845f4d88",
   "metadata": {
    "editable": true,
    "slideshow": {
     "slide_type": ""
    },
    "tags": []
   },
   "source": [
    "\"Adding\" two strings produces their concatenation: `'a' + 'b'` is `'ab'`. Write a function called `fence` that takes two parameters called `original` and `wrapper` and returns a new string that has the wrapper character at the beginning and end of the original. A call to your function should look like this:"
   ]
  },
  {
   "cell_type": "code",
   "execution_count": 11,
   "id": "d2c25692-3744-4828-a26e-a6b928eb28ca",
   "metadata": {
    "editable": true,
    "slideshow": {
     "slide_type": ""
    },
    "tags": []
   },
   "outputs": [],
   "source": [
    "# print(fence('name', '*'))"
   ]
  },
  {
   "cell_type": "markdown",
   "id": "336fc18e-d72e-4e84-99d1-698ca584eef7",
   "metadata": {
    "editable": true,
    "slideshow": {
     "slide_type": ""
    },
    "tags": []
   },
   "source": [
    "```{admonition} Solution\n",
    ":class: dropdown\n",
    "```python\n",
    "def fence(original, wrapper):\n",
    "    return wrapper + original + wrapper\n",
    "```\n",
    "```"
   ]
  },
  {
   "cell_type": "markdown",
   "id": "f7618c77-795e-41c7-b44e-c81e119ef8ad",
   "metadata": {
    "editable": true,
    "slideshow": {
     "slide_type": ""
    },
    "tags": []
   },
   "source": [
    "## Return versus print\n",
    "\n",
    "Note that `return` and `print` are not interchangeable. `print` is a Python function that *prints* data to the screen. It enables us, *users*, see the data. `return` statement, on the other hand, makes data visible to the program. Let's have a look at the following function:"
   ]
  },
  {
   "cell_type": "code",
   "execution_count": 12,
   "id": "1fbc9044-99aa-414e-889c-20caf851e00f",
   "metadata": {
    "editable": true,
    "slideshow": {
     "slide_type": ""
    },
    "tags": []
   },
   "outputs": [],
   "source": [
    "def add(a, b):\n",
    "    print(a + b)"
   ]
  },
  {
   "cell_type": "markdown",
   "id": "9cbc60ef-89da-469a-b977-5a53a371e66d",
   "metadata": {
    "editable": true,
    "slideshow": {
     "slide_type": ""
    },
    "tags": []
   },
   "source": [
    "What will we see if we execute the following commands?"
   ]
  },
  {
   "cell_type": "code",
   "execution_count": 13,
   "id": "855fa58a-397a-4df2-914f-d84783b51812",
   "metadata": {
    "editable": true,
    "slideshow": {
     "slide_type": ""
    },
    "tags": []
   },
   "outputs": [
    {
     "name": "stdout",
     "output_type": "stream",
     "text": [
      "10\n",
      "None\n"
     ]
    }
   ],
   "source": [
    "A = add(7, 3)\n",
    "print(A)"
   ]
  },
  {
   "cell_type": "markdown",
   "id": "95e57ccb-08f6-41b6-bbf1-6344e5ebbcfb",
   "metadata": {
    "editable": true,
    "slideshow": {
     "slide_type": ""
    },
    "tags": []
   },
   "source": [
    "```{admonition} Solution\n",
    ":class: dropdown\n",
    "Python will first execute the function `add` with `a = 7` and `b = 3`, and, therefore, print `10`. However, because function `add` does not have a line that starts with `return` (no `return` \"statement\"), it will, by default, return nothing which, in Python world, is called `None`. Therefore, `A` will be assigned to `None` and the last line (`print(A)`) will print `None`. As a result, we will see:\n",
    "\n",
    "```python\n",
    "10\n",
    "None\n",
    "```\n",
    "```"
   ]
  },
  {
   "cell_type": "markdown",
   "id": "296ee80e-68b8-41ba-b6e1-5b96dab8f033",
   "metadata": {
    "editable": true,
    "slideshow": {
     "slide_type": ""
    },
    "tags": []
   },
   "source": [
    "\n",
    "## Selecting Characters From String\n",
    "If the variable `s` refers to a string, then `s[0]` is the string's first character and `s[-1]` is its last. Write a function called `outer` that returns a string made up of just the first and last characters of its input. A call to your function should look like this:"
   ]
  },
  {
   "cell_type": "markdown",
   "id": "3a2e446f-f399-43d5-996d-0aa0a3fc0597",
   "metadata": {
    "editable": true,
    "slideshow": {
     "slide_type": ""
    },
    "tags": []
   },
   "source": [
    "```{admonition} Solution\n",
    ":class: dropdown\n",
    "```python\n",
    "def outer(input_string):\n",
    "    return input_string[0] + input_string[-1]\n",
    "```\n",
    "```"
   ]
  },
  {
   "cell_type": "markdown",
   "id": "347f457e-1c24-45f3-800a-363f503c7716",
   "metadata": {
    "editable": true,
    "slideshow": {
     "slide_type": ""
    },
    "tags": []
   },
   "source": [
    "## Rescaling a list\n",
    "Write a function `rescale` that takes a list as input and returns a corresponding list of values scaled to lie in the range 0.0 to 1.0.\n",
    "## Hint\n",
    "If `L` and `H` are the lowest and highest values in the original list,\n",
    "then the replacement for a value `v` should be `(v-L) / (H-L)`."
   ]
  },
  {
   "cell_type": "markdown",
   "id": "79f9a40c-7891-4820-b430-0bad0f787d14",
   "metadata": {
    "editable": true,
    "slideshow": {
     "slide_type": ""
    },
    "tags": []
   },
   "source": [
    "```{admonition} Solution\n",
    ":class: dropdown\n",
    "```python\n",
    "def rescale(input_list):\n",
    "    list_min = min(input_list)\n",
    "    list_max = max(input_list)    \n",
    "    output_list = []\n",
    "    for i in input_list:\n",
    "        scaled_i = (float(i) - list_min) / (list_max - list_min)\n",
    "        output_list.append(scaled_i)\n",
    "    return output_list\n",
    "```\n",
    "```"
   ]
  },
  {
   "cell_type": "markdown",
   "id": "725b7ce5-3881-494e-bbbd-ecca032db248",
   "metadata": {
    "editable": true,
    "slideshow": {
     "slide_type": ""
    },
    "tags": []
   },
   "source": [
    "## Improving our function with docstrings\n",
    "\n",
    "Now that we have written a few functions, we should add  some docstrings. A docstring is a small explanation of the expected functionality of the function, as well as descriptions of the function parameters, and any returns. There are lots of styles of docstrings. See here for the Google style.\n",
    "\n",
    "It is good habit to write a docstring for every single function you create. Even if noone reads your code, you will forget why you wrote this function in a years time. Dont be that person with no docstrings!\n",
    "Add a Google-style docstring to your rescale function. Include the expected types of the function parameters."
   ]
  },
  {
   "cell_type": "markdown",
   "id": "55ea9e13-0ee8-4339-83fa-0d376190edcc",
   "metadata": {
    "editable": true,
    "slideshow": {
     "slide_type": ""
    },
    "tags": []
   },
   "source": [
    "```{admonition} Solution\n",
    ":class: dropdown\n",
    "```python\n",
    "def rescale(input_list):\n",
    "    \"\"\"Rescales a list between 0 and 1.\n",
    "    Given an input list, this function rescales each element between 0 and 1. Please only provide lists containing numeric values. \n",
    "    Args:\n",
    "    input_list: A list containing numeric values\n",
    "    Returns:\n",
    "    output_list: The input list, with all elements scaled\n",
    "    \"\"\"\n",
    "    list_min = min(input_list)\n",
    "    list_max = max(input_list)    \n",
    "    output_list = []\n",
    "    for i in input_list:\n",
    "        scaled_i = (float(i) - list_min) / (list_max - list_min)\n",
    "        output_list.append(scaled_i)\n",
    "    return output_list\n",
    "```\n",
    "```"
   ]
  },
  {
   "cell_type": "markdown",
   "id": "9c6a0e1d-ff66-4c2f-a2be-99078ee2c57e",
   "metadata": {
    "editable": true,
    "slideshow": {
     "slide_type": ""
    },
    "tags": []
   },
   "source": [
    "## Defining Defaults\n",
    "Rewrite the `rescale` function so that it scales data to lie between `0.0` and `1.0` by default,but will allow the caller to specify lower and upper bounds if they want. Compare your implementation to your neighbor's: do the two functions always behave the same way?"
   ]
  },
  {
   "cell_type": "markdown",
   "id": "3e388aa4-111b-4f64-9707-888a829e18c0",
   "metadata": {
    "editable": true,
    "slideshow": {
     "slide_type": ""
    },
    "tags": []
   },
   "source": [
    "```{admonition} Solution\n",
    ":class: dropdown\n",
    "```python\n",
    "def rescale(input_list, low_val=50, high_val=100):\n",
    "    list_min = min(input_list)\n",
    "    list_max = max(input_list)\n",
    "    output_list = []\n",
    "    for i in input_list:\n",
    "        intermediate_i = (float(i) - list_min) / (list_max - list_min)\n",
    "        scaled_i = intermediate_i * (high_val - low_val) + low_val\n",
    "        output_list.append(scaled_i)\n",
    "    return output_list\n",
    "```\n",
    "```"
   ]
  },
  {
   "cell_type": "markdown",
   "id": "a8b96007-edcc-4c14-b563-1827282c976a",
   "metadata": {
    "editable": true,
    "slideshow": {
     "slide_type": ""
    },
    "tags": []
   },
   "source": [
    "## Variables Inside and Outside Functions\n",
    "What does the following piece of code display when run --- and why?\n",
    ">"
   ]
  },
  {
   "cell_type": "markdown",
   "id": "af698a78-5825-4ebe-a50a-8298f32b9736",
   "metadata": {
    "editable": true,
    "slideshow": {
     "slide_type": ""
    },
    "tags": []
   },
   "source": [
    "```{admonition} Solution\n",
    ":class: dropdown\n",
    "```python\n",
    "\n",
    "f = 0\n",
    "k = 0\n",
    "def f2k(f):\n",
    "    k = ((f - 32) * (5.0 / 9.0)) + 273.15\n",
    "    return k\n",
    "print(f2k(8))\n",
    "print(f2k(41))\n",
    "print(f2k(32))\n",
    "print(k)\n",
    "```\n",
    "\n",
    "`k` is 0 because the `k` inside the function `f2k` doesn't know about the `k` defined outside the function. When the `f2k` function is called, it creates a [local variable]({{ page.root }}/reference.html#local-variable) `k`. The function does not return any values  and does not alter `k` outside of its local copy.  Therefore the original value of `k` remains unchanged. Beware that a local `k` is created because `f2k` internal statements *affect* a new value to it. If `k` was only `read`, it would simply retrieve the global `k` value.\n",
    "```\n"
   ]
  },
  {
   "cell_type": "markdown",
   "id": "e0bd088f-ed39-4569-8810-7538d9947ffe",
   "metadata": {
    "editable": true,
    "slideshow": {
     "slide_type": ""
    },
    "tags": []
   },
   "source": [
    "## Mixing Default and Non-Default Parameters\n",
    "Given the following code:"
   ]
  },
  {
   "cell_type": "code",
   "execution_count": 22,
   "id": "adc7425d-69e2-41a4-bc0f-637f182791c7",
   "metadata": {
    "editable": true,
    "slideshow": {
     "slide_type": ""
    },
    "tags": []
   },
   "outputs": [],
   "source": [
    "# def numbers(one, two=2, three, four=4):\n",
    "#    n = str(one) + str(two) + str(three) + str(four)\n",
    "#    return n\n",
    "# print(numbers(1, three=3))"
   ]
  },
  {
   "cell_type": "markdown",
   "id": "1672b2da-5032-40b5-9bb0-5a33aa209cdf",
   "metadata": {
    "editable": true,
    "slideshow": {
     "slide_type": ""
    },
    "tags": []
   },
   "source": [
    "What do you expect will be printed?  What is actually printed? What rule do you think Python is following?\n",
    "\n",
    "1.  `1234`\n",
    "2.  `one2three4`\n",
    "3.  `1239`\n",
    "4.  `SyntaxError`"
   ]
  },
  {
   "cell_type": "markdown",
   "id": "be7ff827-639f-4e45-9ce4-29a8938d1156",
   "metadata": {
    "editable": true,
    "slideshow": {
     "slide_type": ""
    },
    "tags": []
   },
   "source": [
    "```{admonition} Solution\n",
    ":class: dropdown\n",
    "Attempting to define the `numbers` function results in `4. SyntaxError`. The defined parameters `two` and `four` are given default values. Because `one` and `three` are not given default values, they are required to be included as arguments when the function is called and must be placed before any parameters that have default values in the function definition.\n",
    "\n",
    "```"
   ]
  },
  {
   "cell_type": "markdown",
   "id": "490b0701-3681-4d50-8feb-22d9b7f7e282",
   "metadata": {
    "editable": true,
    "slideshow": {
     "slide_type": ""
    },
    "tags": []
   },
   "source": [
    "Given that, what does the following piece of code display when run?"
   ]
  },
  {
   "cell_type": "code",
   "execution_count": 19,
   "id": "3cfb4798-2c16-4738-984d-ac0f6b85d62e",
   "metadata": {
    "editable": true,
    "slideshow": {
     "slide_type": ""
    },
    "tags": []
   },
   "outputs": [
    {
     "name": "stdout",
     "output_type": "stream",
     "text": [
      "a:  -1 b:  2 c: 6\n"
     ]
    }
   ],
   "source": [
    "def func(a, b=3, c=6):\n",
    "    print('a: ', a, 'b: ', b, 'c:', c)\n",
    "func(-1, 2)"
   ]
  },
  {
   "cell_type": "markdown",
   "id": "51a8185c-08f7-47ce-97d7-d8e74e638161",
   "metadata": {
    "editable": true,
    "slideshow": {
     "slide_type": ""
    },
    "tags": []
   },
   "source": [
    "1. `a: b: 3 c: 6`\n",
    "2. `a: -1 b: 3 c: 6`\n",
    "3. `a: -1 b: 2 c: 6`\n",
    "4. `a: b: -1 c: 2`"
   ]
  },
  {
   "cell_type": "markdown",
   "id": "3477f85c-ade6-4a8d-994c-64f5787024cc",
   "metadata": {
    "editable": true,
    "slideshow": {
     "slide_type": ""
    },
    "tags": []
   },
   "source": [
    "```{admonition} Solution\n",
    ":class: dropdown\n",
    "The given call to `func` displays `a: -1 b: 2 c: 6`. -1 is assigned to the first parameter `a`, 2 is assigned to the next parameter `b`, and `c` is not passed a value, so it uses its default value 6.\n",
    "\n",
    "```"
   ]
  }
 ],
 "metadata": {
  "kernelspec": {
   "display_name": "Python 3 (ipykernel)",
   "language": "python",
   "name": "python3"
  },
  "language_info": {
   "codemirror_mode": {
    "name": "ipython",
    "version": 3
   },
   "file_extension": ".py",
   "mimetype": "text/x-python",
   "name": "python",
   "nbconvert_exporter": "python",
   "pygments_lexer": "ipython3",
   "version": "3.12.2"
  }
 },
 "nbformat": 4,
 "nbformat_minor": 5
}
