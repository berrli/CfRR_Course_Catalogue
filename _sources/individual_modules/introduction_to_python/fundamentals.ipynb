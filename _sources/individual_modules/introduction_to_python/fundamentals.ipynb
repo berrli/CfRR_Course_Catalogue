{
 "cells": [
  {
   "cell_type": "markdown",
   "id": "8ec0447d-7beb-4c6a-8ecf-c77b4378e780",
   "metadata": {},
   "source": [
    "# Python Fundamentals \n",
    "\n",
    "## Learning Objectives\n",
    "\n",
    "At the end of this lesson you will be able to:\n",
    "\n",
    "- Identify and explain the basic data types used in Python\n",
    "- Create and use new variables in Python\n",
    "- Assign values to variables, and change these values later\n",
    "- Identify and use some built in features and functions of Python\n",
    "- Perform some simple operations on variables\n",
    "\n",
    "## Key points\n",
    "\n",
    "- \"Basic data types in Python include integers, strings, and floating-point numbers.\"\n",
    "- \"Use `variable = value` to assign a value to a variable in order to record it in memory.\"\n",
    "- \"Variables are created on demand whenever a value is assigned to them.\"\n",
    "- \"Use `print(something)` to display the value of `something`.\"\n",
    "- \"Built-in functions are always available to use.\""
   ]
  },
  {
   "cell_type": "markdown",
   "id": "dca1a7b1-3164-4741-939c-84a0403b86e7",
   "metadata": {},
   "source": [
    "## Variables\n",
    "Any Python interpreter can be used as a calculator:"
   ]
  },
  {
   "cell_type": "code",
   "execution_count": 1,
   "id": "fa17d670-0ba3-4f82-a2c6-9685e3c8123f",
   "metadata": {},
   "outputs": [
    {
     "data": {
      "text/plain": [
       "23"
      ]
     },
     "execution_count": 1,
     "metadata": {},
     "output_type": "execute_result"
    }
   ],
   "source": [
    "3 + 5 * 4"
   ]
  },
  {
   "cell_type": "markdown",
   "id": "ec7754c9-ad3e-4071-a62f-c3dc1f63f478",
   "metadata": {},
   "source": [
    "This is great but not very interesting.\n",
    "To do anything useful with data, we need to assign its value to a _variable_.\n",
    "In Python, we can assign a value to a variable, using the equals sign `=`.\n",
    "For example, we can track the weight of a patient who weighs 60 kilograms by\n",
    "assigning the value `60` to a variable `weight_kg`:"
   ]
  },
  {
   "cell_type": "code",
   "execution_count": 2,
   "id": "8b0fcf65-dc9d-4ec3-9a5d-f9ee51b3f4f3",
   "metadata": {},
   "outputs": [],
   "source": [
    "weight_kg = 60"
   ]
  },
  {
   "cell_type": "markdown",
   "id": "c278dc3b-e0ed-4972-b910-ac9a494c5677",
   "metadata": {},
   "source": [
    "From now on, whenever we use `weight_kg`, Python will substitute the value we assigned to\n",
    "it. In layperson's terms, **a variable is a name for a value**.\n",
    "\n",
    "In Python, variable names:\n",
    "\n",
    " - can include letters, digits, and underscores\n",
    " - cannot start with a digit\n",
    " - are case-sensitive.\n",
    "\n",
    "This means that, for example:\n",
    " - `weight0` is a valid variable name, whereas `0weight` is not\n",
    " - `weight` and `Weight` are different variables\n",
    "\n",
    "## Types of data\n",
    "Python knows various types of data. Three common ones are:\n",
    "\n",
    "* integer numbers\n",
    "* floating point numbers, and\n",
    "* strings.\n",
    "\n",
    "In the example above, variable `weight_kg` has an integer value of `60`.\n",
    "If we want to more precisely track the weight of our patient,\n",
    "we can use a floating point value by executing:"
   ]
  },
  {
   "cell_type": "code",
   "execution_count": 3,
   "id": "c0c7127f-19c9-4fdc-9ef0-4314c197b4cf",
   "metadata": {},
   "outputs": [],
   "source": [
    "weight_kg = 60.3"
   ]
  },
  {
   "cell_type": "markdown",
   "id": "68c380f7-9d2c-46f4-baf8-74364c0b24ab",
   "metadata": {},
   "source": [
    "To create a string, we add single or double quotes around some text.\n",
    "To identify and track a patient throughout our study,\n",
    "we can assign each person a unique identifier by storing it in a string:"
   ]
  },
  {
   "cell_type": "code",
   "execution_count": 4,
   "id": "1fabc764-f132-4c4b-b47f-51ab2d672cf7",
   "metadata": {},
   "outputs": [],
   "source": [
    "patient_id = '001'"
   ]
  },
  {
   "cell_type": "markdown",
   "id": "c207de5f-e0a8-40fe-8960-e580a66d34a5",
   "metadata": {},
   "source": [
    "## Using Variables in Python\n",
    "\n",
    "Once we have data stored with variable names, we can make use of it in calculations.\n",
    "We may want to store our patient's weight in pounds as well as kilograms:"
   ]
  },
  {
   "cell_type": "code",
   "execution_count": 5,
   "id": "20942741-1467-4ae7-8546-e63444242e8f",
   "metadata": {},
   "outputs": [],
   "source": [
    "weight_lb = 2.2 * weight_kg"
   ]
  },
  {
   "cell_type": "markdown",
   "id": "eb3fd57a-91ed-4ff9-a2bc-5ffb59918db6",
   "metadata": {},
   "source": [
    "We might decide to add a prefix to our patient identifier:"
   ]
  },
  {
   "cell_type": "code",
   "execution_count": 7,
   "id": "9a6f1f58-c143-4772-94b0-fbff38588c3b",
   "metadata": {},
   "outputs": [],
   "source": [
    "patient_id = 'inflam_' + patient_id"
   ]
  },
  {
   "cell_type": "markdown",
   "id": "b1356ea3-4a1a-43c0-97c2-d54564dc2aaf",
   "metadata": {},
   "source": [
    "## Built-in Python functions\n",
    "\n",
    "To carry out common tasks with data and variables in Python,\n",
    "the language provides us with several built-in functions.\n",
    "To display information to the screen, we use the `print` function:"
   ]
  },
  {
   "cell_type": "code",
   "execution_count": 8,
   "id": "a7aed3c1-f7bb-4d66-93ea-3f56f2a752da",
   "metadata": {},
   "outputs": [
    {
     "name": "stdout",
     "output_type": "stream",
     "text": [
      "132.66\n",
      "inflam_001\n"
     ]
    }
   ],
   "source": [
    "print(weight_lb)\n",
    "print(patient_id)"
   ]
  },
  {
   "cell_type": "markdown",
   "id": "0bfdb359-fba4-4f05-9f9d-37e78002653c",
   "metadata": {},
   "source": [
    "When we want to make use of a function, referred to as calling the function, we follow its name by parentheses. The parentheses are important: if you leave them off, the function doesn't actually run! Sometimes you will include values or variables inside the parentheses for the function to use. In the case of `print`, we use the parentheses to tell the function what value we want to display. We will learn more about how functions work and how to create our own in later episodes.\n",
    "\n",
    "We can display multiple things at once using only one `print` call:"
   ]
  },
  {
   "cell_type": "code",
   "execution_count": 9,
   "id": "b84586f0-ec87-445b-a638-02985391dc66",
   "metadata": {},
   "outputs": [
    {
     "name": "stdout",
     "output_type": "stream",
     "text": [
      "inflam_001 weight in kilograms: 60.3\n"
     ]
    }
   ],
   "source": [
    "print(patient_id, 'weight in kilograms:', weight_kg)"
   ]
  },
  {
   "cell_type": "markdown",
   "id": "2b06a5b0-3ad8-47ab-bdc5-b22cfc3a33b1",
   "metadata": {},
   "source": [
    "We can also call a function inside of another function call. For example, Python has a built-in function called `type` that tells you a value's data type:"
   ]
  },
  {
   "cell_type": "code",
   "execution_count": 10,
   "id": "e37b20d3-7b5e-4528-8e55-8059c5306310",
   "metadata": {},
   "outputs": [
    {
     "name": "stdout",
     "output_type": "stream",
     "text": [
      "<class 'float'>\n",
      "<class 'str'>\n"
     ]
    }
   ],
   "source": [
    "print(type(60.3))\n",
    "print(type(patient_id))"
   ]
  },
  {
   "cell_type": "markdown",
   "id": "85c74d8d-be51-4167-afac-d1b15915210c",
   "metadata": {},
   "source": [
    "Moreover, we can do arithmetic with variables right inside the `print` function:"
   ]
  },
  {
   "cell_type": "code",
   "execution_count": 12,
   "id": "3608d66b-1079-484d-828f-2fc0e43552df",
   "metadata": {},
   "outputs": [
    {
     "name": "stdout",
     "output_type": "stream",
     "text": [
      "weight in pounds: 132.66\n"
     ]
    }
   ],
   "source": [
    "print('weight in pounds:', 2.2 * weight_kg)"
   ]
  },
  {
   "cell_type": "markdown",
   "id": "2e40da50-360f-4168-a4b1-ed2d652ebcf8",
   "metadata": {},
   "source": [
    "The above command, however, did not change the value of `weight_kg`:"
   ]
  },
  {
   "cell_type": "code",
   "execution_count": 13,
   "id": "26669570-2c25-4bfd-9fab-22e3af90322c",
   "metadata": {},
   "outputs": [
    {
     "name": "stdout",
     "output_type": "stream",
     "text": [
      "60.3\n"
     ]
    }
   ],
   "source": [
    "print(weight_kg)"
   ]
  },
  {
   "cell_type": "markdown",
   "id": "bcd40c7a-e73e-463c-a4ff-36c8f27f5ec9",
   "metadata": {},
   "source": [
    "To change the value of the `weight_kg` variable, we have to **assign** `weight_kg` a new value using the equals `=` sign:"
   ]
  },
  {
   "cell_type": "code",
   "execution_count": 14,
   "id": "04e7b629-5e9f-47e2-8a51-a42bcfdc543d",
   "metadata": {},
   "outputs": [
    {
     "name": "stdout",
     "output_type": "stream",
     "text": [
      "weight in kilograms is now: 65.0\n"
     ]
    }
   ],
   "source": [
    "weight_kg = 65.0\n",
    "print('weight in kilograms is now:', weight_kg)"
   ]
  },
  {
   "cell_type": "markdown",
   "id": "acaac65d-a96b-4c8d-bd51-414b0b630f51",
   "metadata": {},
   "source": [
    "## Variables as Sticky Notes\n",
    "\n",
    "A variable in Python is analogous to a sticky note with a name written on it:\n",
    "assigning a value to a variable is like putting that sticky note on a particular value.\n",
    "\n",
    "![Value of 65.0 with weight_kg label stuck on it](images/python-sticky-note-variables-01.svg)\n",
    "\n",
    "Using this analogy, we can investigate how assigning a value to one variable\n",
    "does **not** change values of other, seemingly related, variables.  For\n",
    "example, let's store the subject's weight in pounds in its own variable:"
   ]
  },
  {
   "cell_type": "code",
   "execution_count": 15,
   "id": "2c50eeca-fd34-41be-86da-e9b5177f5a79",
   "metadata": {},
   "outputs": [
    {
     "name": "stdout",
     "output_type": "stream",
     "text": [
      "weight in kilograms: 65.0 and in pounds: 143.0\n"
     ]
    }
   ],
   "source": [
    "# There are 2.2 pounds per kilogram\n",
    "weight_lb = 2.2 * weight_kg\n",
    "print('weight in kilograms:', weight_kg, 'and in pounds:', weight_lb)"
   ]
  },
  {
   "cell_type": "markdown",
   "id": "dcd02af0-c62b-4683-a62f-c90bffe910e4",
   "metadata": {},
   "source": [
    "![Value of 65.0 with weight_kg label stuck on it, and value of 143.0 with weight_lb label\n",
    "stuck on it](images/python-sticky-note-variables-02.svg)\n",
    "\n",
    "Similar to above, the expression `2.2 * weight_kg` is evaluated to `143.0`, and then this value is assigned to the variable `weight_lb` (i.e. the sticky note `weight_lb` is placed on `143.0`). At this point, each variable is \"stuck\" to completely distinct and unrelated values."
   ]
  },
  {
   "cell_type": "markdown",
   "id": "65274fb8-b9fb-4871-afb3-6d207894719f",
   "metadata": {},
   "source": [
    "Let's now change `weight_kg`:"
   ]
  },
  {
   "cell_type": "code",
   "execution_count": 17,
   "id": "41fa49d9-40e8-4b85-8dcb-f32a33ec7048",
   "metadata": {},
   "outputs": [
    {
     "name": "stdout",
     "output_type": "stream",
     "text": [
      "weight in kilograms is now: 100.0 and weight in pounds is still: 143.0\n"
     ]
    }
   ],
   "source": [
    "weight_kg = 100.0\n",
    "print('weight in kilograms is now:', weight_kg, 'and weight in pounds is still:', weight_lb)"
   ]
  },
  {
   "cell_type": "markdown",
   "id": "219c233d-53b1-4567-866c-0d2d1a8e7512",
   "metadata": {},
   "source": [
    "![Value of 100.0 with label weight_kg stuck on it, and value of 143.0 with label weight_lb\n",
    "stuck on it](images/python-sticky-note-variables-03.svg)\n",
    "\n",
    "Since `weight_lb` doesn't \"remember\" where its value comes from, it is not updated when we change `weight_kg`."
   ]
  },
  {
   "cell_type": "markdown",
   "id": "d7b02a06-3d8a-43fd-b12d-960caed1e224",
   "metadata": {},
   "source": [
    "## Check Your Understanding\n",
    "\n",
    "What values do the variables `mass` and `age` have after each of the following statements? Test your answer by executing the lines."
   ]
  },
  {
   "cell_type": "code",
   "execution_count": 18,
   "id": "770e7542-dc0c-44b7-8771-33e0b2473ee4",
   "metadata": {},
   "outputs": [],
   "source": [
    "mass = 47.5\n",
    "age = 122\n",
    "mass = mass * 2.0\n",
    "age = age - 20"
   ]
  },
  {
   "cell_type": "markdown",
   "id": "4de878c2-63e5-47a0-86e5-c889fc6d0bb2",
   "metadata": {},
   "source": [
    "```{admonition} Solution\n",
    ":class: dropdown\n",
    "1. `mass` holds a value of 47.5, `age` does not exist\n",
    "2. `mass` still holds a value of 47.5, `age` holds a value of 122\n",
    "3. `mass` now has a value of 95.0, `age`'s value is still 122\n",
    "4. `mass` still has a value of 95.0, `age` now holds 102\n",
    "```"
   ]
  },
  {
   "cell_type": "markdown",
   "id": "923cd5b9-aa7d-47f0-9f20-e0a6ce024aca",
   "metadata": {},
   "source": [
    "## Sorting Out References\n",
    "\n",
    "Python allows you to assign multiple values to multiple variables in one line by separatingthe variables and values with commas. What does the following program print out?"
   ]
  },
  {
   "cell_type": "code",
   "execution_count": 19,
   "id": "fce6d6e4-0ca6-478b-b470-918f84ebdb13",
   "metadata": {},
   "outputs": [
    {
     "name": "stdout",
     "output_type": "stream",
     "text": [
      "Hopper Grace\n"
     ]
    }
   ],
   "source": [
    "first, second = 'Grace', 'Hopper'\n",
    "third, fourth = second, first\n",
    "\n",
    "# Solution Code\n",
    "#print(third, fourth)"
   ]
  },
  {
   "cell_type": "markdown",
   "id": "55ac9c6a-ac3e-47b4-b9e7-bfaf54d17c82",
   "metadata": {},
   "source": [
    "```{admonition} Solution\n",
    ":class: dropdown\n",
    "Hopper Grace\n",
    "```"
   ]
  },
  {
   "cell_type": "markdown",
   "id": "9564663f-54d6-4d14-97b3-a635902c92cb",
   "metadata": {},
   "source": [
    "## Seeing Data Types\n",
    "\n",
    "What are the data types of the following variables?"
   ]
  },
  {
   "cell_type": "code",
   "execution_count": null,
   "id": "859efaf3-fa62-431a-a4c9-edecc59561c8",
   "metadata": {},
   "outputs": [],
   "source": [
    "planet = 'Earth'\n",
    "apples = 5\n",
    "distance = 10.5\n",
    "\n",
    "# Solution Code\n",
    "#print(type(planet))\n",
    "#print(type(apples))\n",
    "#print(type(distance))"
   ]
  },
  {
   "cell_type": "markdown",
   "id": "b8596c41-82d7-4e72-8b30-214c34a7545d",
   "metadata": {},
   "source": [
    "```{admonition} Solution\n",
    ":class: dropdown\n",
    "<class 'str'>\n",
    "\n",
    "<class 'int'>\n",
    "\n",
    "<class 'float'>\n",
    "\n",
    "```\n",
    "\n",
    "\n",
    "\n"
   ]
  }
 ],
 "metadata": {
  "kernelspec": {
   "display_name": "Python 3 (ipykernel)",
   "language": "python",
   "name": "python3"
  },
  "language_info": {
   "codemirror_mode": {
    "name": "ipython",
    "version": 3
   },
   "file_extension": ".py",
   "mimetype": "text/x-python",
   "name": "python",
   "nbconvert_exporter": "python",
   "pygments_lexer": "ipython3",
   "version": "3.12.2"
  }
 },
 "nbformat": 4,
 "nbformat_minor": 5
}
