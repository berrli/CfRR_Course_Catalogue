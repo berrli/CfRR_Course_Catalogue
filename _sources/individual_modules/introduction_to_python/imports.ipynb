{
 "cells": [
  {
   "cell_type": "markdown",
   "id": "584fd347-192b-4b4f-af38-264c5132e694",
   "metadata": {},
   "source": [
    "# Imports\n",
    "## Learning Objectives\n",
    "\n",
    "At the end of this lesson you will be able to:\n",
    "\n",
    "- Import some key Python modules from the Python Standard Library\n",
    "- Understand how to use the functions they include\n",
    "- Identify some of the main packages available on PyPi, an online repository\n",
    "- Install these, and check they work\n",
    "\n",
    "## The Python standard library\n",
    "\n",
    "So far, we have only used a tiny portion of the Python Standard Library. This is a collection of modules that are installed when you install Python. However, the Standard Library contains many more modules that will be of use to us. Lets jump right in.\n",
    "\n",
    "## Importing a module\n",
    "\n",
    "We can import modules included with the standard library immediately. For example, the `math` module gives access to the underlying C library functions for floating point math. Lets import it using the `import` function.\n"
   ]
  },
  {
   "cell_type": "code",
   "execution_count": 1,
   "id": "57b85794-9225-488f-9cc8-fb2771e146a2",
   "metadata": {},
   "outputs": [],
   "source": [
    "import math"
   ]
  },
  {
   "cell_type": "markdown",
   "id": "5dd44b38-cd38-417b-9334-eba30243c7b3",
   "metadata": {},
   "source": [
    "For standard library modules, you do not need to get the package from an external repository. As such, you shouldnt get an error when importing them.\n",
    "\n",
    "Try importing a module with an incorrect name:"
   ]
  },
  {
   "cell_type": "code",
   "execution_count": 2,
   "id": "d33e4926-86ab-4605-981b-7a57ff8642f3",
   "metadata": {},
   "outputs": [],
   "source": [
    "#import thisisanincorrectmodulename"
   ]
  },
  {
   "cell_type": "markdown",
   "id": "9178753c-3d5d-48e6-919a-f25621708caa",
   "metadata": {},
   "source": [
    "We might run into a few of these errors when we try to install from external repositories. But dont panic! Usually it means that something has been placed in a strange location, and cant be found.\n",
    "\n",
    "## Using a module\n",
    "\n",
    "Now that we have imported the `math` module, we can access the functions contained within it. This is done using the prefix `math.something`\n",
    "\n",
    "But how do we know what is there for us to use?\n",
    "\n",
    "The first thing to do is to check the documentation. For the `math` module, this can be found [here](https://docs.python.org/3/library/math.html).\n",
    "\n",
    "Lets do a quick calculation with the cosine function and the `pi` constant.\n"
   ]
  },
  {
   "cell_type": "code",
   "execution_count": 3,
   "id": "2a45374d-d404-45ef-a40a-94639db9bad3",
   "metadata": {},
   "outputs": [
    {
     "data": {
      "text/plain": [
       "0.7071067811865476"
      ]
     },
     "execution_count": 3,
     "metadata": {},
     "output_type": "execute_result"
    }
   ],
   "source": [
    "math.cos(math.pi / 4)"
   ]
  },
  {
   "cell_type": "markdown",
   "id": "d7af3d1e-84d7-44ee-abc3-f669a95d8e2c",
   "metadata": {},
   "source": [
    "In addition to reading the documentation, you can type `math.` and then hit the tab key. This should give you a list of everything available to use.\n",
    "\n",
    "## Exercise: generate random numbers\n",
    "Write a function that returns a list of n random integers between 0 and 100. n should be a function parameter, and you should use the standard library module `random`. The `random` documentation can be found [here](https://docs.python.org/3/library/random.html)."
   ]
  },
  {
   "cell_type": "markdown",
   "id": "f937c30a-cd33-4298-8307-e60bba98c8b9",
   "metadata": {},
   "source": [
    "```{admonition} Solution\n",
    ":class: dropdown\n",
    "```python\n",
    "import random\n",
    "\n",
    "def generate_random(n):\n",
    "    \"\"\"Generates n random numbers between 0 and 100, and places them in a list.\"\"\"\n",
    "    output_list = []\n",
    "    for i in range(0, n):\n",
    "        rand_int = random.randrange(100)\n",
    "        output_list.append(rand_int)\n",
    "    return output_list\n",
    "```\n",
    "```"
   ]
  },
  {
   "cell_type": "markdown",
   "id": "b5a51326-3543-4640-b549-be1ca1dbbf6b",
   "metadata": {},
   "source": [
    "## External Python libraries\n",
    "\n",
    "There are some very common libraries that you will come across very soon into your Python journey. Some of these have been listed below:\n",
    "\n",
    "* [NumPy](https://numpy.org/): Used for array computation, GPU processing, and generally running things really, really fast.\n",
    "* [SciPy](https://scipy.org/): Contains many more complex algorithms, for optimisation, geometry, algebra, statistics, and much more.\n",
    "* [Pandas](https://pandas.pydata.org/): Table-like data structures, and vectorised table operations. Think Excel for millions of rows.\n",
    "* [Matplotlib](https://matplotlib.org/): Plotting library for Python.\n",
    "\n",
    "We will use the following syntax for each of these libraries. This is unfortunately just convention!\n",
    "\n",
    "* `import numpy as np`. Access functions using `np.XXX`.\n",
    "* `import scipy`. Access functions using `scipy.XXX`.\n",
    "* `import pandas as pd`. Access functions as `pd.XXX`.\n",
    "* `import matplotlib.pyplot as plt`. Access functions as `plt.XXX`.\n",
    "\n",
    "## Installing these manually\n",
    "\n",
    "We have asked you to install Anaconda because it contains many packages commonly used for data science and visualisation, including those above. If you have problems importing these (receive error messages when trying to import them), we will do our best to help you out here. However, this troubleshooting will involve reading error messages: please be patient with us!\n",
    "\n",
    "If you want to install these packages manually, we can use various installers.\n",
    "\n",
    "The most common is `pip`. For example, to install `numpy` using `pip`, we type in the shell/terminal/command prompt:\n"
   ]
  },
  {
   "cell_type": "code",
   "execution_count": 5,
   "id": "09538cab-3228-4619-91c6-9b07b4f32dbf",
   "metadata": {},
   "outputs": [],
   "source": [
    "# pip install numpy"
   ]
  },
  {
   "cell_type": "markdown",
   "id": "f6370b1a-6296-4ecc-a8e6-5ea8de404249",
   "metadata": {},
   "source": [
    "If we have installed Anaconda, this contains an installer as well. We can use the following. Note that `numpy` is included with `conda`.\n"
   ]
  },
  {
   "cell_type": "code",
   "execution_count": 8,
   "id": "5608cb69-38b1-4301-a389-bbe2566b4f20",
   "metadata": {},
   "outputs": [],
   "source": [
    "# conda install numpy"
   ]
  },
  {
   "cell_type": "markdown",
   "id": "d45718e9-e724-400e-bd59-46e8ce5b5fdd",
   "metadata": {},
   "source": [
    "\n",
    "\n",
    "\n",
    "## Virtual environments\n",
    "\n",
    "**Note**: This is an intermediate/advanced topic, and something that even proficient Python developers struggle with.\n",
    "\n",
    "By default, the shell commands above will install packages into the base Python environment on your machine. In the future (beyond the scope of Intro to Python), we will try to create a \"clean room\" for each project that we create where we can install things that we need. This clean room is called a virtual environment. This helps us to minimise conflicts between different packages, and keep in control of things like our Python and package versions.\n",
    "\n",
    "Virtual environment management in Python could easily take two sessions to go through, and takes a while to get the hang of. At this stage, you should be aware that:\n",
    "\n",
    "- Virtual environments exist, and should be used per project, to keep project dependencies separate.\n",
    "- They allow you to keep your base Python environment clean.\n",
    "- They can be managed with tools such as Anaconda, Poetry, Virtualenv, Pipenv, and others.\n",
    "- For more information, please start [here](https://docs.python.org/3/tutorial/venv.html).\n"
   ]
  },
  {
   "cell_type": "code",
   "execution_count": null,
   "id": "07f1d862-f365-435f-8d46-be94e470301f",
   "metadata": {},
   "outputs": [],
   "source": []
  }
 ],
 "metadata": {
  "kernelspec": {
   "display_name": "Python 3 (ipykernel)",
   "language": "python",
   "name": "python3"
  },
  "language_info": {
   "codemirror_mode": {
    "name": "ipython",
    "version": 3
   },
   "file_extension": ".py",
   "mimetype": "text/x-python",
   "name": "python",
   "nbconvert_exporter": "python",
   "pygments_lexer": "ipython3",
   "version": "3.12.2"
  }
 },
 "nbformat": 4,
 "nbformat_minor": 5
}
