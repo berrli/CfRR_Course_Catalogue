{
 "cells": [
  {
   "cell_type": "markdown",
   "id": "3091d72c-1e37-4f69-9fba-bd47a30ffbd6",
   "metadata": {},
   "source": [
    "# Motivation and Background\n",
    "## Learning Objectives\n",
    "\n",
    "In this lesson, we will discuss:\n",
    "\n",
    "- Who you are, and why you signed up for this course\n",
    "- Why you should learn to code\n",
    "- Why Python is great!\n",
    "\n",
    "## Who are you?\n",
    "\n",
    "As we begin, and ensure that everyone has a working Python installation, feel free to write in the Teams chat which Department you are from, and any reasons you signed up for this course!  \n",
    "\n",
    "## Why learn to code?\n",
    "\n",
    "Loads of reasons! Focused on researchers specifically:\n",
    "\n",
    "- Code allows you to analyse large (millions of rows) data sets.\n",
    "- Scripts, programs and software are explicit lists of instructions. Hence, analysis performed via code makes this analysis more reproducible, replicable, and robust.\n",
    "- Code allows you to share your analysis with others. It becomes easier to integrate into other systems built with code, such as websites, blogs, dashboards, and other pieces of software.\n",
    "- Code can help create complex visualisations, nicely formatted documents, animations, and other engaging outputs.\n",
    "- Code can speed up repetitive tasks such as editing or renaming files, copying data, and even collecting new data.\n",
    "- Code can help manage multi-user projects, ensuring research is not lost when individuals move on.\n",
    "- Being fluent in even one coding language can open up many career opportunities.\n",
    "\n",
    "But most importantly:\n",
    "\n",
    "- It is fun, and also incredibly satisfying, to build things!\n",
    "\n",
    "## Why Python?\n",
    "\n",
    "- Python is open-source. Code written with Python is freely usable and distributable, even for commercial use.\n",
    "- Python is easy to learn, compared to other programming languages. Its syntax was specifically designed to be easily read and understood, even by amateur developers.\n",
    "- The Python community is large, and community support is easy to find. If you have a problem, someone has probably had the same problem before you!\n",
    "- Python is a general purpose, flexible, versatile language. It can be used for data analysis, building websites, designing software, and anything else you can think of.\n",
    "- If you want explore machine learning, AI, NLP, and similar, most of the cutting edge systems are built with Python.\n",
    "- Python is supported by some huge organisations, such as Amazon, Google, and Facebook.\n",
    "\n",
    "## Why Python over X?\n",
    "\n",
    "Q: MATLAB and R are commonly used in academic settings. Why should I use Python over these?\n",
    "\n",
    "A: There is no right answer, and everyone has their own opinion! At the end of the day, most modern languages are Turing complete, and can solve a variety of problems. However, Python is more popular than both of these languages outside of academia, it has a larger worldwide community, and is the de-facto language for machine learning and AI applications.\n",
    "\n",
    "Some more details are found below:\n",
    "\n",
    "- MATLAB is not open-source, and toolboxes are incredibly expensive. If you plan on ever leaving academia and programming for yourself, or for your own company, you should not learn MATLAB (as you will have to pay huge amounts to avoid wasting your language-specific knowledge). In addition, outside of engineering, MATLAB is less commonly used. MATLAB does have some good features: matrix manipulation in MATLAB is well considered, and Simulink is effective as well. For everything else however, consider another language: Python is an obvious choice.\n",
    "- R is an open-source statistical computing language, with some excellent features for statistics and visualisation, including some fantastic Bayesian and MCMC packages. However, if you plan on linking analysis with cloud services, building websites or applications, or performing other development tasks, a general purpose language such as Python is perhaps a better choice. A good comparison of Python and R is made by IBM [here](https://www.ibm.com/cloud/blog/python-vs-r).\n",
    "\n",
    "## Why NOT Python?\n",
    "\n",
    "Q: What are the reasons I should not learn Python?\n",
    "\n",
    "A: As a beginner, there are none to worry about for a few years! However, compared to languages such as C++ or Rust, Python can be slower (in terms of calculation speed) for certain types of tasks. In addition, if you plan on building web applications, or anything with a front (user-facing) end, you will have to learn Javascript at some point. Even so, Python is a fantastic choice for your first (general) programming language.\n"
   ]
  }
 ],
 "metadata": {
  "kernelspec": {
   "display_name": "Python 3 (ipykernel)",
   "language": "python",
   "name": "python3"
  },
  "language_info": {
   "codemirror_mode": {
    "name": "ipython",
    "version": 3
   },
   "file_extension": ".py",
   "mimetype": "text/x-python",
   "name": "python",
   "nbconvert_exporter": "python",
   "pygments_lexer": "ipython3",
   "version": "3.12.2"
  }
 },
 "nbformat": 4,
 "nbformat_minor": 5
}
