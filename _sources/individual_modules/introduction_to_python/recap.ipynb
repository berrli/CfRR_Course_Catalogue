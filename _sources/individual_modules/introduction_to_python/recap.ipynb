{
 "cells": [
  {
   "cell_type": "markdown",
   "id": "37a8a0f2-cbb7-4d0b-a392-33a72fd87077",
   "metadata": {},
   "source": [
    "# Session 1 Recap\n",
    "\n",
    "## A quick recap:\n",
    "\n",
    "- Fundamentals\n",
    "- Data structures: lists and dictionaries\n",
    "- Control flow: `if`, `elif` & `else`\n",
    "- Loops\n",
    "- Exercise: check your understanding\n",
    "\n",
    "## Fundamentals\n",
    "\n",
    "We can instantiate variables, and assign data values to them. Lets create some data for the greatest car in the world, the Citroen Berlingo Mk1.\n",
    "\n",
    "![ACitroen Berlingo Mk1](images/berlingo.jpg)"
   ]
  },
  {
   "cell_type": "code",
   "execution_count": null,
   "id": "f0d6d3f2-079b-49e3-af03-cd384818d123",
   "metadata": {},
   "outputs": [],
   "source": [
    "make = \"Citroen\"\n",
    "model = \"Berlingo\"\n",
    "color = \"blue\"\n",
    "owner = \"Simon\"\n",
    "sliding_doors = 2\n",
    "other_doors = 3\n",
    "coolness_pc = 95\n",
    "print(f\"My {make} {model} is {coolness_pc}% cool.\")"
   ]
  },
  {
   "cell_type": "markdown",
   "id": "6e8eea80-1d08-489d-80e8-f16ba65429a2",
   "metadata": {},
   "source": [
    "Each variable has a type. We did not have to declare this specifically: Python worked this out based on our data. Some common data types are `string`, `float`, and `int`. We can check the type of a variable using the built-in function, `type`:"
   ]
  },
  {
   "cell_type": "code",
   "execution_count": null,
   "id": "c218010c-84d9-47a2-8412-9c4a7ed2e78e",
   "metadata": {},
   "outputs": [],
   "source": [
    "print(type(owner))"
   ]
  },
  {
   "cell_type": "markdown",
   "id": "79eba64e-c661-4d36-96aa-0ab0a5b742b9",
   "metadata": {},
   "source": [
    "We can write comments using the `#` symbol, or using triple quotes. Lines in these sections will not be executed. An example if shown with the `#` symbol:"
   ]
  },
  {
   "cell_type": "code",
   "execution_count": 2,
   "id": "74784617-3075-439f-b71d-cf4a5d057051",
   "metadata": {},
   "outputs": [
    {
     "name": "stdout",
     "output_type": "stream",
     "text": [
      "Mercedes\n"
     ]
    }
   ],
   "source": [
    "new_car_make = \"Mercedes\"\n",
    "print(new_car_make)"
   ]
  },
  {
   "cell_type": "markdown",
   "id": "a00b68d4-9b3a-411d-a6bf-5d5f1f4f5633",
   "metadata": {},
   "source": [
    "## Lists and dictionaries\n",
    "\n",
    "We can hold more than one piece of data in a data structure. We can use create lists using square brackets, as follows:\n"
   ]
  },
  {
   "cell_type": "code",
   "execution_count": null,
   "id": "57ed2d24-153c-4e4d-b5be-a632085006f1",
   "metadata": {},
   "outputs": [],
   "source": [
    "car_info = [make, model, color, sliding_doors, other_doors]\n",
    "print(car_info)\n",
    "print(type(car_info))"
   ]
  },
  {
   "cell_type": "markdown",
   "id": "d9659fce-731e-43fb-9707-ab2b38f348f2",
   "metadata": {},
   "source": [
    "We can access specific elements of a list using the elements index. Remember that indexing starts from 0."
   ]
  },
  {
   "cell_type": "code",
   "execution_count": null,
   "id": "1d044264-24af-4970-a83e-db917567c3e4",
   "metadata": {},
   "outputs": [],
   "source": [
    "element_2 = car_info[1]\n",
    "print(element_2)\n",
    "print(type(element_2))"
   ]
  },
  {
   "cell_type": "markdown",
   "id": "91788f63-90a9-4f91-9229-bfdb716250d3",
   "metadata": {},
   "source": [
    "Data structures often have built-in functions, or methods, attached to them. These provide fast ways of achieving common tasks. We can use the .append method to insert an element at the final index plus one, of a list:"
   ]
  },
  {
   "cell_type": "code",
   "execution_count": null,
   "id": "2c6a7619-720d-4e73-9494-cb1c8345d138",
   "metadata": {},
   "outputs": [],
   "source": [
    "cost = 2000\n",
    "car_info.append(cost)\n",
    "print(car_info)"
   ]
  },
  {
   "cell_type": "markdown",
   "id": "aae23cec-99fd-4c0a-868c-54fde96ebffd",
   "metadata": {},
   "source": [
    "We can update a list element, using the element's index. Remember that a negative index counts from the end of the list, with an index of -1 indicating the final element index."
   ]
  },
  {
   "cell_type": "code",
   "execution_count": null,
   "id": "0a99ffcf-125e-45fb-b051-2b87bd57cf64",
   "metadata": {},
   "outputs": [],
   "source": [
    "new_cost = 1850\n",
    "car_info[-1] = new_cost\n",
    "print(car_info)"
   ]
  },
  {
   "cell_type": "markdown",
   "id": "529d51fa-88e0-4732-9dd3-7549b3381c31",
   "metadata": {},
   "source": [
    "We can make a dictionary using key, values pairs. Dictionaries are useful when we want to return values, based on a value name, and not an index. For example:"
   ]
  },
  {
   "cell_type": "code",
   "execution_count": null,
   "id": "c0a58edc-5ef0-4ac9-be48-7a8656d91350",
   "metadata": {},
   "outputs": [],
   "source": [
    "car_dict = {\n",
    "    \"make\": \"Citroen\", \n",
    "    \"model\": \"Berlingo\", \n",
    "    \"color\": \"blue\", \n",
    "    \"owner\": \"Simon\", \n",
    "    \"sliding_doors\": 2, \n",
    "    \"other_doors\": 3, \n",
    "    \"coolness_pc\": 95\n",
    "}\n",
    "print(car_dict)\n",
    "print(type(car_dict))"
   ]
  },
  {
   "cell_type": "markdown",
   "id": "c3136bfe-90c5-42ae-a82b-df31da29c6a4",
   "metadata": {},
   "source": [
    "We can then access values based on their key. To access the value associated with the coolness percentage key:"
   ]
  },
  {
   "cell_type": "code",
   "execution_count": null,
   "id": "93285f88-9d4c-4182-af5d-0b2f73489930",
   "metadata": {},
   "outputs": [],
   "source": [
    "print(car_dict[\"coolness_pc\"])"
   ]
  },
  {
   "cell_type": "markdown",
   "id": "68f955f5-defa-484a-82b7-3c64cb2d2239",
   "metadata": {},
   "source": [
    "We can add data to a dictionary in-place, as it is mutable."
   ]
  },
  {
   "cell_type": "code",
   "execution_count": null,
   "id": "05c10fae-19e0-4f0b-b49b-6f1f93fc7309",
   "metadata": {},
   "outputs": [],
   "source": [
    "current_price = 1850\n",
    "car_dict[\"current_price\"] = current_price\n",
    "print(car_dict)"
   ]
  },
  {
   "cell_type": "markdown",
   "id": "fa90eeb0-045c-4f6e-8c9f-2181a5451b6e",
   "metadata": {},
   "source": [
    "Finally, we can access just the keys, just the values, or the key, value pairs of a dictionary, using built-in methods:"
   ]
  },
  {
   "cell_type": "code",
   "execution_count": null,
   "id": "477329b9-9f3d-4728-a86a-d566d474fbca",
   "metadata": {},
   "outputs": [],
   "source": [
    "car_fields = list(car_dict.keys())\n",
    "print(car_fields)"
   ]
  },
  {
   "cell_type": "markdown",
   "id": "c92fecbf-3ad8-4f65-bdee-8ecc1b553a44",
   "metadata": {},
   "source": [
    "## Control flow\n",
    "\n",
    "We can use `if`, `elif` and `else` statements to perform different tasks, based on data values. For example, imagine if we are trying to sell our car, stored in the `car_dict` dictionary. Lets say that we will indicate on our inventory system when a buyer has offered more than 90% of the asking price of a car. We will update the boolean flag when we should sell it.\n"
   ]
  },
  {
   "cell_type": "code",
   "execution_count": null,
   "id": "cb846b73-7a3b-44d6-8ebd-8d0b73b6c8a3",
   "metadata": {},
   "outputs": [],
   "source": [
    "sell_flag = False\n",
    "asking_price = 1500\n",
    "\n",
    "current_price = car_dict[\"current_price\"]\n",
    "\n",
    "if asking_price >= current_price * 0.9:\n",
    "    sell_flag = True\n",
    "    print(\"You got yourself a deal!\")\n",
    "else:\n",
    "    print(\"You're taking the mick matey!\")"
   ]
  },
  {
   "cell_type": "markdown",
   "id": "152ac5b4-2371-470a-8cd3-ff3c467e42b0",
   "metadata": {},
   "source": [
    "Now for an unrealistic example. Lets say a buyer wants a car that is a Berlingo, but has a car to trade in. As a dealer, we are willing to take the car and a lower asking price for the Berlingo if the car is in our desired car list. We can update our system accordingly, using the `and` and `in` operators.\n"
   ]
  },
  {
   "cell_type": "code",
   "execution_count": null,
   "id": "44545f22-7a9b-446b-9b61-7864eb403aad",
   "metadata": {},
   "outputs": [],
   "source": [
    "sell_flag = False\n",
    "desired_cars = [\"Audi\", \"Mercedes\", \"Aston Martin\"]\n",
    "\n",
    "asking_price = 556\n",
    "trade_in_car = \"Audi\"\n",
    "\n",
    "current_price = car_dict[\"current_price\"]\n",
    "\n",
    "if asking_price >= current_price * 0.9:\n",
    "    sell_flag = True\n",
    "    print(\"I'm happy with that.\")\n",
    "elif (trade_in_car in desired_cars) and (asking_price >= current_price * 0.3):\n",
    "    sell_flag = True\n",
    "    print(\"Great to do business with you!\")\n",
    "else:\n",
    "    print(\"Sorry mate thats the best I can do.\")"
   ]
  },
  {
   "cell_type": "markdown",
   "id": "fd80ed4f-5019-4586-bd32-27417dfe7edb",
   "metadata": {},
   "source": [
    "## Loops\n",
    "\n",
    "It is often very helpful to perform calculations over a number of items, usually stored in a data structure. If the data structure is iterable, then we can write a `for` loop to execute operations over each element. For example, lets print out every value in our `car_dict` dictionary:\n"
   ]
  },
  {
   "cell_type": "code",
   "execution_count": null,
   "id": "fdf85f43-b264-4f11-9386-5078f67842f8",
   "metadata": {},
   "outputs": [],
   "source": [
    "for value in car_dict.values():\n",
    "    print(value)"
   ]
  },
  {
   "cell_type": "markdown",
   "id": "b0538e39-710a-40ff-ac9c-51b425ef7d0c",
   "metadata": {},
   "source": [
    "Lets try to multiply every value by 10. Why are some results strange?\n"
   ]
  },
  {
   "cell_type": "code",
   "execution_count": null,
   "id": "913b8c8e-bbda-4164-b6b9-b91318aa686c",
   "metadata": {},
   "outputs": [],
   "source": [
    "for value in car_dict.values():\n",
    "    new_value = value * 10\n",
    "    print(new_value)"
   ]
  },
  {
   "cell_type": "markdown",
   "id": "bbd8e461-03e5-42fc-bd67-0e0d28aaed07",
   "metadata": {},
   "source": [
    "When we use an asterisk operator on a string we are overloading it. It is actually concatenating the string 10 times!\n",
    "\n",
    "## Exercise\n",
    "This is a famous (and now overused) programming task used in interviews. \"Write a program that prints the numbers from 1 to 50. But for multiples of three print “Fizz” instead of the number and for the multiples of five print “Buzz”. For numbers which are multiples of both three and five print “FizzBuzz”.\"\n",
    "\n",
    "Give it a go!\n",
    "\n",
    "## Hint 1\n",
    "In Python, the modulo operator is `%`. This returns the remainder when  dividing one number by another."
   ]
  },
  {
   "cell_type": "code",
   "execution_count": null,
   "id": "18763215-a554-4121-9c95-38e708562d80",
   "metadata": {},
   "outputs": [],
   "source": [
    "print(10 % 5)"
   ]
  },
  {
   "cell_type": "code",
   "execution_count": null,
   "id": "0e122047-cb01-4c98-8e6c-102e6edccc94",
   "metadata": {},
   "outputs": [],
   "source": [
    "print(10 % 3)"
   ]
  },
  {
   "cell_type": "markdown",
   "id": "90f3e429-ff80-4d8f-b423-9d0f014e745a",
   "metadata": {},
   "source": [
    "## Hint 2\n",
    "Here is the control flow for the fizzbuzz problem. Note that the iterator variable is not called `i` in this flowchart (it is called `fizzbuzz`.)\n",
    "![A flowchart of the control flow for the fizzbuzz problem](images/fizzbuzz.png)"
   ]
  },
  {
   "cell_type": "markdown",
   "id": "a00cb791-09cc-48e7-81a7-2e89e1a36ed9",
   "metadata": {},
   "source": [
    "```{admonition} Solution 1\n",
    ":class: dropdown\n",
    "```python\n",
    "for i in range(1, 51):\n",
    "    if i % 3 == 0 and i % 5 == 0:\n",
    "        print(\"fizzbuzz\")\n",
    "    elif i % 3 == 0:\n",
    "        print(\"fizz\")\n",
    "    elif i % 5 == 0:\n",
    "        print(\"buzz\")\n",
    "    else:\n",
    "        print(i)\n",
    "```\n",
    "```"
   ]
  },
  {
   "cell_type": "markdown",
   "id": "5811b937-2580-4369-945a-39d381df5cf9",
   "metadata": {},
   "source": [
    "```{admonition} Solution 2\n",
    ":class: dropdown\n",
    "```python\n",
    "for i in range(1, 51):\n",
    "    s = ''\n",
    "    if not i % 3:\n",
    "        s += 'fizz'\n",
    "    if not i % 5:\n",
    "        s += 'buzz'\n",
    "    if not s:\n",
    "        s = i\n",
    "    print(s)\n",
    "```\n",
    "```"
   ]
  }
 ],
 "metadata": {
  "kernelspec": {
   "display_name": "Python 3 (ipykernel)",
   "language": "python",
   "name": "python3"
  },
  "language_info": {
   "codemirror_mode": {
    "name": "ipython",
    "version": 3
   },
   "file_extension": ".py",
   "mimetype": "text/x-python",
   "name": "python",
   "nbconvert_exporter": "python",
   "pygments_lexer": "ipython3",
   "version": "3.12.2"
  }
 },
 "nbformat": 4,
 "nbformat_minor": 5
}
