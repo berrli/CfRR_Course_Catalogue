{
 "cells": [
  {
   "cell_type": "markdown",
   "id": "b629b764-2854-40ce-ab2a-1192d0825b7e",
   "metadata": {
    "editable": true,
    "slideshow": {
     "slide_type": ""
    },
    "tags": []
   },
   "source": [
    "# Scikit-Learn "
   ]
  },
  {
   "cell_type": "code",
   "execution_count": 1,
   "id": "1fd7b159-8e6f-4894-b1a2-afd7c405ee08",
   "metadata": {
    "editable": true,
    "slideshow": {
     "slide_type": ""
    },
    "tags": []
   },
   "outputs": [],
   "source": [
    "# import the packages used before and read in the required data\n",
    "import pandas as pd\n",
    "import matplotlib.pyplot as plt\n",
    "air_pollution_data_2023_complete_dataset = pd.read_csv(\"data/LEED_air_pollution_monitoring_station_2023_complete_dataset.csv\", index_col=0)\n",
    "air_pollution_data_2023_complete_dataset = air_pollution_data_2023_complete_dataset.dropna()"
   ]
  },
  {
   "cell_type": "code",
   "execution_count": 2,
   "id": "da886804-40e5-445f-a61d-1a80a84a9558",
   "metadata": {},
   "outputs": [
    {
     "ename": "ModuleNotFoundError",
     "evalue": "No module named 'sklearn'",
     "output_type": "error",
     "traceback": [
      "\u001b[0;31m---------------------------------------------------------------------------\u001b[0m",
      "\u001b[0;31mModuleNotFoundError\u001b[0m                       Traceback (most recent call last)",
      "Cell \u001b[0;32mIn[2], line 2\u001b[0m\n\u001b[1;32m      1\u001b[0m \u001b[38;5;66;03m# scikit learn can be imported with the the following command\u001b[39;00m\n\u001b[0;32m----> 2\u001b[0m \u001b[38;5;28;01mimport\u001b[39;00m \u001b[38;5;21;01msklearn\u001b[39;00m\n",
      "\u001b[0;31mModuleNotFoundError\u001b[0m: No module named 'sklearn'"
     ]
    }
   ],
   "source": [
    "# scikit learn can be imported with the the following command\n",
    "import sklearn"
   ]
  },
  {
   "cell_type": "markdown",
   "id": "601a8215-a645-4fe6-8334-1dc7434a589b",
   "metadata": {},
   "source": [
    "## What is Scikit-Learn?\n",
    "\n",
    "Scikit-Learn is a popular Python package that provides a set of algorithms and tools for machine learning that are both easy to use and effective. The package includes support for various tasks, including classification, regression, clustering, dimensionality reduction and model selection and normalization.\n",
    "\n",
    "In scikit-learn the models that are avaliable include a massive number of possible arguements, and so for the purpose of this course the default arguements have been used. \n",
    "\n",
    "\n"
   ]
  },
  {
   "cell_type": "code",
   "execution_count": null,
   "id": "46f26ec1-c4a5-42f3-9f50-1ad40b0021f5",
   "metadata": {},
   "outputs": [],
   "source": [
    "air_pollution_data_2023_complete_dataset[\"date\"] = pd.to_datetime(air_pollution_data_2023_complete_dataset[\"date\"], format=\"%d/%m/%Y %H:%M\")\n",
    "air_pollution_data_2023_complete_dataset[\"Hour\"] = air_pollution_data_2023_complete_dataset[\"date\"].dt.hour"
   ]
  },
  {
   "cell_type": "code",
   "execution_count": null,
   "id": "9950fa3b-8d1d-403d-960a-bf761f3a654a",
   "metadata": {},
   "outputs": [],
   "source": [
    "display(air_pollution_data_2023_complete_dataset.head())"
   ]
  },
  {
   "cell_type": "markdown",
   "id": "a0f70a32-37f1-49a3-8f25-c213e4fd6102",
   "metadata": {},
   "source": [
    "## Linear Regression\n",
    "Linear regression is a simple model that is able to predict a dependent variable based on one or more independent variables, with the assumption of a linear relationship between the two. "
   ]
  },
  {
   "cell_type": "code",
   "execution_count": null,
   "id": "ff0b337d-d984-40cc-82e9-89f7a45c7ecd",
   "metadata": {},
   "outputs": [],
   "source": [
    "from sklearn.linear_model import LinearRegression\n",
    "import numpy as np\n",
    "\n",
    "# Create some simple data\n",
    "X = air_pollution_data_2023_complete_dataset[[\"Wind Speed\"]]\n",
    "y = air_pollution_data_2023_complete_dataset[[\"NO2\"]]\n",
    "\n",
    "# Train a linear regression model\n",
    "model = LinearRegression()\n",
    "model.fit(X, y)\n",
    "\n",
    "# Plotting the data points\n",
    "plt.scatter(X, y, color='blue', label='Observations', alpha=0.05)\n",
    "\n",
    "# Predicting the values to draw the regression line\n",
    "# We use minimum and maximum values of X to cover the whole range of data\n",
    "X_new = np.linspace(X.min(), X.max(), 100).reshape(-1, 1)  # Making it a column vector\n",
    "y_predict = model.predict(X_new)\n",
    "\n",
    "# Plotting the regression line\n",
    "plt.plot(X_new, y_predict, color='red', linewidth=2, label='Regression Line')\n",
    "\n",
    "# Adding title and labels\n",
    "plt.title('Relationship Between Wind Speed and NO$_2$ Levels')\n",
    "plt.xlabel('Wind Speed m/s')\n",
    "plt.ylabel('NO$_2$ Concentration')\n",
    "plt.legend()\n",
    "\n",
    "# Show the plot\n",
    "plt.show()\n",
    "\n",
    "\n",
    "# Extracting and printing the intercept and slope\n",
    "intercept = model.intercept_\n",
    "slope = model.coef_\n",
    "\n",
    "print(\"Intercept of the regression line:\", intercept[0])  # Intercept is usually an array with a single element\n",
    "print(\"Slope of the regression line:\", slope[0][0])  # Slope is an array of arrays, each containing one element per feature"
   ]
  },
  {
   "cell_type": "code",
   "execution_count": null,
   "id": "c47368e9-c0c4-4ebf-a50a-96d64df0cae9",
   "metadata": {},
   "outputs": [],
   "source": [
    "from jupyterquiz import display_quiz\n",
    "display_quiz(\"../../questions/scikitlearn_question_linear_regression_question.json\")"
   ]
  },
  {
   "cell_type": "markdown",
   "id": "06b1be83-6562-4c23-8313-9677f0814b8e",
   "metadata": {},
   "source": [
    "## K-Means Clustering \n",
    "K-means clustering is a method for parritioning data into a specified number of clusters by minimizing the variance within each cluster."
   ]
  },
  {
   "cell_type": "code",
   "execution_count": null,
   "id": "47ce8b70-1587-4378-96b5-69a3717bd53e",
   "metadata": {},
   "outputs": [],
   "source": [
    "from sklearn.cluster import KMeans\n",
    "import numpy as np\n",
    "\n",
    "# Set the number of clusters\n",
    "k = 3  # Example number of clusters\n",
    "\n",
    "# Create KMeans model\n",
    "kmeans = KMeans(n_clusters=k, random_state=0)\n",
    "\n",
    "# Fit the model\n",
    "clusters = kmeans.fit_predict(air_pollution_data_2023_complete_dataset[['NO2', 'Temperature']])"
   ]
  },
  {
   "cell_type": "code",
   "execution_count": null,
   "id": "94af357d-5d27-4541-a442-ff2d29c5b24b",
   "metadata": {},
   "outputs": [],
   "source": [
    "# Assuming 'clusters' has been added to your DataFrame\n",
    "air_pollution_data_2023_complete_dataset['cluster'] = clusters\n",
    "\n",
    "# Define a list of colors or use a colormap with discrete colors\n",
    "colors = plt.cm.get_cmap('tab10', len(air_pollution_data_2023_complete_dataset['cluster'].unique()))  # 'tab10' supports up to 10 unique categories\n",
    "\n",
    "# Plotting clusters categorically\n",
    "plt.figure(figsize=(10, 6))\n",
    "scatter = plt.scatter(air_pollution_data_2023_complete_dataset['NO2'], air_pollution_data_2023_complete_dataset['Wind Speed'], \n",
    "                      c=air_pollution_data_2023_complete_dataset['cluster'], cmap=colors, alpha=0.5)\n",
    "\n",
    "plt.title('Clusters of Air Pollution Data')\n",
    "plt.xlabel('NO2 Concentration')\n",
    "plt.ylabel('Wind Speed')  # Adjusted to match the y-axis label with your data\n",
    "\n",
    "# Create a legend for clusters\n",
    "# Create handles and labels for the legend\n",
    "handles, labels = scatter.legend_elements(prop='colors')\n",
    "plt.legend(handles, labels, title=\"Clusters\")\n",
    "\n",
    "plt.show()\n"
   ]
  },
  {
   "cell_type": "code",
   "execution_count": null,
   "id": "295aa375-393b-4d1f-9f3c-c221fa21e0b5",
   "metadata": {},
   "outputs": [],
   "source": [
    "display_quiz(\"../../questions/sciktilearn_question_kmeans.json\")"
   ]
  },
  {
   "cell_type": "markdown",
   "id": "ff85e826-ccea-439b-ac60-555059067ed9",
   "metadata": {},
   "source": [
    "## Decision Tree Models\n",
    "Decision Trees are a model framework that splits data into branches based on the some input data, in out case wind speed. The model resembles a tree structure with decision points and leaf nodes where each decision leads to further splits, eventually ending on a final prediction based on the input features."
   ]
  },
  {
   "cell_type": "code",
   "execution_count": null,
   "id": "14617d91-10d1-4369-ae06-e33f6ac2c9de",
   "metadata": {},
   "outputs": [],
   "source": [
    "from sklearn.tree import DecisionTreeRegressor\n",
    "\n",
    "# Initialize the model\n",
    "decision_tree_regressor = DecisionTreeRegressor(random_state=42, max_depth=2)\n",
    "\n",
    "# Train the model on the entire dataset\n",
    "decision_tree_regressor.fit(air_pollution_data_2023_complete_dataset[[\"Wind Speed\"]], air_pollution_data_2023_complete_dataset[\"NO2\"])\n",
    "\n",
    "\n",
    "import matplotlib.pyplot as plt\n",
    "from sklearn.tree import plot_tree\n",
    "\n",
    "# Plot the decision tree\n",
    "plt.figure(figsize=(50,10))\n",
    "plot_tree(decision_tree_regressor, feature_names=['Wind Speed'], filled=True)\n",
    "plt.show()"
   ]
  },
  {
   "cell_type": "code",
   "execution_count": null,
   "id": "c93ee0cc-b30c-4cd6-b5eb-04a59f962e1a",
   "metadata": {},
   "outputs": [],
   "source": [
    "display_quiz(\"../../questions/sciktilearn_question_decision_tree.json\")"
   ]
  },
  {
   "cell_type": "markdown",
   "id": "cef15e32-bce8-4ff3-82d3-244e4efa7132",
   "metadata": {
    "editable": true,
    "slideshow": {
     "slide_type": ""
    },
    "tags": []
   },
   "source": [
    "## Further Models\n",
    "This section of the course has only introducded a very small subset of models that are avaliable, alongside not diving into the different arguements that are avaliable. If you are interested in learning more about the models themselves, and key practical aspects of deploying and ensuring the validity of models you develop then please attend this couses next course \"Introduction to Machine Learning\""
   ]
  }
 ],
 "metadata": {
  "kernelspec": {
   "display_name": "Python 3 (ipykernel)",
   "language": "python",
   "name": "python3"
  },
  "language_info": {
   "codemirror_mode": {
    "name": "ipython",
    "version": 3
   },
   "file_extension": ".py",
   "mimetype": "text/x-python",
   "name": "python",
   "nbconvert_exporter": "python",
   "pygments_lexer": "ipython3",
   "version": "3.9.19"
  }
 },
 "nbformat": 4,
 "nbformat_minor": 5
}
