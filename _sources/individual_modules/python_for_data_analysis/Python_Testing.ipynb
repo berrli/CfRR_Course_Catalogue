{
 "cells": [
  {
   "cell_type": "markdown",
   "metadata": {
    "editable": true,
    "slideshow": {
     "slide_type": ""
    },
    "tags": []
   },
   "source": [
    "# Checking and Testing Code\n",
    "## Learning Objectives\n",
    "\n",
    "At the end of this lesson you will be able to:\n",
    " * Identify appropriate testing goals.\n",
    " * Use the Python assert statement.\n",
    " * Create and run unit-tests.\n",
    " * Use fixtures and mocks.\n",
    " * Check code style and quality using flake8 and mypy.\n",
    " \n",
    "  \n"
   ]
  },
  {
   "cell_type": "markdown",
   "metadata": {
    "editable": true,
    "slideshow": {
     "slide_type": ""
    },
    "tags": []
   },
   "source": [
    "## Testing software\n",
    "\n",
    "Although we cannot prove our code is free of defects, or bugs, we can, and should, establish that it behaves as intended.\n",
    "\n",
    "\n",
    "\n",
    "### System level testing\n",
    "\n",
    "Once we have completed our software we should ensure that it works as intended.  This is referred to as - validation testing.  Typically this will involve taking a sample of input data and ensuring that the output of our software is as expected for the given input.\n",
    "\n",
    "This *validation* testing will tell us in the overall system runs, and produces valid results.  Such tests should be repeated when changes are made to the software, to ensure the changes have not introduced errors.\n",
    "\n",
    "Changes that can impact your software are diverse and include \n",
    "\n",
    " * new Python language releases\n",
    " \n",
    " * upgrades to imported libraries\n",
    " \n",
    " * operating system updates.\n",
    "\n",
    "### Defect testing\n",
    "\n",
    "In a research environment it is often the case that there is no explicit specification for the software we create.\n",
    "\n",
    "By specification we mean something like\n",
    "\n",
    "* Written statement of user requirements - typically \"user stories\"\n",
    "\n",
    "* Functional requirements - e.g what file formats are to be supported\n",
    "\n",
    "* Non-functional requirements - e.g. subject data must be encrypted\n",
    "\n",
    "### Discussion\n",
    "\n",
    "If you don't have a specification for your software, how might you establish suitable tests to find and resolve defects?\n",
    "\n",
    "\n"
   ]
  },
  {
   "cell_type": "markdown",
   "metadata": {
    "editable": true,
    "slideshow": {
     "slide_type": ""
    },
    "tags": []
   },
   "source": [
    "## Assert statement\n",
    "\n",
    "The built-in Python assert statement looks like this -"
   ]
  },
  {
   "cell_type": "code",
   "execution_count": 22,
   "metadata": {},
   "outputs": [],
   "source": [
    "# Try modifying this code to deliberately fail the assert statements\n",
    "\n",
    "def my_add_two(a):\n",
    "    return a + 2.0\n",
    "\n",
    "assert my_add_two(1) == 3\n",
    "# Better to include a message in case of failure\n",
    "assert my_add_two(3) == 5, f\"my_add_two(3) failed with {my_add_two(3)}, expected 5\""
   ]
  },
  {
   "cell_type": "markdown",
   "metadata": {
    "editable": true,
    "slideshow": {
     "slide_type": ""
    },
    "tags": []
   },
   "source": [
    "## When to use assert\n",
    "\n",
    "```assert``` should never be used to modify control flow.\n",
    "\n",
    "Assertions allow you to verify that parts of your program are correct, but are only applied if the internal constant ```__debug__``` is ```True```.  Although ```__debug__``` is usually set to True, it is not guaranteed.\n"
   ]
  },
  {
   "cell_type": "code",
   "execution_count": 23,
   "metadata": {},
   "outputs": [],
   "source": [
    "## This is approximate what the assert statement does \n",
    "\n",
    "def my_assert(condition, message):\n",
    "    if __debug__ and not condition:\n",
    "        raise AssertionError(message)\n",
    "\n",
    "my_assert(my_add_two(1) == 3, \"my_add_two(1) failed\")\n"
   ]
  },
  {
   "cell_type": "markdown",
   "metadata": {
    "editable": true,
    "slideshow": {
     "slide_type": ""
    },
    "tags": []
   },
   "source": [
    "### Why might we want different behaviour from our assert statements?\n",
    "\n",
    "### What would you want your assert statements to do?"
   ]
  },
  {
   "cell_type": "markdown",
   "metadata": {
    "editable": true,
    "slideshow": {
     "slide_type": ""
    },
    "tags": []
   },
   "source": [
    "## Unit-tests\n",
    "\n",
    "Unit-tests are small tests that test the behaviours of our functions and classes.\n",
    "\n",
    "Unit-tests are typically run within a testing framework or test-runner that automates testing, often inside our IDE.\n",
    "\n",
    "### Test Driven Development (TDD)\n",
    "\n",
    "TDD is an approach to software design, it is not software testing. TDD uses unit-tests to create a software design, especially when the design is created incrementally, as with Agile.\n",
    "\n",
    "### Refactoring\n",
    "\n",
    "Whether or not you adopt TDD, refactoring - changing the implementation of your code without changing its behaviour, is something that you are certain to do. If only to remove print statements, or change the names of variables.\n",
    "\n",
    "Refactoring code without appropriate tests can easily introduce new errors."
   ]
  },
  {
   "cell_type": "markdown",
   "metadata": {
    "editable": true,
    "slideshow": {
     "slide_type": ""
    },
    "tags": []
   },
   "source": [
    "## unittest\n",
    "\n",
    "Python 3 distributions include the unittest module.  See https://docs.python.org/3/library/unittest.html\n"
   ]
  },
  {
   "cell_type": "code",
   "execution_count": 24,
   "metadata": {},
   "outputs": [
    {
     "name": "stderr",
     "output_type": "stream",
     "text": [
      "...\n",
      "----------------------------------------------------------------------\n",
      "Ran 3 tests in 0.005s\n",
      "\n",
      "OK\n"
     ]
    },
    {
     "data": {
      "text/plain": [
       "<unittest.main.TestProgram at 0x10b587d10>"
      ]
     },
     "execution_count": 24,
     "metadata": {},
     "output_type": "execute_result"
    }
   ],
   "source": [
    "import unittest\n",
    "\n",
    "class TestMyAddTwo(unittest.TestCase):\n",
    "    def test_my_add_two(self):\n",
    "        self.assertEqual(my_add_two(1), 3)\n",
    "    def test_my_add_two_3(self):\n",
    "        self.assertEqual(my_add_two(3), 5)\n",
    "\n",
    "# unittest.main(argv=[''], exit=False)"
   ]
  },
  {
   "cell_type": "markdown",
   "metadata": {},
   "source": [
    "\n",
    "\n"
   ]
  },
  {
   "cell_type": "markdown",
   "metadata": {
    "editable": true,
    "slideshow": {
     "slide_type": ""
    },
    "tags": []
   },
   "source": [
    "## Fixtures and mocks\n",
    "\n",
    "Ideally each unit of code should be tested independently.\n",
    "\n",
    "### Why is this?\n",
    "\n",
    "However, there are situations where testing code might require data read from a file or a database connection. If only one test requires this external data, then opening the file and reading the data will be part of the test. If several tests require this data, then we use a fixture. \n"
   ]
  },
  {
   "cell_type": "code",
   "execution_count": 25,
   "metadata": {},
   "outputs": [
    {
     "name": "stderr",
     "output_type": "stream",
     "text": [
      "...\n",
      "----------------------------------------------------------------------\n",
      "Ran 3 tests in 0.003s\n",
      "\n",
      "OK\n"
     ]
    },
    {
     "data": {
      "text/plain": [
       "<unittest.main.TestProgram at 0x10b589890>"
      ]
     },
     "execution_count": 25,
     "metadata": {},
     "output_type": "execute_result"
    }
   ],
   "source": [
    "# Module level fixture setup and teardown\n",
    "def setUpModule():\n",
    "    global sample_data\n",
    "    sample_data = open(\"data/rows.txt\", \"r\")\n",
    "\n",
    "def tearDownModule():\n",
    "    sample_data.close()\n",
    "\n",
    "# unittest.main(argv=[''], exit=False)"
   ]
  },
  {
   "cell_type": "code",
   "execution_count": 26,
   "metadata": {},
   "outputs": [],
   "source": [
    "# Class level fixture setup and teardown\n",
    "class TestMyAddTwo(unittest.TestCase):\n",
    "    @classmethod\n",
    "    def setUpClass(cls):\n",
    "        cls.sample_data = open(\"data/rows.txt\", \"r\")\n",
    "\n",
    "    @classmethod\n",
    "    def tearDownClass(cls):\n",
    "        cls.sample_data.close()\n",
    "\n",
    "    def test_file_parsing(self):\n",
    "        for line in self.sample_data:\n",
    "            # Do something with the line\n",
    "            pass\n"
   ]
  },
  {
   "cell_type": "markdown",
   "metadata": {
    "editable": true,
    "slideshow": {
     "slide_type": ""
    },
    "tags": []
   },
   "source": [
    "## Mocks\n",
    "\n",
    "Mock and MagicMock objects create all attributes and methods as you access them and store details of how they have been used. You can configure them, to specify return values or limit what attributes are available.\n",
    "\n",
    "See https://docs.python.org/3/library/unittest.mock.html\n",
    "\n",
    "\n",
    "### How can we test a function that does not return a value?\n"
   ]
  },
  {
   "cell_type": "code",
   "execution_count": 30,
   "metadata": {},
   "outputs": [
    {
     "name": "stdout",
     "output_type": "stream",
     "text": [
      "[1, 2, 3]\n",
      "\n"
     ]
    }
   ],
   "source": [
    "\n",
    "def show_results():\n",
    "    arr = [1, 2, 3]\n",
    "    print(arr)\n",
    "    print()\n",
    "\n",
    "show_results()"
   ]
  },
  {
   "cell_type": "markdown",
   "metadata": {
    "editable": true,
    "slideshow": {
     "slide_type": ""
    },
    "tags": []
   },
   "source": [
    "## Here is a possible test\n",
    "\n"
   ]
  },
  {
   "cell_type": "code",
   "execution_count": 28,
   "metadata": {},
   "outputs": [
    {
     "name": "stderr",
     "output_type": "stream",
     "text": [
      "..\n",
      "----------------------------------------------------------------------\n",
      "Ran 2 tests in 0.003s\n",
      "\n",
      "OK\n"
     ]
    },
    {
     "data": {
      "text/plain": [
       "<unittest.main.TestProgram at 0x10b569950>"
      ]
     },
     "execution_count": 28,
     "metadata": {},
     "output_type": "execute_result"
    }
   ],
   "source": [
    "from unittest.mock import MagicMock\n",
    "\n",
    "class TestShowResults(unittest.TestCase):\n",
    "    def setUp(self):\n",
    "        global print\n",
    "        print = MagicMock()\n",
    "    def tearDown(self):\n",
    "        global print\n",
    "        print = __builtins__.print\n",
    "    def test_show_results(self):\n",
    "        show_results()\n",
    "        self.assertEqual(print.call_count, 2)\n",
    "\n",
    "# unittest.main(argv=[''], exit=False)\n"
   ]
  },
  {
   "cell_type": "markdown",
   "metadata": {
    "editable": true,
    "slideshow": {
     "slide_type": ""
    },
    "tags": []
   },
   "source": [
    "## How does this test work?"
   ]
  },
  {
   "cell_type": "markdown",
   "metadata": {
    "editable": true,
    "slideshow": {
     "slide_type": ""
    },
    "tags": []
   },
   "source": [
    "## 'Linting' code with flake8 and mypy\n",
    "\n",
    "There are various tools that can analyse Python code and suggest fixes or improvements without running the code.\n",
    "\n",
    "These are 'static code checkers' or 'linters' - because they help you remove fluff!\n",
    "\n",
    "### mypy\n",
    "We saw mypy briefly before, it is used to find mistakes in type hints, and can even be used to enforce type hints if desired.\n",
    "\n",
    "https://mypy.readthedocs.io/en/stable/getting_started.html\n",
    "\n",
    "### flake8\n",
    "Flake8 runs a variety of checks on your Python scripts, and can be used with IDEs such as VS Code to help you write clearer, more readable, code.  The, optional, but highly recommended style guide for Python is PEP 8.\n",
    "\n",
    "https://peps.python.org/pep-0008/\n",
    "\n",
    "https://flake8.pycqa.org/en/latest/index.html\n",
    "\n"
   ]
  },
  {
   "cell_type": "markdown",
   "metadata": {
    "editable": true,
    "slideshow": {
     "slide_type": ""
    },
    "tags": []
   },
   "source": [
    "## Test coverage\n",
    "\n",
    "### Coverage.py works in three phases:\n",
    "\n",
    "* Execution: Coverage.py runs your code, and monitors it to see what lines were executed.\n",
    "\n",
    "* Analysis: Coverage.py examines your code to determine what lines could have run.\n",
    "\n",
    "* Reporting: Coverage.py combines the results of execution and analysis to produce a coverage number and an indication of missing execution.\n",
    "\n",
    "See https://coverage.readthedocs.io/en/7.5.3/api.html"
   ]
  },
  {
   "cell_type": "markdown",
   "metadata": {
    "editable": true,
    "slideshow": {
     "slide_type": ""
    },
    "tags": []
   },
   "source": [
    "## Pytest\n",
    "\n",
    "Pytest makes it easier to write and run tests.\n",
    "\n",
    "Pytest uses file and function naming conventions to discover test.  You will rarely need to run a test directly as the framework will find and run tests for you when you modify your code.\n",
    "\n",
    "\n",
    "Follow the instruction here to install pytest  - use a virtual environment.\n",
    "\n",
    "https://docs.pytest.org/en/8.2.x/getting-started.html\n",
    "\n",
    "### Coverage\n",
    "\n",
    "https://pypi.org/project/pytest-cov/\n",
    "\n",
    "### pytest-notebook\n",
    "\n",
    "\n",
    "See https://pytest-notebook.readthedocs.io/en/latest/"
   ]
  },
  {
   "cell_type": "markdown",
   "metadata": {
    "editable": true,
    "slideshow": {
     "slide_type": ""
    },
    "tags": []
   },
   "source": [
    "## Resources\n",
    "\n",
    "See the testing section of https://alan-turing-institute.github.io/rse-course/html/module01_introduction_to_python/index.html"
   ]
  }
 ],
 "metadata": {
  "kernelspec": {
   "display_name": "Python 3 (ipykernel)",
   "language": "python",
   "name": "python3"
  },
  "language_info": {
   "codemirror_mode": {
    "name": "ipython",
    "version": 3
   },
   "file_extension": ".py",
   "mimetype": "text/x-python",
   "name": "python",
   "nbconvert_exporter": "python",
   "pygments_lexer": "ipython3",
   "version": "3.9.19"
  }
 },
 "nbformat": 4,
 "nbformat_minor": 4
}
