{
 "cells": [
  {
   "cell_type": "markdown",
   "metadata": {
    "editable": true,
    "slideshow": {
     "slide_type": ""
    },
    "tags": []
   },
   "source": [
    "# Testing Practical Exercise\n",
    "\n",
    "Python 3 distributions include the unittest module.  See https://docs.python.org/3/library/unittest.html\n",
    "\n",
    "Here is the example included in the Python documentation.\n"
   ]
  },
  {
   "cell_type": "code",
   "execution_count": 1,
   "metadata": {},
   "outputs": [],
   "source": [
    "import unittest\n",
    "\n",
    "class TestStringMethods(unittest.TestCase):\n",
    "\n",
    "    def test_upper(self):\n",
    "        self.assertEqual('foo'.upper(), 'FOO')\n",
    "\n",
    "    def test_isupper(self):\n",
    "        self.assertTrue('FOO'.isupper())\n",
    "        self.assertFalse('Foo'.isupper())\n",
    "\n",
    "    def test_split(self):\n",
    "        s = 'hello world'\n",
    "        self.assertEqual(s.split(), ['hello', 'world'])\n",
    "        # check that s.split fails when the separator is not a string\n",
    "        with self.assertRaises(TypeError):\n",
    "            s.split(2)\n",
    "\n",
    "# unittest.main(argv=['','--failfast'], exit=False)"
   ]
  },
  {
   "cell_type": "markdown",
   "metadata": {
    "editable": true,
    "slideshow": {
     "slide_type": ""
    },
    "tags": []
   },
   "source": [
    "\n",
    "## Exercise 1\n",
    "\n",
    "Using the above as a template create a test class for the Upper class we used earlier.\n",
    "\n",
    "```python\n",
    "class Upper(str):\n",
    "    def __new__(cls, text=\"\"):\n",
    "        return super().__new__(cls, text.upper())\n",
    "```\n",
    "\n",
    "### Important\n",
    "\n",
    "What should (and can) be tested?\n",
    "\n",
    "See https://docs.python.org/3/library/unittest.html\n",
    "\n",
    "\n",
    "## Exercise 2\n",
    "\n",
    "Design a new capability for the class using TDD.\n",
    "\n",
    "Here are some suggestions -\n",
    "\n",
    "* Do not allow strings without at least one letter\n",
    "\n",
    "* Only allow strings that begin with a letter\n",
    "\n",
    "* Limit the length of the string to 10 characters"
   ]
  }
 ],
 "metadata": {
  "kernelspec": {
   "display_name": "Python 3 (ipykernel)",
   "language": "python",
   "name": "python3"
  },
  "language_info": {
   "codemirror_mode": {
    "name": "ipython",
    "version": 3
   },
   "file_extension": ".py",
   "mimetype": "text/x-python",
   "name": "python",
   "nbconvert_exporter": "python",
   "pygments_lexer": "ipython3",
   "version": "3.9.19"
  }
 },
 "nbformat": 4,
 "nbformat_minor": 4
}
