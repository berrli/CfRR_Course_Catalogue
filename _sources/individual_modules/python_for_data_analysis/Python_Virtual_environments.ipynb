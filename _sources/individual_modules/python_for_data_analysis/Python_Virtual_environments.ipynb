{
 "cells": [
  {
   "cell_type": "markdown",
   "metadata": {},
   "source": [
    "## Python - Virtual environments\n",
    "\n",
    "## Learning Objectives\n",
    "\n",
    "At the end of this lesson you will be able to:\n",
    "- Explain the benefits of virtual environments\n",
    "- Configure virtual environments in your chosen development environment\n"
   ]
  },
  {
   "cell_type": "markdown",
   "metadata": {},
   "source": [
    "## Why do we need virtual environments?\n",
    "\n",
    "### Control\n",
    "\n",
    "Virtual environments give you control over the version of Python and the versions of installed libraries (modules).\n",
    "Typically this means you will be using the latest versions of Python and libraries for your latest project.\n",
    "\n",
    "### Freedom to update\n",
    "\n",
    "By using virtual environments you are free to update to new versions of libraries for your latest project, without breaking earlier projects.\n",
    "\n",
    "### Reliable deployment\n",
    "\n",
    "It is far easier to create reproducible and portable software with virtual environments.\n",
    "\n",
    "### System Python!\n",
    "\n",
    "Use of Python is so widespread that some operating systems include Python, for a long time this was Python 2.7 though more recently Python 3 (3.8,3.9) has become a popular default.  It is never a good idea to change this configuration, except with the usual system upgrade tools. \n",
    "\n",
    "## Why not use virtual machines or containers?\n",
    "\n",
    "These have their own place in development and deployment of software.  We are not going to cover them here, except to note -\n",
    "\n",
    "If you find yourself having to do complicated or unusual things with virtual environments, or virtual environments do not provide the facilities or security your software requires, then consider alternatives such as Docker.\n",
    "\n",
    "## Yes, but\n",
    "\n",
    "**I have admin rights so I can install libraries and new Python version for all users.**\n",
    "\n",
    "**Just don't!**\n",
    "\n"
   ]
  },
  {
   "cell_type": "markdown",
   "metadata": {},
   "source": [
    "## venv\n",
    "\n",
    "Tutorial https://docs.python.org/3/tutorial/venv.html\n",
    "\n",
    "```sh\n",
    "python -m venv .venv\n",
    "\n",
    "source .venv/bin/activate\n",
    "```\n",
    "\n",
    "Though in practice your IDE, e.g. VS Code will typically activate environments for you.\n",
    "\n",
    "\n",
    "## Conda\n",
    "\n",
    "https://conda.io/projects/conda/en/latest/user-guide/tasks/manage-environments.html\n",
    "\n",
    "## Pipenv\n",
    "\n",
    "```sh\n",
    "mkdir .venv\n",
    "pipenv install numpy\n",
    "pipenv shell\n",
    "```\n",
    "\n",
    "## Poetry\n",
    "\n",
    "https://python-poetry.org/docs/\n",
    "\n",
    "```sh\n",
    "pipx install poetry\n",
    "```\n",
    "\n",
    "https://python-poetry.org/docs/basic-usage/\n"
   ]
  }
 ],
 "metadata": {
  "kernelspec": {
   "display_name": "Python 3 (ipykernel)",
   "language": "python",
   "name": "python3"
  },
  "language_info": {
   "codemirror_mode": {
    "name": "ipython",
    "version": 3
   },
   "file_extension": ".py",
   "mimetype": "text/x-python",
   "name": "python",
   "nbconvert_exporter": "python",
   "pygments_lexer": "ipython3",
   "version": "3.11.7"
  }
 },
 "nbformat": 4,
 "nbformat_minor": 4
}
