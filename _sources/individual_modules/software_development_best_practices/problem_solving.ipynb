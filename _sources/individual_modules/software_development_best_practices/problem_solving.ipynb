{
 "cells": [
  {
   "cell_type": "markdown",
   "id": "faaedc18-1c2d-4ec4-adb4-097d9e40a1c8",
   "metadata": {},
   "source": [
    "# Problem Solving \n",
    "\n",
    "## Exercise\n",
    "\n",
    "The following narrative describes how two researchers, Sam and Charlie, have got satrted on their research problem. After reading the passage, given what we have discussed so far what are some of the potential processes they could ahve followed to stop them from having to rewrite the code?\n",
    "\n",
    "> Sam wants to train a model to predict whether someone has a certain medical condition - they have clinical data, including diagnoses of the condition. Sam is collaborating with Charlie, and they have a high-level chat about the project, discussing what they would like to get out of the model. Sam is keen to get started so fires up the computer and begins writing code. After some time, Charlie asks Sam to share the uncertainties of the current model predictions - Sam does not have this information. Together, Sam and Charlie make changes to the code. To enable uncertainties to be calculated, they end up having to rewrite a significant amount of the code. Following this, they are stuck with what to do next.\n",
    "\n",
    "\n",
    "`````{admonition} Hint\n",
    ":class: tip\n",
    "- What could Sam and Charlie have discussed at the start of the project?\n",
    "- What could Sam have done before starting to write code?\n",
    "- How could they have avoided rewriting lots of code?\n",
    "`````"
   ]
  },
  {
   "cell_type": "markdown",
   "id": "4c4fe913-baff-4c75-a827-168c7afd2eda",
   "metadata": {},
   "source": [
    "## Fundamentals \n",
    "\n",
    "### Understanding Requirements\n",
    "Before beginning any software project, it's essential to clearly understand and define the requirements. This understanding shapes the software's design and functionality. \n",
    "- **Functional Requirements**: Define what the software should do. For example, a functional requirement could be that the software provides the uncertainty of a prediction. \n",
    "- **Non-Functional Requirements**: Specify how the software should behave. For example, a non-functional requirement might stipulate that the software makes a prediction in less than a minute.\n",
    "\n",
    "Remember, in research contexts, it's common not to know all the requirements upfront. Requirements evolve based on user feedback and project development.\n",
    "\n",
    "### Decomposing the Problem \n",
    "Breaking down a large problem into smaller, manageable tasks is critical for effective problem-solving.\n",
    "\n",
    "- **Process**: Start by identifying the major components necessary for the solution, such as data processing, model training, and results analysis. This method reduces complexity and makes the problem more approachable.\n",
    "- **Independence**: Aim for each component to be as independent as possible to minimize dependencies and simplify integration.\n",
    "\n",
    "### Planning the Codebase Structure \n",
    "Once the problem is decomposed, plan how the software or system will be structured.\n",
    "- **Component Interaction**: Define the inputs and outputs for each component and understand how these components will interact.\n",
    "- **Tools**: Utilize diagrams and models, such as Unified Modeling Language (UML), to visualize and plan the system architecture.\n",
    "- **Programming Paradigms**: Consider using Object-Oriented Programming (OOP) to encapsulate data and functions into objects, which can help in organizing code more efficiently.\n",
    "\n",
    "### Choosing the Right Data Representation \n",
    "Selecting an appropriate data structure is crucial as it can significantly impact the performance and complexity of the software.\n",
    "- **Data Structures**: Assess the operations that each component performs and choose data structures that enhance efficiency and performance. For example, a DataFrame may be used for its ease of manipulation and access.\n",
    "\n",
    "### Selecting Tools and Technologies \n",
    "The choice of tools and technologies can influence the development speed, application performance, and future maintenance.\n",
    "- **Suitability and Familiarity**: Balance between the best-suited tools for the project and those you are familiar with. Consider the learning curve and the project timeline.\n",
    "- **Reusability and Licensing**: Evaluate tools based on their reusability and licensing requirements. For instance, tools requiring fewer specific licenses are more accessible to a broader audience.\n",
    "\n",
    "### Designing for Change and Collaboration\n",
    "Design software with future modifications and teamwork in mind to facilitate maintenance and enhancements.\n",
    "- **Modularity**: Ensure each component has a single responsibility to simplify updates and maintenance.\n",
    "- **Code Quality**: Strive for code that is clean, understandable, and maintainable. Regularly refactoring and reviewing code practices helps in achieving better software quality.\n",
    "\n",
    "### Collaborative Development \n",
    "Engaging with peers during the development process can provide new insights and improve problem-solving.\n",
    "- **Knowledge Sharing**: Discussing issues and solutions with colleagues can help in refining ideas and avoiding potential pitfalls.\n",
    "- **Coding Standards**: Establish clear coding standards and conventions to maintain consistency across the team.\n",
    "\n",
    "**Adapted Content From:**\n",
    "- [Intermediate Research Software Development, The Carpentries Incubator](https://carpentries-incubator.github.io/python-intermediate-development/) ([CC-BY 4.0](https://creativecommons.org/licenses/by/4.0/))\n",
    "- [Decomposition & Style](https://cs.stanford.edu/people/nick/compdocs/Decomposition_and_Style.pdf). Nick Parlante, Stanford University (free for non-commercial use)\n",
    "- [OpenDSA Data Structures and Algorithms Modules Collection](https://opendsa-server.cs.vt.edu/ODSA/Books/Everything/html/IntroDSA.html) ([MIT License](https://opendsa-server.cs.vt.edu/ODSA/lib/license.html))"
   ]
  }
 ],
 "metadata": {
  "kernelspec": {
   "display_name": "Python 3 (ipykernel)",
   "language": "python",
   "name": "python3"
  },
  "language_info": {
   "codemirror_mode": {
    "name": "ipython",
    "version": 3
   },
   "file_extension": ".py",
   "mimetype": "text/x-python",
   "name": "python",
   "nbconvert_exporter": "python",
   "pygments_lexer": "ipython3",
   "version": "3.12.2"
  }
 },
 "nbformat": 4,
 "nbformat_minor": 5
}
