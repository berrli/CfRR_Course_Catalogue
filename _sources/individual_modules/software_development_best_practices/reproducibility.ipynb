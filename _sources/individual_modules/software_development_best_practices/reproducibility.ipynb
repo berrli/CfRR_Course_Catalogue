{
 "cells": [
  {
   "cell_type": "markdown",
   "id": "dafb4329-2206-45d5-aa42-ca8e69b4cd3f",
   "metadata": {},
   "source": [
    "# Reproducibility \n",
    "\n",
    "Reproducibility is fundamental for credible, impactful, and collaborative research. It enhances the credibility of research by enabling verification of results and encourages faster progression in the field due to increased accessibility and shared knowledge. Adopting reproducible practices varies with project scope, but generally includes making research open, reusable, and transparent.\n",
    "\n",
    "## Benefits \n",
    "- Improved research credibility through verifiable results.\n",
    "- Increased citations for open access articles.\n",
    "- Enhanced rate of research progression.\n",
    "- Easier identification and engagement with collaborators.\n",
    "- Broader public access to research findings.\n",
    "- Potential for alternative research impact metrics.\n",
    "\n",
    "## Key Practices\n",
    "- **Openness**: Ensure that all research elements are publicly available and accessible.\n",
    "- **Reusability**: Share data, code, and other outputs in usable formats with appropriate licenses.\n",
    "- **Transparency**: Provide clear documentation on how outputs were produced.\n",
    "- **Quality Assurance and Peer Review**: Implement checks to ensure adherence to reproducible standards.\n",
    "- **Use of Tools**:\n",
    "    - Employ open-source software and version control.\n",
    "    - Minimize manual steps in data processing.\n",
    "    - Manage dependencies, code style, and structure.\n",
    "    - Implement testing and continuous integration.\n",
    "- **Documentation and Access**: Make code and data available on sharing platforms with comprehensive documentation."
   ]
  }
 ],
 "metadata": {
  "kernelspec": {
   "display_name": "Python 3 (ipykernel)",
   "language": "python",
   "name": "python3"
  },
  "language_info": {
   "codemirror_mode": {
    "name": "ipython",
    "version": 3
   },
   "file_extension": ".py",
   "mimetype": "text/x-python",
   "name": "python",
   "nbconvert_exporter": "python",
   "pygments_lexer": "ipython3",
   "version": "3.12.2"
  }
 },
 "nbformat": 4,
 "nbformat_minor": 5
}
