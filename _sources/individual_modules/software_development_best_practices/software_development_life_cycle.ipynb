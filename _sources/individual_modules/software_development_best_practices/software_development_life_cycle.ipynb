{
 "cells": [
  {
   "cell_type": "markdown",
   "id": "2098dcec-61f6-4d5f-a117-b619453608cb",
   "metadata": {},
   "source": [
    "# Software Development Life Cycle & Methodologies"
   ]
  },
  {
   "cell_type": "markdown",
   "id": "5833946b-2b6e-4893-a749-f188e81e3fa6",
   "metadata": {},
   "source": [
    "## Software Development Life Cycle \n",
    "\n",
    "The Software Development Life Cycle (SDLC) offers a structured approach to software projects, emphasizing comprehensive phases that guide the project from conception to completion. This cycle is not solely about programming; rather, it integrates various aspects critical to successful software development. While the number of phases in SDLC can vary, the model we will discuss includes six distinct stages.\n",
    "\n",
    "1. **Requirements Gathering**: This initial phase is crucial as it involves identifying and documenting the exact requirements of the software. Having a clear and detailed understanding of these requirements ensures that the project maintains a focused direction from the start.\n",
    "2. **Design**: With the requirements in hand, the next step is to design the software. This stage determines the basic components of the software and their interactions, as well as the tools and technologies that will be utilized. This careful planning helps in building a robust foundation for the software.\n",
    "3. **Implementation**: Following the design, the actual development of the software takes place. During this phase, developers write the code according to the previously established design specifications, making sure that the software aligns with the outlined requirements.\n",
    "4. **Testing**: Once the software is developed, it undergoes rigorous testing to identify and fix any issues. This phase is vital for verifying whether the software meets the initial requirements and functions reliably under various conditions.\n",
    "5. **Deployment**: After testing, the software is deployed for use. This could mean rolling it out to production environments or making it available to end-users. Deployment is a critical step as it marks the transition of software from development to real-world application.\n",
    "6. **Maintenance**: Post-deployment, the software must be maintained and updated regularly. This phase involves fixing any issues that surface after the deployment and possibly adding new features to accommodate emerging needs or requirements.\n",
    "\n",
    "![Software Development Life Cycle Visualisation](images/software_development_life_cycle.png)\n",
    "\n",
    "The adoption of the SDLC framework brings numerous benefits. It lends predictability to the development process, allowing teams to know their next steps clearly. Each phase offers a checkpoint for quality assurance, helping detect issues early, which can significantly save time and reduce costs. Research has shown that fixing issues in earlier phases is less costly than addressing them later, emphasizing the cost-effectiveness of this method.\n",
    "\n",
    "Incorporating the SDLC into your projects not only streamlines workflows but also enhances the overall quality and sustainability of the software produced. As we delve deeper into each phase, consider these advantages and think about how they apply to various scenarios, fostering a more comprehensive understanding of effective software development practices.\n",
    "\n",
    "**Adapted Content From:**\n",
    "- [Intermediate Research Software Development, The Carpentries Incubator](https://carpentries-incubator.github.io/python-intermediate-development/) ([CC-BY 4.0](https://creativecommons.org/licenses/by/4.0/))\n"
   ]
  },
  {
   "cell_type": "markdown",
   "id": "652742c0-8ddd-438d-8a8b-611002028b7e",
   "metadata": {},
   "source": [
    "## Software Development Methodologies \n",
    "\n",
    "In this section we'll explore some of the most well-known software development methodologies. Understanding these methodologies will help you select the most appropriate approach based on your project requirements and team dynamics. We'll focus primarily on two methodologies: the **Waterfall** model and **Agile** methodology.\n",
    "\n",
    "The Software Development Life Cycle (SDLC) forms the foundation of many software development methodologies. If we were to follow the SDLC phases strictly in the sequence discussed earlier, we would be adopting the Waterfall model. This model is characterized by its linear and sequential approach where the output of one phase acts as the input for the next. Although it is the most traditional of the software development methodologies, it is often criticized for being inflexible due to its rigid structure.\n",
    "\n",
    "In response to the limitations of the Waterfall model, the Agile methodology was developed. Agile is distinct in its flexibility and iterative process. It encompasses various frameworks and practices, but all adhere to the core principles outlined in the \"Manifesto for Agile Software Development.\" This manifesto emphasizes four key values:\n",
    "\n",
    "1. **Individuals and interactions** over processes and tools\n",
    "2. **Working software** over comprehensive documentation\n",
    "3. **Customer collaboration** over contract negotiation\n",
    "4. **Responding to change** over following a plan\n",
    "\n",
    "While acknowledging the importance of the latter elements in each value pair, Agile prioritizes the former, reflecting its emphasis on adaptability and human-centric processes.\n",
    "\n",
    "In practice, especially within Agile frameworks, phases two to four of the SDLC—Design, Implementation, and Testing—are often repeated in cycles known as iterations or sprints. This allows the development team to build the software incrementally and adaptively, reviewing progress and adjusting requirements continuously after each iteration. It’s important to note that while Agile values working software over comprehensive documentation, it does not eliminate the need for documentation altogether. This is a common misconception; Agile methodologies still recognize the importance of appropriate and efficient documentation but suggest that it should not hinder the development process. \n",
    "\n",
    "Each methodology has its strengths and challenges, and understanding these can greatly enhance your approach to software development.\n",
    "\n",
    "![Agile Software Development](images/agile_software_development_methodology.png)\n",
    "\n",
    "**Adapted Content From:**\n",
    "- [Intermediate Research Software Development, The Carpentries Incubator](https://carpentries-incubator.github.io/python-intermediate-development/) ([CC-BY 4.0](https://creativecommons.org/licenses/by/4.0/))\n",
    "- [Manifesto for Agile Software Development](https://agilemanifesto.org) (declaration may be freely copied in any form, but only in its entirety)"
   ]
  },
  {
   "cell_type": "markdown",
   "id": "2f740a9c-5920-4136-b986-bf2efb6caa65",
   "metadata": {},
   "source": [
    "## Agile Development Tools and Techniques \n",
    "\n",
    "Agile development tools and techniques that are beneficial not only in team settings but also for individuals working alone. Agile methodologies, including Scrum, Kanban, and Lean, offer a diverse array of tools and techniques designed to enhance planning, communication, and continuous improvement in software development projects. While these tools are typically associated with team dynamics, many can be adapted effectively for solo work.\n",
    "\n",
    "Here are some key Agile tools and techniques that you might find useful in your day-to-day activities, whether working alone or in a team:\n",
    "\n",
    "1. **Daily Standup**: Traditionally a 15-minute daily meeting for teams, this can be adapted for lone workers as a structured time to review daily goals, assess progress, and identify any blockers. This practice helps in maintaining focus and momentum in your projects.\n",
    "2. **Sprint Planning Meetings**: In a team, members decide the work scope for the next sprint. For solo practitioners, this becomes a personal planning session where you set realistic objectives for a defined period and decide how to achieve them.\n",
    "3. **Show and Tell**: Regularly scheduled in teams to showcase progress, this can be adapted for solo workers by scheduling periodic reviews of your work. You could share these updates with mentors, peers, or stakeholders to gather feedback and maintain accountability.\n",
    "4. **Retrospective Meetings**: Used by teams to reflect on what’s going well and what isn’t, as a solo developer, you can conduct personal retrospectives to critically assess your work, learn from successes and mistakes, and plan improvements.\n",
    "5. **User Stories**: These are brief descriptions of features from the perspective of the end-user. They help in prioritizing tasks by focusing on user needs. Even when working alone, framing tasks as user stories can help maintain user-centered development focus.\n",
    "6. **Backlog**: This is a list of tasks or features prioritized for future attention. Maintaining a well-organized backlog ensures that important tasks are not overlooked and allows for flexible rescheduling according to shifting priorities.\n",
    "7. **Team Walls**: While traditionally a physical or digital board used by teams to track progress visually, a solo worker can adapt this tool to visually organize and track progress on various components of a project. Tools like Trello or Asana can be particularly effective for this purpose.\n",
    "\n",
    "Each of these tools and techniques, while designed for Agile team environments, can be skillfully adapted for individual use. They are instrumental in enhancing productivity, ensuring continuous development, and maintaining clear communication, even with oneself or with remote teams. As you integrate these tools into your workflow, consider how they can be customized to fit your specific work environment and project needs.\n",
    "\n",
    "**Adapted Content From:**\n",
    "- [Agile delivery, GOV.UK Service Manual](https://www.gov.uk/service-manual/agile-delivery) ([Open Government Licence v3.0](https://www.nationalarchives.gov.uk/doc/open-government-licence/version/3/))\n"
   ]
  },
  {
   "cell_type": "markdown",
   "id": "70e1435d-c7bb-45f7-8427-0efc77f09fc0",
   "metadata": {},
   "source": [
    "## Reflection/Discussion\n",
    "\n",
    "Now is a good chance to reflect on the software that you are creating within your own work, and how the topics that have been disucssed so far can be applied within a research context. Some potential questions for you to ask yourself:\n",
    "- What could prove beneficial in a research context?\n",
    "- What could prove difficult in a research context?\n",
    "- How might our current processes need to change?\n"
   ]
  }
 ],
 "metadata": {
  "kernelspec": {
   "display_name": "Python 3 (ipykernel)",
   "language": "python",
   "name": "python3"
  },
  "language_info": {
   "codemirror_mode": {
    "name": "ipython",
    "version": 3
   },
   "file_extension": ".py",
   "mimetype": "text/x-python",
   "name": "python",
   "nbconvert_exporter": "python",
   "pygments_lexer": "ipython3",
   "version": "3.12.2"
  }
 },
 "nbformat": 4,
 "nbformat_minor": 5
}
