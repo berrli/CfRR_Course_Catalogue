{
 "cells": [
  {
   "cell_type": "markdown",
   "id": "0e1264bf-1fcc-4369-a9a7-bd7b1b1a039d",
   "metadata": {},
   "source": [
    "# Testing\n",
    "\n",
    "## Purpose of Testing\n",
    "Testing is essential to ensure that the code performs its intended functions correctly. A single error, such as a misplaced character, can change the output significantly, potentially rendering research results unreliable.\n",
    "\n",
    "## Benefits of Testing\n",
    "- **Efficiency**: Early detection of problems can save time and reduce the amount of effort needed to correct them later.\n",
    "- **Automation and Independence**: Tests can be run any time and can be automated with little overhead once you understand the process.\n",
    "- **Code Quality**: Writing tests often leads to cleaner, more modular code which is easier to test and maintain.\n",
    "\n",
    "## Types of Requirements\n",
    "As discussed earlier in this course, there are two types of requirements: \n",
    "- **Functional Requirements**: These define what the software should do.\n",
    "- **Non-Functional Requirements**: These define how the software should behave, covering aspects like performance, security, and usability.\n",
    "\n",
    "## Testing Strategies \n",
    "### Unit Testing \n",
    "Unit testing involves testing the smallest parts of the software, such as functions, in isolation to ensure they work correctly. Each test should focus on a single aspect to simplify troubleshooting. Tests should cover all potential inputs and outputs, ensuring each unit functions as expected.\n",
    "\n",
    "### Integration Testing \n",
    "Integration testing checks the combined functionality of multiple units to identify issues in their interaction. This ensures that different components of the software work together as expected. Units may be tested in combinations or all at once, especially important in collaborative environments.\n",
    "\n",
    "Remember it is better to write some tests rather than none. Using testing frameworks like pytest can simplify the creation and execution of tests. "
   ]
  },
  {
   "cell_type": "markdown",
   "id": "918a0b53-d26d-4936-9932-8143a387e435",
   "metadata": {},
   "source": [
    "## Practical Exercise: Testing the Fibonacci Function\n",
    "### Objective\n",
    "Reflect on and devise tests for a function that returns the Fibonacci sequence, rather than printing it. A Python function to generate the Fibonacci sequence is given below.\n",
    "\n",
    "### Test Cases to Consider\n",
    "- **Correctness**: Ensure the function returns a list of integers.\n",
    "- **Sequence Accuracy**: Verify that the sequence length is correct and each integer follows the Fibonacci rule (i.e., each number is the sum of the two preceding numbers).\n",
    "- **Edge Cases**: Test minimum sequence length and handle invalid inputs (e.g., sequence lengths less than 3).\n",
    "\n",
    "### Exercise Code "
   ]
  },
  {
   "cell_type": "code",
   "execution_count": 1,
   "id": "c2ac56cb-2dc6-4434-aec5-1384218246f4",
   "metadata": {},
   "outputs": [
    {
     "name": "stdout",
     "output_type": "stream",
     "text": [
      "test_ValueError Passed\n",
      "test_return_type Passed\n",
      "test_sequence_length Passed\n",
      "test_elements_correct Passed\n"
     ]
    }
   ],
   "source": [
    "import typing\n",
    "\n",
    "def generate_fibonacci(sequence_length: int) -> typing.List[int]:\n",
    "    \"\"\"\n",
    "    Generates the Fibonacci sequence up to the required sequence length.\n",
    "\n",
    "    Args:\n",
    "        `sequence_length` (int): Required number of Fibonacci numbers.\n",
    "\n",
    "    Returns:\n",
    "        `sequence` (list): Fibonacci sequence.\n",
    "    \"\"\"\n",
    "\n",
    "    if sequence_length < 3:\n",
    "        raise ValueError(\"Minimum sequence length is 3.\")\n",
    "\n",
    "    sequence = [0, 1]\n",
    "    sequence_length -= 2\n",
    "\n",
    "    while sequence_length > 0:\n",
    "        sequence.append(sequence[-2] + sequence[-1])\n",
    "        sequence_length -= 1\n",
    "\n",
    "    return sequence"
   ]
  },
  {
   "cell_type": "markdown",
   "id": "bfea510c-06ed-46cd-b2b0-a9eee8f33aa8",
   "metadata": {},
   "source": [
    "```{admonition} Example Tests \n",
    ":class: dropdown\n",
    "```python \n",
    "\n",
    "def test_ValueError():\n",
    "    \"\"\"Test the `ValueError` is thrown under appropriate conditions.\"\"\"\n",
    "    try:\n",
    "        generate_fibonacci(2)\n",
    "        print(\"test_ValueError Failed: No ValueError for sequence length < 3\")\n",
    "    except ValueError:\n",
    "        print(\"test_ValueError Passed\")\n",
    "\n",
    "def test_return_type():\n",
    "    \"\"\"Test a list of integers is returned.\"\"\"\n",
    "    sequence = generate_fibonacci(10)\n",
    "    if isinstance(sequence, list) and all(isinstance(element, int) for element in sequence):\n",
    "        print(\"test_return_type Passed\")\n",
    "    else:\n",
    "        print(\"test_return_type Failed: Return type is not list of integers\")\n",
    "\n",
    "def test_sequence_length():\n",
    "    \"\"\"Test the sequence returned is the correct length.\"\"\"\n",
    "    try:\n",
    "        sequence = generate_fibonacci(3)  # Shortest valid sequence.\n",
    "        assert len(sequence) == 3\n",
    "        sequence = generate_fibonacci(10)\n",
    "        assert len(sequence) == 10\n",
    "        print(\"test_sequence_length Passed\")\n",
    "    except AssertionError:\n",
    "        print(\"test_sequence_length Failed: Incorrect sequence length\")\n",
    "\n",
    "def test_elements_correct():\n",
    "    \"\"\"\n",
    "    Test the sequence is the Fibonacci sequence\n",
    "    (i.e. the elements are correct).\n",
    "    \"\"\"\n",
    "    sequence_length = 5\n",
    "    sequence = generate_fibonacci(sequence_length)\n",
    "    try:\n",
    "        for n in range(2, sequence_length):\n",
    "            assert sequence[n] == sequence[n - 1] + sequence[n - 2]\n",
    "        print(\"test_elements_correct Passed\")\n",
    "    except AssertionError:\n",
    "        print(\"test_elements_correct Failed: Incorrect Fibonacci sequence elements\")\n",
    "\n",
    "# Run the individual function tests\n",
    "test_ValueError()\n",
    "test_return_type()\n",
    "test_sequence_length()\n",
    "test_elements_correct()\n",
    "```\n",
    "```"
   ]
  },
  {
   "cell_type": "markdown",
   "id": "7c858603-c3e0-4f8a-a004-534eec2c005e",
   "metadata": {},
   "source": [
    "### Exercise: Automating Testing\n",
    "Explore the use of [pytest](https://docs.pytest.org/en/8.2.x/) to run the tests that you have developed.\n",
    "\n",
    "**Adapted Content From:**\n",
    "- [The Turing Way](https://github.com/alan-turing-institute/the-turing-way) (Copyright © The Turing Way Community) ([CC-BY licence](https://creativecommons.org/licenses/by/4.0/))"
   ]
  }
 ],
 "metadata": {
  "kernelspec": {
   "display_name": "Python 3 (ipykernel)",
   "language": "python",
   "name": "python3"
  },
  "language_info": {
   "codemirror_mode": {
    "name": "ipython",
    "version": 3
   },
   "file_extension": ".py",
   "mimetype": "text/x-python",
   "name": "python",
   "nbconvert_exporter": "python",
   "pygments_lexer": "ipython3",
   "version": "3.12.2"
  }
 },
 "nbformat": 4,
 "nbformat_minor": 5
}
