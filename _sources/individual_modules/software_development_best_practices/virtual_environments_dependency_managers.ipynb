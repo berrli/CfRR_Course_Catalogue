{
 "cells": [
  {
   "cell_type": "markdown",
   "id": "01013824-bd8f-4564-a0ee-aa78b7797c9d",
   "metadata": {},
   "source": [
    "# Virtual Environment and Dependency Managers \n",
    "This session will guide you through the basics of virtual environments and dependency management in Python. \n",
    "\n",
    "## Understanding the Basics \n",
    "### Why Use External Libraries?\n",
    "Most Python projects require external libraries, known as third-party packages or dependencies, like matplotlib. These libraries provide specific functionalities, and sometimes, specific versions are needed for your project.\n",
    "### Dependency Management \n",
    "A dependency manager like pip allows you to specify and manage versions of dependencies required for your projects. It handles the installation and updates of these dependencies.\n",
    "### Virtual Environments \n",
    "Using a virtual environment (venv in Python) helps isolate and manage project-specific dependencies. This isolation simplifies development, testing, and collaboration across different projects and environments."
   ]
  },
  {
   "cell_type": "markdown",
   "id": "56a1a45e-6fa5-42c6-99fd-d46666c7e6e5",
   "metadata": {},
   "source": [
    "## Key Steps and Commands\n",
    "### Creating a Virtual Environment\n",
    "- Open your terminal or command prompt.\n",
    "- Navigate to your project directory.\n",
    "- Create a virtual environment with: `python3 -m venv myenv` (replace `myenv` with your preferred environment name).\n",
    "\n",
    "### Activating the Virtual Environment\n",
    "- On MacOS/Linux, activate with: `source myenv/bin/activate`\n",
    "- On Windows, activate with: source `myenv/Scripts/activate`\n",
    "- Your command prompt will show the environment name in brackets once activated.\n",
    "- Remember, if reactivating later, navigate to your project directory first.\n",
    "\n",
    "### Installing Dependencies\n",
    "- Install a library, e.g., `matplotlib`, by running: `python3 -m pip install matplotlib`\n",
    "- For a specific version, use: `python3 -m pip install matplotlib==3.7.0`\n",
    "- To view installed dependencies: `python3 -m pip list`\n",
    "- To remove a dependency: `python3 -m pip uninstall package-name`\n",
    "\n",
    "### Managing Dependencies with requirements.txt\n",
    "- Generate a `requirements.txt` file: `python3 -m pip freeze > requirements.txt`\n",
    "- This file can be used by others to replicate your environment using: `python3 -m pip install -r requirements.txt`\n",
    "- Update and maintain this file regularly, especially after changes to your environment.\n",
    "### Deactivating the Virtual Environment\n",
    "- Simply run deactivate to exit your virtual environment.\n",
    "- The environment name will disappear from your command prompt.\n",
    "\n",
    "**Adapted Content From:**\n",
    "[Intermediate Research Software Development, The Carpentries Incubator](https://carpentries-incubator.github.io/python-intermediate-development/) ([CC-BY 4.0](https://creativecommons.org/licenses/by/4.0/))\n"
   ]
  }
 ],
 "metadata": {
  "kernelspec": {
   "display_name": "Python 3 (ipykernel)",
   "language": "python",
   "name": "python3"
  },
  "language_info": {
   "codemirror_mode": {
    "name": "ipython",
    "version": 3
   },
   "file_extension": ".py",
   "mimetype": "text/x-python",
   "name": "python",
   "nbconvert_exporter": "python",
   "pygments_lexer": "ipython3",
   "version": "3.12.2"
  }
 },
 "nbformat": 4,
 "nbformat_minor": 5
}
