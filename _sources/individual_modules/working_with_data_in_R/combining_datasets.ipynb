{
 "cells": [
  {
   "cell_type": "markdown",
   "id": "736789fb-48ce-4db3-be30-84c4fb2cbb6a",
   "metadata": {
    "editable": true,
    "slideshow": {
     "slide_type": ""
    },
    "tags": []
   },
   "source": [
    "# Combining Datasets\n",
    "\n",
    "## Outline\n",
    "\n",
    "- Joining datasets\n",
    "\n",
    "\n",
    "## Joining datasets\n",
    "\n",
    "In your data wrangling journey, you will often find yourself wanting to combine\n",
    "one dataframe with some kind of supplementary or partner dataframe. In our\n",
    "case, we have the penguins and weather data stored separately, but if we ever\n",
    "wanted to explore any relationships between them, we'd ideally want them in a\n",
    "single dataframe. This requires lining up the observations and variables\n",
    "in the datasets appropriately, something which is accomplished by performing\n",
    "appropriate **joins**.  \n",
    "  \n",
    "The key to joining is to identify the variables by which you want to join the\n",
    "data. That is, we want to ask the question: which columns in each data are the\n",
    "ones that link them together? In some cases these may be one-to-one matches\n",
    "(e.g. ID numbers to IDs numbers), or in other cases there is data at different\n",
    "levels that need to be lined up.\n",
    "\n",
    "\n",
    "### Left joins\n",
    "\n",
    "There are several kinds of join function in `dplyr`, but we'll just focus on\n",
    "`left_join` and leave you to explore the others for yourself.\n",
    "\n",
    "Like all the join functions, `left_join` takes three arguments: the two dataframes\n",
    "you'd like to join, and the name of the column (or columns) by which to join.\n",
    "\n",
    "```R\n",
    "dplyr::left_join(data_left, data_right, by = <cols_to_join_on>)\n",
    "```\n",
    "\n",
    "The way `left_join` works is to match up the columns given in the `by` column\n",
    "and create a new dataframe by pasting new columns from `data_right` alongside\n",
    "the columns from `data_left`. As many rows from `data_right` are brought in as\n",
    "possible. The 'left' in `left_join` indicates that we're keeping everything from\n",
    "the 'left' dataframe (i.e. the first one) and joining the other dataframe *onto*\n",
    "the 'left' one.\n",
    "\n",
    "It's helpful to use small, toy dataframes to explore how joins work (or remind\n",
    "yourself after a period of time away)."
   ]
  },
  {
   "cell_type": "code",
   "execution_count": 1,
   "id": "c65ff0b1-b762-473b-86a2-963cde9fe129",
   "metadata": {
    "editable": true,
    "slideshow": {
     "slide_type": ""
    },
    "tags": [
     "remove-input"
    ]
   },
   "outputs": [],
   "source": [
    "%load_ext rpy2.ipython"
   ]
  },
  {
   "cell_type": "code",
   "execution_count": 2,
   "id": "fc25cc0d-5194-4893-ad28-4a9798642175",
   "metadata": {
    "editable": true,
    "slideshow": {
     "slide_type": ""
    },
    "tags": []
   },
   "outputs": [],
   "source": [
    "%%R\n",
    "df1 <- data.frame(colA = c(1, 2, 3, 4),\n",
    "                  colB = c(2021, 2022, 2023, 2024),\n",
    "                  colC = c('a', 'b', 'c', 'd'))\n",
    "\n",
    "df2 <- data.frame(colA = c(1, 3),\n",
    "                  colD = c('foo', 'bar'),\n",
    "                  colE = c('dog', 'cat'))"
   ]
  },
  {
   "cell_type": "code",
   "execution_count": 3,
   "id": "e74a2dad-8487-4ff4-8035-c529bd0d819f",
   "metadata": {
    "editable": true,
    "slideshow": {
     "slide_type": ""
    },
    "tags": []
   },
   "outputs": [
    {
     "name": "stdout",
     "output_type": "stream",
     "text": [
      "  colA colB colC\n",
      "1    1 2021    a\n",
      "2    2 2022    b\n",
      "3    3 2023    c\n",
      "4    4 2024    d\n"
     ]
    }
   ],
   "source": [
    "%%R\n",
    "df1"
   ]
  },
  {
   "cell_type": "code",
   "execution_count": 4,
   "id": "601de4a4-5342-4443-a94a-9496b1283917",
   "metadata": {
    "editable": true,
    "slideshow": {
     "slide_type": ""
    },
    "tags": []
   },
   "outputs": [
    {
     "name": "stdout",
     "output_type": "stream",
     "text": [
      "  colA colD colE\n",
      "1    1  foo  dog\n",
      "2    3  bar  cat\n"
     ]
    }
   ],
   "source": [
    "%%R\n",
    "df2"
   ]
  },
  {
   "cell_type": "markdown",
   "id": "39426dbb-ce2e-4add-a369-d4bc2dc357d3",
   "metadata": {
    "editable": true,
    "slideshow": {
     "slide_type": ""
    },
    "tags": []
   },
   "source": [
    "Now let's join `df2` onto `df1` by the column `colA`:"
   ]
  },
  {
   "cell_type": "code",
   "execution_count": 5,
   "id": "6cbeeacd-8ab6-4054-97cb-e78960055176",
   "metadata": {
    "editable": true,
    "slideshow": {
     "slide_type": ""
    },
    "tags": []
   },
   "outputs": [
    {
     "name": "stdout",
     "output_type": "stream",
     "text": [
      "  colA colB colC colD colE\n",
      "1    1 2021    a  foo  dog\n",
      "2    2 2022    b <NA> <NA>\n",
      "3    3 2023    c  bar  cat\n",
      "4    4 2024    d <NA> <NA>\n"
     ]
    }
   ],
   "source": [
    "%%R\n",
    "df1 |>\n",
    "  dplyr::left_join(df2, by = \"colA\")"
   ]
  },
  {
   "cell_type": "markdown",
   "id": "66b762c0-a1b1-45aa-801c-cc48612f3695",
   "metadata": {
    "editable": true,
    "slideshow": {
     "slide_type": ""
    },
    "tags": []
   },
   "source": [
    "Notice:\n",
    "\n",
    "- All the data from the left-hand dataframe, `df1`, is kept (columns `colA` -- `colC`).\n",
    "\n",
    "- The data from the right-hand dataframe `df2` has been brought over\n",
    "  for the rows where the 'by' column `colA` has matching values in the\n",
    "  left-hand dataframe `df1`.\n",
    "  \n",
    "- The rows where there aren't matching values in the 'by' column `colA` have\n",
    "  missing values for the other right-hand dataframe columns (`colD` and `colE`\n",
    "  in this case).\n",
    "\n",
    "\n",
    "### Exercise: left join practice\n",
    "\n",
    "Suppose now the right hand dataframe is as follows:\n"
   ]
  },
  {
   "cell_type": "code",
   "execution_count": 6,
   "id": "51933e3a-41a4-437f-b1e9-8e6b36b684ac",
   "metadata": {
    "editable": true,
    "slideshow": {
     "slide_type": ""
    },
    "tags": []
   },
   "outputs": [],
   "source": [
    "%%R\n",
    "df2 <- data.frame(colA = c(1, 3, 2, 4, 5),\n",
    "                  colD = c('foo', 'bar', 'baz', 'qux', 'foo'),\n",
    "                  colE = c('dog', 'cat', 'mouse', 'rabbit', 'horse'))"
   ]
  },
  {
   "cell_type": "markdown",
   "id": "9c47f1c7-e137-4498-8153-d016310c6ad6",
   "metadata": {
    "editable": true,
    "slideshow": {
     "slide_type": ""
    },
    "tags": []
   },
   "source": [
    "Can you guess what the output of `dplyr::left_join(df1, df2, by = \"colA\")` will\n",
    "be? Check your guess with code below."
   ]
  },
  {
   "cell_type": "code",
   "execution_count": 7,
   "id": "6f73107f-952b-40c8-9028-ea78d6329797",
   "metadata": {
    "editable": true,
    "slideshow": {
     "slide_type": ""
    },
    "tags": []
   },
   "outputs": [
    {
     "name": "stdout",
     "output_type": "stream",
     "text": [
      "  colA colB colC colD   colE\n",
      "1    1 2021    a  foo    dog\n",
      "2    2 2022    b  baz  mouse\n",
      "3    3 2023    c  bar    cat\n",
      "4    4 2024    d  qux rabbit\n"
     ]
    }
   ],
   "source": [
    "%%R\n",
    "df1 |>\n",
    "  dplyr::left_join(df2, by = \"colA\")"
   ]
  },
  {
   "cell_type": "markdown",
   "id": "639ce4d4-4557-4d62-9455-81f863a6cd17",
   "metadata": {
    "editable": true,
    "slideshow": {
     "slide_type": ""
    },
    "tags": []
   },
   "source": [
    "Now what if you swap the order of `df1` and `df2`? Guess the output of\n",
    "`dplyr::left_join(df2, df1, by = \"colA\")` and check your answer below."
   ]
  },
  {
   "cell_type": "code",
   "execution_count": 8,
   "id": "8b6e551d-82e7-4d24-84da-b414c090cb5d",
   "metadata": {
    "editable": true,
    "slideshow": {
     "slide_type": ""
    },
    "tags": []
   },
   "outputs": [
    {
     "name": "stdout",
     "output_type": "stream",
     "text": [
      "  colA colD   colE colB colC\n",
      "1    1  foo    dog 2021    a\n",
      "2    3  bar    cat 2023    c\n",
      "3    2  baz  mouse 2022    b\n",
      "4    4  qux rabbit 2024    d\n",
      "5    5  foo  horse   NA <NA>\n"
     ]
    }
   ],
   "source": [
    "%%R\n",
    "df2 |>\n",
    "  dplyr::left_join(df1, by = \"colA\")"
   ]
  },
  {
   "cell_type": "markdown",
   "id": "bc228487-a705-4d0a-812d-39f54b99ae36",
   "metadata": {
    "editable": true,
    "slideshow": {
     "slide_type": ""
    },
    "tags": []
   },
   "source": [
    "### Optional exercise: repeated keys\n",
    "\n",
    "The values in the 'by' column(s) are sometimes called _keys_ for the join. The\n",
    "rules we described in the above example are not the whole story and can be\n",
    "complicated by the presence of repeated keys.\n",
    "\n",
    "What do you think happens if there are repeated keys? For example, try to\n",
    "guess the output of the following code:"
   ]
  },
  {
   "cell_type": "code",
   "execution_count": 9,
   "id": "dbacf196-b25d-44da-92da-aa6dba28ad9b",
   "metadata": {
    "editable": true,
    "slideshow": {
     "slide_type": ""
    },
    "tags": []
   },
   "outputs": [
    {
     "name": "stdout",
     "output_type": "stream",
     "text": [
      "  colA colB colC colD colE\n",
      "1    1 2021    a  foo  dog\n",
      "2    2 2022    b <NA> <NA>\n",
      "3    3 2023    c  bar  cat\n",
      "4    3 2024    d  bar  cat\n"
     ]
    }
   ],
   "source": [
    "%%R\n",
    "df1 <- data.frame(colA = c(1, 2, 3, 3),  # repeated key 3\n",
    "                  colB = c(2021, 2022, 2023, 2024),\n",
    "                  colC = c('a', 'b', 'c', 'd'))\n",
    "\n",
    "df2 <- data.frame(colA = c(1, 3),\n",
    "                  colD = c('foo', 'bar'),\n",
    "                  colE = c('dog', 'cat'))\n",
    "\n",
    "df1 |>\n",
    "  dplyr::left_join(df2, by = \"colA\")"
   ]
  },
  {
   "cell_type": "markdown",
   "id": "66d444eb-e7b6-47ee-a254-7c814d04c357",
   "metadata": {
    "editable": true,
    "slideshow": {
     "slide_type": ""
    },
    "tags": []
   },
   "source": [
    "Now what if we swap the roles of `df1` and `df2`?"
   ]
  },
  {
   "cell_type": "code",
   "execution_count": 10,
   "id": "989d83a9-9709-485a-a75c-52d3a18df4a9",
   "metadata": {
    "editable": true,
    "slideshow": {
     "slide_type": ""
    },
    "tags": []
   },
   "outputs": [
    {
     "name": "stdout",
     "output_type": "stream",
     "text": [
      "  colA colD colE colB colC\n",
      "1    1  foo  dog 2021    a\n",
      "2    3  bar  cat 2023    c\n",
      "3    3  bar  cat 2024    d\n"
     ]
    }
   ],
   "source": [
    "%%R\n",
    "df2 |>\n",
    "  dplyr::left_join(df1, by = \"colA\")"
   ]
  },
  {
   "cell_type": "markdown",
   "id": "7a739b05-dc38-4e9f-a593-c5658b916f96",
   "metadata": {
    "editable": true,
    "slideshow": {
     "slide_type": ""
    },
    "tags": []
   },
   "source": [
    "#### Warning about doubles\n",
    "\n",
    "It's generally not a good idea to join on a 'by' column (or columns)\n",
    "that are of type double. This is because matching in the join will be done\n",
    "by an exact equality test on the doubles, which can create strange\n",
    "results due to numerical imprecision and be difficult to reproduce. Example: in\n",
    "the following, two doubles that look distinct are considered equal to\n",
    "`1 / 3 = 0.333...`, so 'match' on the `1 / 3` entry in data frame `x`."
   ]
  },
  {
   "cell_type": "code",
   "execution_count": 11,
   "id": "49848de5-6941-4f85-824b-40e09500b956",
   "metadata": {
    "editable": true,
    "slideshow": {
     "slide_type": ""
    },
    "tags": []
   },
   "outputs": [
    {
     "name": "stdout",
     "output_type": "stream",
     "text": [
      "       colA colB.x colB.y\n",
      "1 0.3333333   1000    bar\n",
      "2 0.6666667   2000   <NA>\n"
     ]
    }
   ],
   "source": [
    "%%R\n",
    "x <- data.frame(colA = c(1 / 3, 2 / 3),\n",
    "                colB = c(1000, 2000))\n",
    "\n",
    "y <- data.frame(colA = c(0.33333333333333331, 0.33333333333333334),\n",
    "                colB = c(\"foo\", \"bar\"))\n",
    "\n",
    "dplyr::left_join(x, y, by = \"colA\")"
   ]
  },
  {
   "cell_type": "markdown",
   "id": "799f4541-593c-4b29-bbd6-8b351076f63e",
   "metadata": {
    "editable": true,
    "slideshow": {
     "slide_type": ""
    },
    "tags": []
   },
   "source": [
    "### Exercise: joining penguin and weather data\n",
    "\n",
    "Recall the penguin data from the `palmerpenguins` package. We're going to join\n",
    "this with some annual weather data, taken from the Palmer Station in Antarctica\n",
    "from 1989 - 2019[^1]."
   ]
  },
  {
   "cell_type": "code",
   "execution_count": 12,
   "id": "5b3c334b-ae3e-4a5b-9131-5333179d8786",
   "metadata": {
    "editable": true,
    "slideshow": {
     "slide_type": ""
    },
    "tags": []
   },
   "outputs": [
    {
     "name": "stdout",
     "output_type": "stream",
     "text": [
      "Rows: 35 Columns: 4\n",
      "── Column specification ────────────────────────────────────────────────────────\n",
      "Delimiter: \",\"\n",
      "dbl (4): Year, Average_temp, Max_temp, Min_temp\n",
      "\n",
      "ℹ Use `spec()` to retrieve the full column specification for this data.\n",
      "ℹ Specify the column types or set `show_col_types = FALSE` to quiet this message.\n",
      "# A tibble: 35 × 4\n",
      "    Year Average_temp Max_temp Min_temp\n",
      "   <dbl>        <dbl>    <dbl>    <dbl>\n",
      " 1  1989      NA           7.8    -11.1\n",
      " 2  1990      NA           8.7    -20.6\n",
      " 3  1991      NA           9.8    -18  \n",
      " 4  1992      NA          10.3    -24.7\n",
      " 5  1993      NA          10.1    -17.6\n",
      " 6  1994      -7.2         9      -25.6\n",
      " 7  1995       0.0613      9      -26  \n",
      " 8  1996      -0.642       9.6    -22.7\n",
      " 9  1997      -2.43        9.5    -25.2\n",
      "10  1998      -0.989       8.5    -21.7\n",
      "# ℹ 25 more rows\n",
      "# ℹ Use `print(n = ...)` to see more rows\n"
     ]
    }
   ],
   "source": [
    "%%R\n",
    "library(palmerpenguins)  # loads `penguins` data\n",
    "weather <- readr::read_csv(\"./data/weather_annual.csv\")\n",
    "\n",
    "penguins\n",
    "weather"
   ]
  },
  {
   "cell_type": "markdown",
   "id": "7d38eea4-90e2-49fc-abd3-3a2b4da294a1",
   "metadata": {
    "editable": true,
    "slideshow": {
     "slide_type": ""
    },
    "tags": []
   },
   "source": [
    "Use a join to create a single dataframe that has all the penguin data and\n",
    "weather data combined. Hint: there are some subtleties to be aware of:\n",
    "\n",
    "- First think about which column(s) to join on -- a call to `dplyr::rename`\n",
    "  might be in order!\n",
    "\n",
    "- We should make sure that the 'by' column(s) to join on are of the same type.\n",
    "  Examine the kind of data in each dataframe closely and coerce if necessary!\n"
   ]
  },
  {
   "cell_type": "code",
   "execution_count": 13,
   "id": "c56f2587-4e46-4b38-870a-373faab7a452",
   "metadata": {
    "editable": true,
    "slideshow": {
     "slide_type": ""
    },
    "tags": []
   },
   "outputs": [
    {
     "name": "stdout",
     "output_type": "stream",
     "text": [
      "# A tibble: 344 × 11\n",
      "   species island    bill_length_mm bill_depth_mm flipper_length_mm body_mass_g\n",
      "   <fct>   <fct>              <dbl>         <dbl>             <int>       <int>\n",
      " 1 Adelie  Torgersen           39.1          18.7               181        3750\n",
      " 2 Adelie  Torgersen           39.5          17.4               186        3800\n",
      " 3 Adelie  Torgersen           40.3          18                 195        3250\n",
      " 4 Adelie  Torgersen           NA            NA                  NA          NA\n",
      " 5 Adelie  Torgersen           36.7          19.3               193        3450\n",
      " 6 Adelie  Torgersen           39.3          20.6               190        3650\n",
      " 7 Adelie  Torgersen           38.9          17.8               181        3625\n",
      " 8 Adelie  Torgersen           39.2          19.6               195        4675\n",
      " 9 Adelie  Torgersen           34.1          18.1               193        3475\n",
      "10 Adelie  Torgersen           42            20.2               190        4250\n",
      "# ℹ 334 more rows\n",
      "# ℹ 5 more variables: sex <fct>, year <int>, Average_temp <dbl>,\n",
      "#   Max_temp <dbl>, Min_temp <dbl>\n",
      "# ℹ Use `print(n = ...)` to see more rows\n"
     ]
    }
   ],
   "source": [
    "%%R\n",
    "weather_cleaned <- weather |>\n",
    "  dplyr::rename(year = Year) |>\n",
    "  dplyr::mutate(year = as.integer(year))\n",
    "\n",
    "penguins |>\n",
    "  dplyr::left_join(weather_cleaned, by = \"year\")"
   ]
  },
  {
   "cell_type": "markdown",
   "id": "db8c6b7b-983d-441c-a9cf-374f4c72ff26",
   "metadata": {
    "editable": true,
    "slideshow": {
     "slide_type": ""
    },
    "tags": []
   },
   "source": [
    "## Acknowledgement\n",
    "\n",
    "The material in this notebook is adapted from Eliza Wood's [Tidyverse: Data\n",
    "wrangling & visualization](https://liza-wood.github.io/tidyverse_intro/) course,\n",
    "which is licensed under [Creative Commons BY-NC-SA\n",
    "4.0](https://creativecommons.org/licenses/by-nc-sa/4.0/). This in itself is\n",
    "based on material from [UC Davis's R-DAVIS\n",
    "course](https://gge-ucd.github.io/R-DAVIS/index.html), which draws heavily on\n",
    "[Carpentries](https://datacarpentry.org/R-ecology-lesson/) R lessons.\n",
    "\n",
    "\n",
    "## Footnotes\n",
    "\n",
    "[^1]: The dataset was derived from the following dataset: Palmer Station\n",
    "      Antarctica LTER. 2023. Daily weather averages for Palmer\n",
    "      Station, Antarctica (1989-2023) ver 9. Environmental Data Initiative.\n",
    "      https://doi.org/10.6073/pasta/3eefb45dbfb784c3cabe3690ea46fe9e (Accessed\n",
    "      2024-01-08). See the README in the data folder accompanying these\n",
    "      notebooks for more details."
   ]
  },
  {
   "cell_type": "code",
   "execution_count": null,
   "id": "77074fb0-37ab-4c17-b423-4ad96fe6707f",
   "metadata": {
    "editable": true,
    "slideshow": {
     "slide_type": ""
    },
    "tags": []
   },
   "outputs": [],
   "source": []
  },
  {
   "cell_type": "code",
   "execution_count": null,
   "id": "1edb19c1-38d7-49c9-8bf1-2cfd2d582bbc",
   "metadata": {
    "editable": true,
    "slideshow": {
     "slide_type": ""
    },
    "tags": []
   },
   "outputs": [],
   "source": []
  }
 ],
 "metadata": {
  "kernelspec": {
   "display_name": "Python 3 (ipykernel)",
   "language": "python",
   "name": "python3"
  },
  "language_info": {
   "codemirror_mode": {
    "name": "ipython",
    "version": 3
   },
   "file_extension": ".py",
   "mimetype": "text/x-python",
   "name": "python",
   "nbconvert_exporter": "python",
   "pygments_lexer": "ipython3",
   "version": "3.12.2"
  }
 },
 "nbformat": 4,
 "nbformat_minor": 5
}
