{
 "cells": [
  {
   "cell_type": "markdown",
   "id": "35404a90-6d8d-4493-8783-9a2dc50ff5ea",
   "metadata": {
    "editable": true,
    "slideshow": {
     "slide_type": ""
    },
    "tags": []
   },
   "source": [
    "# Tidyverse\n",
    "\n",
    "## Outline\n",
    "\n",
    "-   What is the Tidyverse?\n",
    "-   Dataframes / tibbles\n",
    "-   Tidy data format\n",
    "\n",
    "\n",
    "## What is the Tidyverse?\n",
    "\n",
    "The [Tidyverse](https://www.tidyverse.org/) is self-described as:\n",
    "\"...an opinionated collection of R packages designed for data science. All packages share an underlying design philosophy, grammar, and data structures'.\"\n",
    "\n",
    "When you install the `tidyverse` package, you install a suite of packages. These\n",
    "include the following; we've marked the ones this course will introduce with a\n",
    "\\->:\n",
    "\n",
    "-   \\-> `readr`: Load 'rectangular' data into an R session (e.g. csv files).\n",
    "-   \\-> `dplyr`: Manipulate data (filtering, computing summaries, etc.)\n",
    "-   \\-> `tidyr`: Reshape data (e.g. into 'tidy' format).\n",
    "-   \\-> `stringr`: Working with strings.\n",
    "-   \\-> `lubridate`: Working with dates\n",
    "-   `ggplot2`: Visualise data.\n",
    "-   `tibble`: A modern refresh of the core R dataframe, used throughout\n",
    "    Tidyverse packages.\n",
    "-   `forcats`: Tools for working with R 'factors', often used for categorical\n",
    "    data.\n",
    "-   `purrr`: Tools for working with R objects in a functional way.\n",
    "\n",
    "These are designed to help you work with data, from cleaning and manipulation to\n",
    "plotting and modelling. The benefits of the Tidyverse include:\n",
    "\n",
    "-   They are increasingly popular with large user bases (good for support /\n",
    "    advice).\n",
    "-   The packages are generally very well documented.\n",
    "-   The packages are designed to work together seamlessly and operate well with\n",
    "    many other modern R packages.\n",
    "-   Provide features to help you write expressive code and avoid common pitfalls\n",
    "    when working with data.\n",
    "-   Built around a consistent philosophy of how to structure data for analysis\n",
    "    (the 'tidy' data format).\n",
    "    \n",
    "## Dataframes / tibbles\n",
    "\n",
    "The key data structure that Tidyverse packages are designed to work with is the\n",
    "*dataframe*.\n",
    "\n",
    "Actually, this is not quite the whole story. As you read the documentation for\n",
    "Tidyverse packages, you'll inevitably come across the term *tibble*. This is\n",
    "essentially the same thing as a dataframe, although there are some minor\n",
    "differences. For the purposes of this course, you can consider dataframes and\n",
    "tibbles to be interchangeable and regard them as 'the same thing'.\n",
    "\n",
    "To demonstrate this, let's consider the Palmer Station penguins data related to\n",
    "three species of Antarctic penguins from Horst, Hill, and Gorman[^1]. We'll\n",
    "work with this dataset throughout this course. The data contains size\n",
    "measurements for male and female adult foraging Adélie, Chinstrap, and Gentoo\n",
    "penguins observed on islands in the Palmer Archipelago near Palmer Station,\n",
    "Antarctica between 2007-2009. Data were collected and made available by\n",
    "Dr Kristen Gorman and the Palmer Station Long Term Ecological Research (LTER)\n",
    "Program. You can read more about the package on the\n",
    "[`palmerpenguins` documentation website](https://allisonhorst.github.io/palmerpenguins/index.html). \n",
    "\n",
    "To load the dataset, we just import the `palmerpenguins` package and look at\n",
    "the `penguins` object."
   ]
  },
  {
   "cell_type": "code",
   "execution_count": 1,
   "id": "da4a8a2d-dc57-450e-a506-9015e8e910fd",
   "metadata": {
    "editable": true,
    "slideshow": {
     "slide_type": ""
    },
    "tags": [
     "remove-input"
    ]
   },
   "outputs": [],
   "source": [
    "%load_ext rpy2.ipython"
   ]
  },
  {
   "cell_type": "code",
   "execution_count": 2,
   "id": "6f1a155a-92d7-4ac0-af50-c836672c61ed",
   "metadata": {
    "editable": true,
    "slideshow": {
     "slide_type": ""
    },
    "tags": []
   },
   "outputs": [
    {
     "name": "stdout",
     "output_type": "stream",
     "text": [
      "# A tibble: 344 × 8\n",
      "   species island    bill_length_mm bill_depth_mm flipper_length_mm body_mass_g\n",
      "   <fct>   <fct>              <dbl>         <dbl>             <int>       <int>\n",
      " 1 Adelie  Torgersen           39.1          18.7               181        3750\n",
      " 2 Adelie  Torgersen           39.5          17.4               186        3800\n",
      " 3 Adelie  Torgersen           40.3          18                 195        3250\n",
      " 4 Adelie  Torgersen           NA            NA                  NA          NA\n",
      " 5 Adelie  Torgersen           36.7          19.3               193        3450\n",
      " 6 Adelie  Torgersen           39.3          20.6               190        3650\n",
      " 7 Adelie  Torgersen           38.9          17.8               181        3625\n",
      " 8 Adelie  Torgersen           39.2          19.6               195        4675\n",
      " 9 Adelie  Torgersen           34.1          18.1               193        3475\n",
      "10 Adelie  Torgersen           42            20.2               190        4250\n",
      "# ℹ 334 more rows\n",
      "# ℹ 2 more variables: sex <fct>, year <int>\n",
      "# ℹ Use `print(n = ...)` to see more rows\n"
     ]
    }
   ],
   "source": [
    "%%R\n",
    "library(palmerpenguins)  # loads `penguins` object\n",
    "penguins"
   ]
  },
  {
   "cell_type": "markdown",
   "id": "9c15e9bb-c8cd-4c33-a618-20ac22fc8b36",
   "metadata": {},
   "source": [
    "If we look closely, we see that the class of `penguins` (i.e. the kind of object it is) is a tibble, indicated by the `\"tbl_df\"` in the output below:"
   ]
  },
  {
   "cell_type": "code",
   "execution_count": 3,
   "id": "c5644f67-8d81-417b-ad88-45df167f15f7",
   "metadata": {},
   "outputs": [
    {
     "name": "stdout",
     "output_type": "stream",
     "text": [
      "[1] \"tbl_df\"     \"tbl\"        \"data.frame\"\n"
     ]
    }
   ],
   "source": [
    "%%R\n",
    "class(penguins)"
   ]
  },
  {
   "cell_type": "markdown",
   "id": "6959148f-fff5-4a8e-b2ee-cfb2386238c1",
   "metadata": {
    "editable": true,
    "slideshow": {
     "slide_type": ""
    },
    "tags": []
   },
   "source": [
    "\n",
    "\n",
    "## Tidy data\n",
    "\n",
    "*Tidy data* is a convention that specifies how to arrange our data into a table.\n",
    "It states that\n",
    "\n",
    "-   The columns of the table should correspond to the variables in the data.\n",
    "-   The rows of the table should correspond to observations (or samples) of the\n",
    "    variables in the data.\n",
    "\n",
    "Packages in the Tidyverse are designed to work with tidy data.\n",
    "\n",
    "You can read more about the tidy data format in [Hadley Wickham's Tidy\n",
    "Data](https://doi.org/10.18637/jss.v059.i10) paper[^2].\n",
    "\n",
    "\n",
    "### Tidy data: Example\n",
    "\n",
    "Suppose we have a pet dog and a pet cat and we want to study the average weight\n",
    "of them by year, to see if there is some kind of association between the\n",
    "species and the trend in weight variation over time. We could represent this in\n",
    "a 'matrix-like' format, with the years corresponding to rows and species\n",
    "corresponding to columns:\n",
    "\n",
    "| Year | Dog_weight_kg | Cat_weight_kg |\n",
    "|:-----|:--------------|:--------------|\n",
    "| 2021 | 21.4          | 8.7           |\n",
    "| 2022 | 20.9          | 8.4           |\n",
    "| 2023 | 21.8          | 8.1           |\n",
    "\n",
    ": Weights of pets by year (non-tidy format)\n",
    "\n",
    "However, this is not in a tidy format. The variables we're interested in\n",
    "studying are the year, animal species and weight, but here the columns\n",
    "correspond to the weights for each kind of species. Instead, we should have a\n",
    "separate column for the species:\n",
    "\n",
    "| Year | Species | Weight_kg |\n",
    "|:-----|:--------|:----------|\n",
    "| 2021 | dog     | 21.4      |\n",
    "| 2021 | cat     | 8.7       |\n",
    "| 2022 | dog     | 20.9      |\n",
    "| 2022 | cat     | 8.4       |\n",
    "| 2023 | dog     | 21.8      |\n",
    "| 2023 | cat     | 8.1       |\n",
    "\n",
    ": Weights of pets by year (tidy format)\n",
    "\n",
    "\n",
    "## Acknowledgement\n",
    "\n",
    "The material in this notebook is adapted from Eliza Wood's [Tidyverse: Data\n",
    "wrangling & visualization](https://liza-wood.github.io/tidyverse_intro/) course,\n",
    "which is licensed under [Creative Commons BY-NC-SA\n",
    "4.0](https://creativecommons.org/licenses/by-nc-sa/4.0/). This in itself is\n",
    "based on material from [UC Davis's R-DAVIS\n",
    "course](https://gge-ucd.github.io/R-DAVIS/index.html), which draws heavily on\n",
    "[Carpentries](https://datacarpentry.org/R-ecology-lesson/) R lessons.\n",
    "\n",
    "\n",
    "## Footnotes\n",
    "\n",
    "[^1]: Horst AM, Hill AP, Gorman KB (2020). palmerpenguins: Palmer Archipelago\n",
    "      (Antarctica) penguin data. R package version 0.1.1.\n",
    "      <https://allisonhorst.github.io/palmerpenguins/>. doi: 10.5281/zenodo.3960218.\n",
    "\n",
    "[^2]: Wickham, H. (2014). Tidy Data. *Journal of Statistical Software*,\n",
    "    *59*(10), 1–23. <https://doi.org/10.18637/jss.v059.i10>\n"
   ]
  }
 ],
 "metadata": {
  "kernelspec": {
   "display_name": "Python 3 (ipykernel)",
   "language": "python",
   "name": "python3"
  },
  "language_info": {
   "codemirror_mode": {
    "name": "ipython",
    "version": 3
   },
   "file_extension": ".py",
   "mimetype": "text/x-python",
   "name": "python",
   "nbconvert_exporter": "python",
   "pygments_lexer": "ipython3",
   "version": "3.12.2"
  }
 },
 "nbformat": 4,
 "nbformat_minor": 5
}
