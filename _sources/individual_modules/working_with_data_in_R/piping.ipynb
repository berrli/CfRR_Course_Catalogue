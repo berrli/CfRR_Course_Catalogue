{
 "cells": [
  {
   "cell_type": "markdown",
   "id": "809dc348-93db-4a19-91b5-25528307c29e",
   "metadata": {
    "editable": true,
    "slideshow": {
     "slide_type": ""
    },
    "tags": []
   },
   "source": [
    "# Piping and Functional Style\n",
    "\n",
    "## Outline\n",
    "\n",
    "- The functional philosophy of Tidyverse\n",
    "- Piping operator\n",
    "\n",
    "\n",
    "## The functional philosophy of Tidyverse\n",
    "\n",
    "The Tidyverse packages are built around a philosophy of having functions that\n",
    "work well together. Let's look at some of the functions we've seen so far:\n",
    "\n",
    "| Package | Function    | Data input type               | Output type                   |\n",
    "|---------|-------------|-------------------------------|-------------------------------|\n",
    "| `tidyr` | `read_csv`  | string                        | dataframe                     |\n",
    "| `dplyr` | `filter`    | dataframe                     | dataframe                     |\n",
    "| `dplyr` | `select`    | dataframe                     | dataframe                     |\n",
    "| `dplyr` | `mutate`    | dataframe                     | dataframe                     |\n",
    "| `dplyr` | `relocate`  | dataframe                     | dataframe                     |\n",
    "| `dplyr` | `arrange`   | dataframe                     | dataframe                     |\n",
    "| `dplyr` | `summarise` | dataframe / grouped dataframe | dataframe / grouped dataframe |\n",
    "| `dplyr` | `group_by`  | dataframe                     | grouped dataframe             |\n",
    "\n",
    "Notice how consistent these are in accepting a dataframe as input and returning\n",
    "a dataframe (or something like a dataframe) as output. It is this consistency\n",
    "that makes it easy to compose functions.\n",
    "\n",
    "In addition, it's important to note that none of the functions we've seen so\n",
    "far modify the input dataframe 'in place', they always return a new dataframe.\n",
    "(This is even the case for the `mutate` function, despite the name!) This\n",
    "encourages a 'pipeline' approach, where we successively take the output\n",
    "of one function and feed it in as the input to another function.\n",
    "\n",
    "## Piping operator\n",
    "\n",
    "Since version 4.1, R has had a pipe operator `|>` which facilitates chaining\n",
    "function calls.\n",
    "\n",
    "**Note:** Before a pipe operator was introduced into the base R language, people\n",
    "used another pipe operator `%>%` from the `magrittr` package. It is still very\n",
    "common to see people using the `magrittr` pipe and it behaves in a similar way\n",
    "to base R's `|>` (though there are some minor differences). You can use\n",
    "whichever you like, though for this course we'll use the base R pipe.\n",
    "\n",
    "The pipe operator takes the value in the left hand side and 'feeds it into' the\n",
    "_first_ argument of a function call on the right hand side. So, using\n",
    "`dplyr::select` as an example, the following two expressions are equivalent ways\n",
    "to select two columns `colA` and `colB` from a dataframe `data`:\n",
    "\n",
    "```R\n",
    "dplyr::select(data, colA, colB)     data |> dplyr::select(colA, colB)\n",
    "```\n",
    "\n",
    "Notice how it looks like the dataframe argument to `dplyr::select` is missing\n",
    "in the second expression. The pipe takes care of putting `data` into the first\n",
    "argument slot, and the remaining slots are available for all other arguments\n",
    "(in this case, the column names  `colA` and `colB`).\n",
    "\n",
    "We can now chain multiple pipe calls together, like so:\n",
    "\n",
    "```R\n",
    "data |> dplyr::select(colA, colB) |> dplyr::filter(colA > 10)\n",
    "```\n",
    "\n",
    "In words, the above expression\n",
    "\n",
    "1. takes a variable `data`, then\n",
    "2. selects columns `colA` and `colB`, then\n",
    "3. takes the result of 2 and filters it to keep rows where `colA > 10`,\n",
    "\n",
    "\n",
    "Usually, people will put successive pipe calls on new lines to make it easier to\n",
    "read, like so:\n",
    "\n",
    "```R\n",
    "data |>\n",
    "  dplyr::select(colA, colB) |>\n",
    "  dplyr::filter(colA > 10)\n",
    "```\n",
    "\n",
    "If we want to store the overall result in a new variable `data_transformed`,\n",
    "we can do so by putting the assignment `data_transformed <- ` at the beginning\n",
    "of the chain, like this:\n",
    "\n",
    "```R\n",
    "data_transformed <- data |>\n",
    "  dplyr::select(colA, colB) |>\n",
    "  dplyr::filter(colA > 10)\n",
    "```\n",
    "\n",
    "### Exercise: piping\n",
    "\n",
    "The following code calculates the average bill ratio for penguins observed in\n",
    "the year 2009."
   ]
  },
  {
   "cell_type": "code",
   "execution_count": 1,
   "id": "6c589d7a-de57-44e9-8b8a-8b4f29cfee53",
   "metadata": {
    "editable": true,
    "slideshow": {
     "slide_type": ""
    },
    "tags": [
     "remove-input"
    ]
   },
   "outputs": [],
   "source": [
    "%load_ext rpy2.ipython"
   ]
  },
  {
   "cell_type": "code",
   "execution_count": 2,
   "id": "455ef6b3-92b8-46e9-a773-f89053e0fdc7",
   "metadata": {
    "editable": true,
    "slideshow": {
     "slide_type": ""
    },
    "tags": []
   },
   "outputs": [
    {
     "name": "stdout",
     "output_type": "stream",
     "text": [
      "# A tibble: 1 × 1\n",
      "  mean_bill_ratio\n",
      "            <dbl>\n",
      "1            2.63\n"
     ]
    }
   ],
   "source": [
    "%%R\n",
    "library(palmerpenguins)  # loads `penguins` data\n",
    "\n",
    "# Select species, year, bill_length_mm, bill_depth_mm\n",
    "penguins1 <- dplyr::select(penguins, year, species, bill_length_mm, bill_depth_mm)\n",
    "\n",
    "# Filter to keep year 2009 data only\n",
    "penguins2 <- dplyr::filter(penguins1, year == 2009)\n",
    "\n",
    "# Compute new bill_ratio column\n",
    "penguins3 <- dplyr::mutate(penguins2, bill_ratio = bill_length_mm / bill_depth_mm)\n",
    "\n",
    "# Compute average bill ratio\n",
    "penguins4 <- dplyr::summarise(penguins3, mean_bill_ratio = mean(bill_ratio, na.rm = TRUE))\n",
    "\n",
    "print(penguins4)"
   ]
  },
  {
   "cell_type": "markdown",
   "id": "fec79fba-d1ba-4ffc-8a6f-7478aeb48de4",
   "metadata": {
    "editable": true,
    "slideshow": {
     "slide_type": ""
    },
    "tags": []
   },
   "source": [
    "Rewrite this code to use the pipe operator instead of storing each intermediate\n",
    "dataframe, storing the overall result in a new variable called `summarised`."
   ]
  },
  {
   "cell_type": "markdown",
   "id": "ae4225c0-9416-404e-a62e-9aa56cd7f26c",
   "metadata": {
    "editable": true,
    "slideshow": {
     "slide_type": ""
    },
    "tags": []
   },
   "source": [
    "```{admonition} Solution\n",
    ":class: dropdown\n",
    "``` R\n",
    "%%R\n",
    "summarised <- penguins |>\n",
    "  dplyr::select(year, species, bill_length_mm, bill_depth_mm) |>\n",
    "  dplyr::filter(year == 2009) |>\n",
    "  dplyr::mutate(bill_ratio = bill_length_mm / bill_depth_mm) |>\n",
    "  dplyr::summarise(mean_bill_ratio = mean(bill_ratio, na.rm = TRUE))\n",
    "\n",
    "print(summarised)\n",
    "```\n",
    "\n",
    "\n",
    "\n",
    "\n",
    "\n",
    "\n"
   ]
  }
 ],
 "metadata": {
  "kernelspec": {
   "display_name": "Python 3 (ipykernel)",
   "language": "python",
   "name": "python3"
  },
  "language_info": {
   "codemirror_mode": {
    "name": "ipython",
    "version": 3
   },
   "file_extension": ".py",
   "mimetype": "text/x-python",
   "name": "python",
   "nbconvert_exporter": "python",
   "pygments_lexer": "ipython3",
   "version": "3.12.2"
  }
 },
 "nbformat": 4,
 "nbformat_minor": 5
}
