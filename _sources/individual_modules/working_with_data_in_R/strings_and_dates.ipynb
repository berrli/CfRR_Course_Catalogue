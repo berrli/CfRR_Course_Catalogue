{
 "cells": [
  {
   "cell_type": "markdown",
   "id": "0ff8ca3f-3324-4136-95a7-c3527b04989b",
   "metadata": {
    "editable": true,
    "slideshow": {
     "slide_type": ""
    },
    "tags": []
   },
   "source": [
    "# Strings and Dates\n",
    "\n",
    "## Outline\n",
    "\n",
    "- Working with strings\n",
    "  - Cleaning strings\n",
    "  - Splitting / pasting strings\n",
    "  - Extracting substrings\n",
    "- Working with dates\n",
    "  - Converting from strings\n",
    "  - Accessing timestamp components\n",
    "\n",
    "\n",
    "## Introduction\n",
    "\n",
    "In this notebook we'll be looking at ways to work with two common kinds of\n",
    "data: text data and dates/timestamps. When we first create and collect data, it\n",
    "may not be in its cleanest form, especially when it comes to working with\n",
    "text data and timestamps. The following packages provide lots of useful\n",
    "functions for working with strings / timestamps:\n",
    "\n",
    "- `stringr`: working with strings (included with `tidyverse`).\n",
    "- `lubridate`: working with dates/timestamps (a non-core Tidyverse package).\n",
    "\n",
    "To demonstrate these packages, we'll be working with two datasets:\n",
    "\n",
    "- A toy dataset consisting of some coin flipping experiments (thrilling stuff).\n",
    "- Weather data from the Palmer Station in Antarctica from 1989 - 2019, where\n",
    "  data are available for each day{cite}`palmer2023`.\n",
    "\n",
    "**Note** We'll be making use of the pipe operator `|>` throughout; see\n",
    "the `04_Piping.Rmd` notebook.\n",
    "\n",
    "\n",
    "## Working with text - heads and tails\n",
    "\n",
    "We have a toy dataset for getting familiar with working with text. The\n",
    "`heads_and_tails.csv` file contains data on some coin flipping experiments\n",
    "performed by two people, Joe Bloggs and Jane Doe. The experiments were performed\n",
    "on different days and are split up into different parts (coin flipping is\n",
    "tiring work).\n",
    "\n",
    "The data is not in a clean state:\n",
    "- Joe and Jane's names are recorded in multiple ways.\n",
    "- The results are inconsistently formatted.\n",
    "- The experiments look pretty consistent, but note that in some rows the date is\n",
    "  separated from the `part n` bit by a colon `:` whereas in other rows it's\n",
    "  separated by a space."
   ]
  },
  {
   "cell_type": "code",
   "execution_count": 1,
   "id": "ecd653a0-b22d-4f7e-8d5c-4d50cc177286",
   "metadata": {
    "editable": true,
    "slideshow": {
     "slide_type": ""
    },
    "tags": [
     "remove-input"
    ]
   },
   "outputs": [],
   "source": [
    "%load_ext rpy2.ipython"
   ]
  },
  {
   "cell_type": "code",
   "execution_count": 2,
   "id": "5cbba6c6-81b0-4427-bc78-3afebd914b18",
   "metadata": {
    "editable": true,
    "slideshow": {
     "slide_type": ""
    },
    "tags": []
   },
   "outputs": [
    {
     "name": "stdout",
     "output_type": "stream",
     "text": [
      "# A tibble: 13 × 3\n",
      "   Experiment        Technician  Result                                         \n",
      "   <chr>             <chr>       <chr>                                          \n",
      " 1 2024-01-04:part 1 joe bloggs  H,H,H,T,T,H,H,T,H,H,T,H,H,H,T,T,H,H,T,T        \n",
      " 2 2024-01-04:part 2 Joe Bloggs  T,T,H,T,H,T,T,H,T,T,T,T,H,T,H,H,T,H,T,T        \n",
      " 3 2024-01-04:part 3 Joe Bloggs  H,T,H,T,T,H,T,H,H,T,H,T,H,T,T,T,H,H,H,T,T,H,T,…\n",
      " 4 2024-01-04 part 1 jane doe    HTHHTHTHTTHTHTHTTT                             \n",
      " 5 2024-01-04 part 2 jane doe    HHTTTTHHHTTHTHHTHHTTT                          \n",
      " 6 2024-01-05 part 1 Jane doe    THTTTHHTTTH                                    \n",
      " 7 2024-01-05 part 2 Jane doe    TTTTTHTHTHTTTTTHTTHT                           \n",
      " 8 2024-01-06:part 1 Joe Bloggs  HTHTTTTHHHHTTTHHHHHTHH                         \n",
      " 9 2024-01-06:part 2 Joe  Bloggs TTTTTTHTTTHTH                                  \n",
      "10 2024-01-06 part 1 Jane Doe    HTTTTHHHTHHTTHHHTTTTTHTTH                      \n",
      "11 2024-01-06 part 2 Jane Doe    TTTTHHTHHTTHTHHHTHTTTH                         \n",
      "12 2024-01-06 part 3 Jane Doe    HHTHTTTTTHTTTHTHTHT                            \n",
      "13 2024-01-07:part 1 joe bloggs  TTHTTHHHHTHHHHTTTHHT                           \n"
     ]
    }
   ],
   "source": [
    "%%R\n",
    "# Note: reading all columns as strings\n",
    "experiments <- readr::read_csv(\"./data/heads_and_tales.csv\",\n",
    "                               col_types = list(.default = readr::col_character()))\n",
    "experiments"
   ]
  },
  {
   "cell_type": "markdown",
   "id": "6be8bb76-673b-491e-b039-a959e358e8fe",
   "metadata": {
    "editable": true,
    "slideshow": {
     "slide_type": ""
    },
    "tags": []
   },
   "source": [
    "We'll use some of the functions in `stringr` to clean up this dataset.\n",
    "\n",
    "\n",
    "### Cleaning whitespace\n",
    "\n",
    "Before tidying up the columns, let's first rename the current columns to indicate\n",
    "they contain the 'raw' values. We can use the function `rename` from the `dplyr`\n",
    "package to do this:"
   ]
  },
  {
   "cell_type": "code",
   "execution_count": 3,
   "id": "48a2ec99-fa8c-45d1-88f6-65c448038f56",
   "metadata": {
    "editable": true,
    "slideshow": {
     "slide_type": ""
    },
    "tags": []
   },
   "outputs": [
    {
     "name": "stdout",
     "output_type": "stream",
     "text": [
      "[1] \"Experiment_raw\" \"Technician_raw\" \"Result_raw\"    \n"
     ]
    }
   ],
   "source": [
    "%%R\n",
    "# Rename columns to *_raw\n",
    "experiments <- experiments |>\n",
    "  dplyr::rename(Experiment_raw = Experiment,\n",
    "                Technician_raw = Technician,\n",
    "                Result_raw = Result)\n",
    "print(colnames(experiments))"
   ]
  },
  {
   "cell_type": "markdown",
   "id": "189cb07d-63eb-4700-ad87-5dabe079c099",
   "metadata": {
    "editable": true,
    "slideshow": {
     "slide_type": ""
    },
    "tags": []
   },
   "source": [
    "Let's first tackle cleaning up the technician's names. Look at the unique values\n",
    "in the 'Technician_raw' column:"
   ]
  },
  {
   "cell_type": "code",
   "execution_count": 4,
   "id": "7df797b5-b9de-45db-907c-b7b7bd600024",
   "metadata": {
    "editable": true,
    "slideshow": {
     "slide_type": ""
    },
    "tags": []
   },
   "outputs": [
    {
     "name": "stdout",
     "output_type": "stream",
     "text": [
      "[1] \"joe bloggs\"  \"Joe Bloggs\"  \"jane doe\"    \"Jane doe\"    \"Joe  Bloggs\"\n",
      "[6] \"Jane Doe\"   \n"
     ]
    }
   ],
   "source": [
    "%%R\n",
    "unique(experiments$Technician_raw)"
   ]
  },
  {
   "cell_type": "markdown",
   "id": "17ec7f23-79c8-425e-97bf-395b57533698",
   "metadata": {
    "editable": true,
    "slideshow": {
     "slide_type": ""
    },
    "tags": []
   },
   "source": [
    "Let's make the case consistent. There are several `stringr` functions we could\n",
    "use for this, of the form `str_to_*`"
   ]
  },
  {
   "cell_type": "code",
   "execution_count": 5,
   "id": "78a21907-85bf-4e7c-accc-dda56d6f0a01",
   "metadata": {
    "editable": true,
    "slideshow": {
     "slide_type": ""
    },
    "tags": []
   },
   "outputs": [
    {
     "name": "stdout",
     "output_type": "stream",
     "text": [
      "[1] \"albert einstein\"\n",
      "[1] \"ALBERT EINSTEIN\"\n",
      "[1] \"Albert Einstein\"\n",
      "[1] \"Albert einstein\"\n"
     ]
    }
   ],
   "source": [
    "%%R\n",
    "name <- \"aLbErt EinStEin\"\n",
    "print(stringr::str_to_lower(name))  # lower case\n",
    "print(stringr::str_to_upper(name))  # upper case\n",
    "print(stringr::str_to_title(name))  # title case\n",
    "print(stringr::str_to_sentence(name))  # sentence case"
   ]
  },
  {
   "cell_type": "markdown",
   "id": "2c57c186-6ca0-49d3-81cb-6f63c27344c9",
   "metadata": {
    "editable": true,
    "slideshow": {
     "slide_type": ""
    },
    "tags": []
   },
   "source": [
    "Let's convert the technicians' names to title case. Do we now have consistent\n",
    "names for Joe and Jane?"
   ]
  },
  {
   "cell_type": "code",
   "execution_count": 6,
   "id": "6172ebc5-bfc5-423e-bd29-2b1c0d35bd05",
   "metadata": {
    "editable": true,
    "slideshow": {
     "slide_type": ""
    },
    "tags": []
   },
   "outputs": [
    {
     "name": "stdout",
     "output_type": "stream",
     "text": [
      "[1] \"Joe Bloggs\"  \"Jane Doe\"    \"Joe  Bloggs\"\n"
     ]
    }
   ],
   "source": [
    "%%R\n",
    "experiments <- experiments |>\n",
    "  dplyr::mutate(Technician = stringr::str_to_title(Technician_raw))\n",
    "\n",
    "unique(experiments$Technician)"
   ]
  },
  {
   "cell_type": "markdown",
   "id": "442854bc-b6dc-457f-bf34-7c8686ac9de0",
   "metadata": {
    "editable": true,
    "slideshow": {
     "slide_type": ""
    },
    "tags": []
   },
   "source": [
    "Not quite. We can replace the two spaces in the middle of \"Joe  Bloggs\" with a\n",
    "single space by using `stringr::str_squish`:"
   ]
  },
  {
   "cell_type": "code",
   "execution_count": 7,
   "id": "e5d7b653-ac3d-4775-82b7-81f38449f1bc",
   "metadata": {
    "editable": true,
    "slideshow": {
     "slide_type": ""
    },
    "tags": []
   },
   "outputs": [
    {
     "name": "stdout",
     "output_type": "stream",
     "text": [
      "[1] \"Joe Bloggs\" \"Jane Doe\"  \n"
     ]
    }
   ],
   "source": [
    "%%R\n",
    "# Remove repeated whitespace characters\n",
    "experiments <- experiments |>\n",
    "  dplyr::mutate(Technician = stringr::str_squish(Technician))\n",
    "\n",
    "unique(experiments$Technician)"
   ]
  },
  {
   "cell_type": "markdown",
   "id": "ca34aa02-0cc2-4720-a60b-ed7073f75cea",
   "metadata": {
    "editable": true,
    "slideshow": {
     "slide_type": ""
    },
    "tags": []
   },
   "source": [
    "Note that a closely related `stringr` function, `str_trim`, can be used for only\n",
    "removing leading and trailing whitespace, if for some reason we wanted to keep\n",
    "all the whitespace between the words:"
   ]
  },
  {
   "cell_type": "code",
   "execution_count": 8,
   "id": "6d2e1e2f-15b4-4015-abd2-3aeecaa5c026",
   "metadata": {
    "editable": true,
    "slideshow": {
     "slide_type": ""
    },
    "tags": []
   },
   "outputs": [
    {
     "name": "stdout",
     "output_type": "stream",
     "text": [
      "\tAda    Lovelace  \n",
      "Ada    Lovelace"
     ]
    }
   ],
   "source": [
    "%%R\n",
    "# \\t = tab character, \\n = new line character\n",
    "name <- \"\\tAda    Lovelace  \\n\"\n",
    "cat(name)\n",
    "cat(stringr::str_trim(name))"
   ]
  },
  {
   "cell_type": "markdown",
   "id": "0f63d672-8230-4d81-8799-9d473089521f",
   "metadata": {
    "editable": true,
    "slideshow": {
     "slide_type": ""
    },
    "tags": []
   },
   "source": [
    "### Replacing characters / substrings\n",
    "\n",
    "Next, let's make the 'Result' entries consistently formatted. We'll remove\n",
    "the commas from the first few experiments and instead just have a string of\n",
    "`H`s and `T`s. We can view this as replacing each comma with the empty string,\n",
    "`\"\"`. \n",
    "\n",
    "In general, to perform text replacement, we can use one of the following\n",
    "`stringr` functions:"
   ]
  },
  {
   "cell_type": "code",
   "execution_count": 9,
   "id": "9e2a20e9-a82f-4640-8606-e30e9ea9307b",
   "metadata": {
    "editable": true,
    "slideshow": {
     "slide_type": ""
    },
    "tags": []
   },
   "outputs": [
    {
     "name": "stdout",
     "output_type": "stream",
     "text": [
      "[1] \"a, e--i--o--u\"\n",
      "[1] \"a, e, i, o, u\"\n"
     ]
    }
   ],
   "source": [
    "%%R\n",
    "vowels = \"a--e--i--o--u\"\n",
    "\n",
    "# Replace the *first* instance of \"--\" with \", \"\n",
    "print(stringr::str_replace(vowels, pattern = \"--\", replacement = \", \"))  # a, e--i--o--u\n",
    "\n",
    "# Replace *all* instances of \"--\" with  \", \"\n",
    "print(stringr::str_replace_all(vowels, pattern = \"--\", replacement = \", \"))  # a, e, i, o, u"
   ]
  },
  {
   "cell_type": "markdown",
   "id": "7ca81902-8b40-471b-a648-08ad59d9b515",
   "metadata": {
    "editable": true,
    "slideshow": {
     "slide_type": ""
    },
    "tags": []
   },
   "source": [
    "You may wonder why the parameter name 'pattern' is used for the string we want\n",
    "to replace. The reason is that we actually need to supply a *regular expression*\n",
    "to match on. We'll come back to this.\n",
    "\n",
    "Let's now clean up the 'Result' column by removing the commas:"
   ]
  },
  {
   "cell_type": "code",
   "execution_count": 10,
   "id": "82c654ac-bd8d-4070-a742-f7617018bd3d",
   "metadata": {
    "editable": true,
    "slideshow": {
     "slide_type": ""
    },
    "tags": []
   },
   "outputs": [
    {
     "name": "stdout",
     "output_type": "stream",
     "text": [
      "# A tibble: 13 × 2\n",
      "   Result_raw                                        Result                   \n",
      "   <chr>                                             <chr>                    \n",
      " 1 H,H,H,T,T,H,H,T,H,H,T,H,H,H,T,T,H,H,T,T           HHHTTHHTHHTHHHTTHHTT     \n",
      " 2 T,T,H,T,H,T,T,H,T,T,T,T,H,T,H,H,T,H,T,T           TTHTHTTHTTTTHTHHTHTT     \n",
      " 3 H,T,H,T,T,H,T,H,H,T,H,T,H,T,T,T,H,H,H,T,T,H,T,H,T HTHTTHTHHTHTHTTTHHHTTHTHT\n",
      " 4 HTHHTHTHTTHTHTHTTT                                HTHHTHTHTTHTHTHTTT       \n",
      " 5 HHTTTTHHHTTHTHHTHHTTT                             HHTTTTHHHTTHTHHTHHTTT    \n",
      " 6 THTTTHHTTTH                                       THTTTHHTTTH              \n",
      " 7 TTTTTHTHTHTTTTTHTTHT                              TTTTTHTHTHTTTTTHTTHT     \n",
      " 8 HTHTTTTHHHHTTTHHHHHTHH                            HTHTTTTHHHHTTTHHHHHTHH   \n",
      " 9 TTTTTTHTTTHTH                                     TTTTTTHTTTHTH            \n",
      "10 HTTTTHHHTHHTTHHHTTTTTHTTH                         HTTTTHHHTHHTTHHHTTTTTHTTH\n",
      "11 TTTTHHTHHTTHTHHHTHTTTH                            TTTTHHTHHTTHTHHHTHTTTH   \n",
      "12 HHTHTTTTTHTTTHTHTHT                               HHTHTTTTTHTTTHTHTHT      \n",
      "13 TTHTTHHHHTHHHHTTTHHT                              TTHTTHHHHTHHHHTTTHHT     \n"
     ]
    }
   ],
   "source": [
    "%%R\n",
    "experiments <- experiments |>\n",
    "  dplyr::mutate(Result = stringr::str_replace_all(Result_raw, \",\", \"\"))\n",
    "\n",
    "experiments |>\n",
    "  dplyr::select(Result_raw, Result)"
   ]
  },
  {
   "cell_type": "markdown",
   "id": "8b0e79fd-6fed-422d-9c1a-ccb45f778cf9",
   "metadata": {
    "editable": true,
    "slideshow": {
     "slide_type": ""
    },
    "tags": []
   },
   "source": [
    "### Exercise: replacing strings\n",
    "\n",
    "Put the 'Experiment' column into a consistent format, so that the experiment is\n",
    "recorded as `<date>:part <n>` where `<date>` is a date string and `<n>` is a\n",
    "number 1, 2, etc."
   ]
  },
  {
   "cell_type": "markdown",
   "id": "71aaa8c9-9769-4d69-95b5-22a62cd5a9de",
   "metadata": {
    "editable": true,
    "slideshow": {
     "slide_type": ""
    },
    "tags": []
   },
   "source": [
    "```{admonition} Solution\n",
    ":class: dropdown\n",
    "``` R\n",
    "%%R\n",
    "experiments <- experiments |>\n",
    "  dplyr::mutate(Experiment = stringr::str_replace(Experiment_raw, \" part\", \":part\"))\n",
    "\n",
    "experiments |>\n",
    "  dplyr::select(Experiment_raw, Experiment)\n",
    "```\n",
    "\n",
    "\n"
   ]
  },
  {
   "cell_type": "markdown",
   "id": "12f8d20a-76a5-4525-9957-4f8995b27a63",
   "metadata": {
    "editable": true,
    "slideshow": {
     "slide_type": ""
    },
    "tags": []
   },
   "source": [
    "### Splitting and concatenating columns\n",
    "\n",
    "With the columns cleaned up, we no longer need the 'raw' columns, so let's\n",
    "remove them:\n"
   ]
  },
  {
   "cell_type": "code",
   "execution_count": 11,
   "id": "9cc572f4-81e1-4c56-9058-16f622cd66a1",
   "metadata": {
    "editable": true,
    "slideshow": {
     "slide_type": ""
    },
    "tags": []
   },
   "outputs": [],
   "source": [
    "%%R\n",
    "experiments <- experiments |>\n",
    "  dplyr::select(-Experiment_raw, -Technician_raw, -Result_raw)"
   ]
  },
  {
   "cell_type": "markdown",
   "id": "fa60eb27-6b1c-4d85-a0d7-5046c31752c3",
   "metadata": {
    "editable": true,
    "slideshow": {
     "slide_type": ""
    },
    "tags": []
   },
   "source": [
    "It would be good to have the 'Experiment' column consist of a unique identifier\n",
    "for each experiment. We could just give it an integer label, but let's do\n",
    "something more sophisticated. Each row is uniquely identifiable from the\n",
    "current 'Experiment' string and the name of the Technician. So let's combine\n",
    "these together to make a new ID string, as follows:\n",
    "\n",
    "```R\n",
    "Joe Bloggs  +  2024-01-04:part 2  -->  2024-01-04:2:JoeBloggs\n",
    "```\n",
    "\n",
    "Note that we've removed the \"part \" string and removed the inner space in the\n",
    "name. How can we accomplish this transformation in smaller steps?\n",
    "\n",
    "- First split the experiment label \"2024-01-04:part 2\" into two pieces:\n",
    "  \"2024-01-04\" and \"2\".\n",
    "  \n",
    "- Remove the space from the name, \"Joe Bloggs\" to \"JoeBloggs\".\n",
    "\n",
    "- Paste the results together using colons:\n",
    "  \"2024-01-04\" + \"2\" + \"JoeBloggs\" --> \"2024-01-04:2:JoeBloggs\".\n",
    "\n",
    "We know how to do the second step (use `str_replace`), but steps 1 and 3 are new.\n",
    "\n",
    "The trick is to do this column-wise in the dataframe. Se we'll\n",
    "**make new columns** containing the pieces we want to paste together, and then\n",
    "create a new column by pasting these two columns together.\n",
    "\n",
    "To perform the splitting, we can use the `separate` function from the\n",
    "`tidyr` package (not `stringr`!) to split a column on a separator. The result is\n",
    "one column for each piece of the split; we thus need to also provide names for\n",
    "the new columns:\n",
    "\n",
    "```R\n",
    "tidyr::separate(data,\n",
    "                col,\n",
    "                into = c(\"NewCol1\", \"NewCol2\", ...),\n",
    "                sep = <string_to_split_on>)\n",
    "```\n",
    "\n",
    "To paste columns back together with a custom separator, we can use the\n",
    "`str_c` function from `stringr`:"
   ]
  },
  {
   "cell_type": "code",
   "execution_count": 12,
   "id": "d05fb6dc-7e40-4e39-8411-b1dafd95fbc6",
   "metadata": {
    "editable": true,
    "slideshow": {
     "slide_type": ""
    },
    "tags": []
   },
   "outputs": [
    {
     "name": "stdout",
     "output_type": "stream",
     "text": [
      "[1] \"foo -- bar -- baz\"\n"
     ]
    }
   ],
   "source": [
    "%%R\n",
    "stringr::str_c(\"foo\", \"bar\", \"baz\", sep = \" -- \")  # foo -- bar -- baz"
   ]
  },
  {
   "cell_type": "markdown",
   "id": "059f2d30-871c-47d4-bbe3-630d939b707d",
   "metadata": {
    "editable": true,
    "slideshow": {
     "slide_type": ""
    },
    "tags": []
   },
   "source": [
    "### Exercise: splitting and concatenating columns\n",
    "\n",
    "Use `tidyr::separate` and `stringr::str_c` to create a unique experiment ID by\n",
    "pasting together:\n",
    "\n",
    "- The experiment date\n",
    "- The sub-experiment number\n",
    "- The technician's name (without a space)\n",
    "\n",
    "E.g.\n",
    "```R\n",
    "Joe Bloggs  +  2024-01-04:part 2  -->  2024-01-04:2:JoeBloggs\n",
    "```\n",
    "\n",
    "Hint: don't try to do this all in one go. Instead, build it up step-by-step and\n",
    "use the pipe operator `|>` join the steps together."
   ]
  },
  {
   "cell_type": "markdown",
   "id": "2bceb1a9-e334-44ab-bdc9-50d33c48b104",
   "metadata": {
    "editable": true,
    "slideshow": {
     "slide_type": ""
    },
    "tags": []
   },
   "source": [
    "```{admonition} Solution\n",
    ":class: dropdown\n",
    "``` R\n",
    "%%R\n",
    "experiments |>\n",
    "  tidyr::separate(col = Experiment,\n",
    "                  into = c(\"Experiment_date\", \"Sub_experiment\"),\n",
    "                  sep = \":part \") |>  # don't forget the space!\n",
    "  dplyr::mutate(Experiment_id = stringr::str_c(Experiment_date,\n",
    "                                               Sub_experiment,\n",
    "                                               stringr::str_remove(Technician, \" \"),\n",
    "                                               sep = \":\"))\n",
    "```\n",
    "\n",
    "\n",
    "\n",
    "\n",
    "\n"
   ]
  },
  {
   "cell_type": "markdown",
   "id": "c4b9c916-2d48-4a14-97f6-af713eac6567",
   "metadata": {
    "editable": true,
    "slideshow": {
     "slide_type": ""
    },
    "tags": []
   },
   "source": [
    "### Finding substrings\n",
    "\n",
    "How many of the experiments features a run of 5 heads or 5 tails?\n",
    "\n",
    "We can answer this as follows:\n",
    "\n",
    "- For each row, determine whether it contains a run of 5 heads or 5 tails.\n",
    "- Filter on the result.\n",
    "\n",
    "To perform the first step, we can use `str_detect` from `stringr`. This simply\n",
    "returns `TRUE` or `FALSE` depending on whether it finds a given pattern in\n",
    "a string:\n",
    "\n",
    "```R\n",
    "stringr::str_detect(a_string, pattern)\n",
    "```\n",
    "\n",
    "The `pattern` argument is interpreted as a _regular expression_. We mentioned\n",
    "this earlier when looking at `str_replace` / `str_replace_all`. Regular expressions\n",
    "are a mini-language for specifying matches on strings. We're not going to go into\n",
    "this much here, but they are useful to know about, especially if you work with\n",
    "text data a lot; check out the great\n",
    "[stringr cheat sheet](https://github.com/rstudio/cheatsheets/blob/main/strings.pdf)\n",
    "for a summary, or consult the\n",
    "[chapter on regular expressions in R for Data Science (2e)](https://r4ds.hadley.nz/regexps)\n",
    "for an introduction. Here are some example regular expressions in action, using\n",
    "`str_detect` to indicate whether the given string matches or not:\n"
   ]
  },
  {
   "cell_type": "code",
   "execution_count": 13,
   "id": "87763a35-cfe6-44d9-8bbf-75d0186e959e",
   "metadata": {
    "editable": true,
    "slideshow": {
     "slide_type": ""
    },
    "tags": []
   },
   "outputs": [
    {
     "name": "stdout",
     "output_type": "stream",
     "text": [
      "[1] TRUE\n",
      "[1] FALSE\n",
      "[1] TRUE\n",
      "[1] FALSE\n",
      "[1] TRUE\n",
      "[1] TRUE\n",
      "[1] TRUE\n",
      "[1] FALSE\n",
      "[1] TRUE\n",
      "[1] FALSE\n"
     ]
    }
   ],
   "source": [
    "%%R\n",
    "# Match on a string as-is (case sensitive)\n",
    "stringr::str_detect(\"Regex is cool.\", pattern = \"ex\") |> print()  # true\n",
    "stringr::str_detect(\"Regex is cool.\", pattern = \"COOL\") |> print()  # false\n",
    "\n",
    "# Match on 1 or more instances\n",
    "stringr::str_detect(\"Regex is cool.\", pattern = \"o+\") |> print()  # true\n",
    "stringr::str_detect(\"Regex is cool.\", pattern = \"coolcool+\") |> print()  # false\n",
    "\n",
    "# Regex-special characters need escaping e.g. to match on a period, use \\\\\n",
    "stringr::str_detect(\"Regex is cool.\", pattern = \"\\\\.\") |> print()  # true\n",
    "\n",
    "# Match on either one pattern or another with pipe |\n",
    "stringr::str_detect(\"Regex is cool.\", pattern = \"cool|meh\") |> print()  # true\n",
    "stringr::str_detect(\"Regex is meh.\", pattern = \"cool|meh\") |> print()  # true\n",
    "stringr::str_detect(\"Regex is cool.\", pattern = \"meh|lame\") |> print()  # false\n",
    "\n",
    "# Match at the beginning of the string only with ^\n",
    "stringr::str_detect(\"Regex is cool.\", pattern = \"^Regex\") |> print()  # true\n",
    "stringr::str_detect(\"Regex is cool.\", pattern = \"^cool\") |> print()  # false"
   ]
  },
  {
   "cell_type": "markdown",
   "id": "1f0b9c10-a22f-41ad-8ea4-3cac68707fd9",
   "metadata": {
    "editable": true,
    "slideshow": {
     "slide_type": ""
    },
    "tags": []
   },
   "source": [
    "### Exercise: finding substrings\n",
    "\n",
    "With the help of `str_detect` and a suitable regular expression, write code to\n",
    "work out how many experiments feature a run of at least 5 straight heads or 5\n",
    "straight tails.\n"
   ]
  },
  {
   "cell_type": "markdown",
   "id": "0af2b9bf-10f2-46fd-86f6-5a0c5ecb48fb",
   "metadata": {
    "editable": true,
    "slideshow": {
     "slide_type": ""
    },
    "tags": []
   },
   "source": [
    "```{admonition} Solution\n",
    ":class: dropdown\n",
    "``` R\n",
    "%%R\n",
    "experiments |>\n",
    "  dplyr::mutate(Has_run_of_5 = stringr::str_detect(Result, pattern = \"HHHHH|TTTTT\")) |>\n",
    "  dplyr::filter(Has_run_of_5) |>\n",
    "  nrow()\n",
    "```\n",
    "\n",
    "\n",
    "\n",
    "\n",
    "\n",
    "\n",
    "\n"
   ]
  },
  {
   "cell_type": "markdown",
   "id": "064a4e9f-dbfb-48f7-8882-7fcd91084ce6",
   "metadata": {
    "editable": true,
    "slideshow": {
     "slide_type": ""
    },
    "tags": []
   },
   "source": [
    "## Working with dates\n",
    "\n",
    "We have weather data from the Palmer Station in Antarctica from 1989 - 2019{cite}`palmer2023`,\n",
    "where data are available for each day."
   ]
  },
  {
   "cell_type": "code",
   "execution_count": 14,
   "id": "194aa77e-89c0-484f-8203-b607ed22b703",
   "metadata": {
    "editable": true,
    "slideshow": {
     "slide_type": ""
    },
    "tags": []
   },
   "outputs": [
    {
     "name": "stdout",
     "output_type": "stream",
     "text": [
      "'data.frame':\t12477 obs. of  21 variables:\n",
      " $ Date                       : chr  \"1989-04-01\" \"1989-04-02\" \"1989-04-03\" \"1989-04-04\" ...\n",
      " $ Temperature.High..C.       : num  2.8 1.1 -0.6 1.1 -0.6 2.5 -1.4 -0.8 -1 -1.5 ...\n",
      " $ Temperature.Low..C.        : num  -1 -2.7 -3.5 -4.4 -2.9 -3.1 -3.2 -4.5 -4 -3.8 ...\n",
      " $ Temperature.Average..C.    : num  NA NA NA NA NA NA NA NA NA NA ...\n",
      " $ Sea.Surface.Temperature..C.: num  NA NA NA NA NA NA NA NA NA NA ...\n",
      " $ Sea.Ice..WMO.Code.         : chr  \"\" \"\" \"\" \"\" ...\n",
      " $ Pressure.High..mbar.       : num  1004 998 998 1002 1002 ...\n",
      " $ Pressure.Low..mbar.        : num  998 995 995 998 997 ...\n",
      " $ Pressure.Average..mbar.    : num  NA NA NA NA NA NA NA NA NA NA ...\n",
      " $ Wind.Peak..knots.          : num  18 24 13 14 14 15 16 39 27 16 ...\n",
      " $ Wind.5.Sec.Peak..knots.    : num  NA NA NA NA NA NA NA NA NA NA ...\n",
      " $ Wind.2.Min.Peak..knots.    : num  NA NA NA NA NA NA NA NA NA NA ...\n",
      " $ Wind.Average..knots.       : num  4 9 8 6 4 4 8 14 11 6 ...\n",
      " $ Wind.Peak.Direction        : num  110 30 60 210 230 180 40 120 50 60 ...\n",
      " $ Wind.5.Sec.Peak.Direction  : num  NA NA NA NA NA NA NA NA NA NA ...\n",
      " $ Wind.2.Min.Peak.Direction  : num  NA NA NA NA NA NA NA NA NA NA ...\n",
      " $ Wind.Prevailing.Direction  : chr  \"SW\" \"NE\" \"NE\" \"NW\" ...\n",
      " $ Precipitation.Melted..mm.  : chr  \"0.0\" \"0.0\" \"0.0\" \"0.0\" ...\n",
      " $ Precipitation.Snow..cm.    : chr  \"0\" \"0\" \"0\" \"0\" ...\n",
      " $ Depth.at.Snowstake..cm.    : chr  \"\" \"\" \"\" \"\" ...\n",
      " $ Sky.Coverage..tenths.      : num  4 2 5 5 10 2 9 5 0 10 ...\n"
     ]
    }
   ],
   "source": [
    "%%R\n",
    "weather <- read.csv(\"./data/PalmerStation_Daily_Weather.csv\")  # using base R read.csv here!\n",
    "str(weather)"
   ]
  },
  {
   "cell_type": "markdown",
   "id": "ca70fb28-fb8a-4e63-a5d7-2ac40fe3255c",
   "metadata": {
    "editable": true,
    "slideshow": {
     "slide_type": ""
    },
    "tags": []
   },
   "source": [
    "However, the structure of the data above indicates that the first variable 'Date'\n",
    "is a 'character'. This means that R is not understanding these as representing\n",
    "dates, and so it may be hard to manipulate them any further (e.g. extracting\n",
    "certain years)."
   ]
  },
  {
   "cell_type": "code",
   "execution_count": 15,
   "id": "383d95fa-0116-438e-943b-a7d1d4ec2f28",
   "metadata": {
    "editable": true,
    "slideshow": {
     "slide_type": ""
    },
    "tags": []
   },
   "outputs": [
    {
     "name": "stdout",
     "output_type": "stream",
     "text": [
      "[1] \"character\"\n"
     ]
    }
   ],
   "source": [
    "%%R\n",
    "head(weather$Date)\n",
    "class(weather$Date)"
   ]
  },
  {
   "cell_type": "markdown",
   "id": "eb73981a-f2bd-4f59-b5a1-ebdc127c05fe",
   "metadata": {
    "editable": true,
    "slideshow": {
     "slide_type": ""
    },
    "tags": []
   },
   "source": [
    "(**Note**: if we'd used `read_csv` from the `readr` package then these would\n",
    "automatically have been coerced into dates. We're avoiding this for now to\n",
    "demonstrate how to convert raw strings into dates.)\n",
    "\n",
    "We'll use the `lubridate` package (loaded in when we load in `tidyverse`)\n",
    "to convert these variables into dates and create a column for the year.\n",
    "\n",
    "\n",
    "### Converting from strings\n",
    "\n",
    "The `lubridate` package has very intuitive function names and argument\n",
    "structures. For instance, you can convert a string into a date type by\n",
    "using a function with letters representing the date format. In `lubridate`,\n",
    "y = year, m = month, d = day, h = hour, m = minute, s = second, etc.\n",
    "\n",
    "(You can see all of these formats by using the auto-complete box in RStudio,\n",
    "e.g. to see all functions starting with 'y', begin typing `lubridate::y`.)\n",
    "\n",
    "We can see that our data is formatted in the year-month-day format, and so we\n",
    "can use the `ymd` function to indicate to R what format we want it to detect as\n",
    "it converts characters to dates. If we use this function and assign the output\n",
    "to a date vector, we can then evaluate the class to see that it is a date. "
   ]
  },
  {
   "cell_type": "code",
   "execution_count": 16,
   "id": "f8f6a6fc-9891-4c31-b14f-0b908d68f690",
   "metadata": {
    "editable": true,
    "slideshow": {
     "slide_type": ""
    },
    "tags": []
   },
   "outputs": [
    {
     "name": "stdout",
     "output_type": "stream",
     "text": [
      "[1] \"Date\"\n"
     ]
    }
   ],
   "source": [
    "%%R\n",
    "date_vector <- lubridate::ymd(weather$Date)\n",
    "class(date_vector)"
   ]
  },
  {
   "cell_type": "markdown",
   "id": "72c6b317-dcad-408c-bb35-158fa2fe1e6b",
   "metadata": {
    "editable": true,
    "slideshow": {
     "slide_type": ""
    },
    "tags": []
   },
   "source": [
    "Remember that manipulating a column does not mean it automatically saves into\n",
    "the dataframe. Instead, we need to explicitly overwrite our dataframe with a\n",
    "new dataframe that contains the modified column. We can use the mutate function\n",
    "to achieve this:"
   ]
  },
  {
   "cell_type": "code",
   "execution_count": 17,
   "id": "9d9dce42-f2f5-4053-9a37-9712600bd341",
   "metadata": {
    "editable": true,
    "slideshow": {
     "slide_type": ""
    },
    "tags": []
   },
   "outputs": [
    {
     "name": "stdout",
     "output_type": "stream",
     "text": [
      "[1] \"Date\"\n"
     ]
    }
   ],
   "source": [
    "%%R\n",
    "# Change the Date column to be a date type\n",
    "weather <- weather |>\n",
    "  dplyr::mutate(Date = lubridate::ymd(Date))\n",
    "\n",
    "class(weather$Date)"
   ]
  },
  {
   "cell_type": "markdown",
   "id": "61085e30-aff9-4b60-b790-dfba41c822aa",
   "metadata": {
    "editable": true,
    "slideshow": {
     "slide_type": ""
    },
    "tags": []
   },
   "source": [
    "### Accessing timestamp components\n",
    "\n",
    "Now that R recognizes these as dates, we can extract certain date-related\n",
    "features, such as the year, month, and day. The `lubridate` package has functions\n",
    "conveniently named `year`, `month`, `day` that can be used with a date argument,\n",
    "and that element of the date will be extracted. For example:"
   ]
  },
  {
   "cell_type": "code",
   "execution_count": 18,
   "id": "6b0f9901-8c78-49f8-a948-5d62a515f502",
   "metadata": {
    "editable": true,
    "slideshow": {
     "slide_type": ""
    },
    "tags": []
   },
   "outputs": [
    {
     "name": "stdout",
     "output_type": "stream",
     "text": [
      "        Date Year\n",
      "1 1989-04-01 1989\n",
      "2 1989-04-02 1989\n",
      "3 1989-04-03 1989\n",
      "4 1989-04-04 1989\n",
      "5 1989-04-05 1989\n",
      "6 1989-04-06 1989\n"
     ]
    }
   ],
   "source": [
    "%%R\n",
    "# Extract the year\n",
    "weather <- weather |>\n",
    "  dplyr::mutate(Year = lubridate::year(Date))\n",
    "\n",
    "head(weather) |>\n",
    "  dplyr::select(Date, Year)"
   ]
  },
  {
   "cell_type": "markdown",
   "id": "5759c034-9b93-42c7-9a0a-9be146111076",
   "metadata": {
    "editable": true,
    "slideshow": {
     "slide_type": ""
    },
    "tags": []
   },
   "source": [
    "#### Exercise: working with dates  \n",
    "\n",
    "Create a summary of the weather data that gives the maximum, minimum, and\n",
    "mean of the average temperatures for each **month** of the year."
   ]
  },
  {
   "cell_type": "markdown",
   "id": "af91d167-49b1-4e69-952e-0ed1c70fba3e",
   "metadata": {
    "editable": true,
    "slideshow": {
     "slide_type": ""
    },
    "tags": []
   },
   "source": [
    "```{admonition} Solution\n",
    ":class: dropdown\n",
    "``` R\n",
    "%%R\n",
    "weather |>\n",
    "  dplyr::mutate(Month = lubridate::month(Date)) |>\n",
    "  dplyr::group_by(Month) |> \n",
    "  dplyr::summarize(Average_temp = mean(Temperature.Average..C., na.rm = TRUE),\n",
    "                   Max_temp = max(Temperature.High..C., na.rm = TRUE),\n",
    "                   Min_temp = min(Temperature.Low..C., na.rm = TRUE))\n",
    "\n",
    "```\n",
    "\n",
    "\n",
    "\n",
    "\n"
   ]
  },
  {
   "cell_type": "markdown",
   "id": "04633f8d-f2db-41de-9847-cbac98481a4d",
   "metadata": {
    "editable": true,
    "slideshow": {
     "slide_type": ""
    },
    "tags": []
   },
   "source": [
    "## Acknowledgement\n",
    "\n",
    "The material in this notebook is adapted from Eliza Wood's [Tidyverse: Data\n",
    "wrangling & visualization](https://liza-wood.github.io/tidyverse_intro/) course,\n",
    "which is licensed under [Creative Commons BY-NC-SA\n",
    "4.0](https://creativecommons.org/licenses/by-nc-sa/4.0/). This in itself is\n",
    "based on material from [UC Davis's R-DAVIS\n",
    "course](https://gge-ucd.github.io/R-DAVIS/index.html), which draws heavily on\n",
    "[Carpentries](https://datacarpentry.org/R-ecology-lesson/) R lessons."
   ]
  }
 ],
 "metadata": {
  "kernelspec": {
   "display_name": "Python 3 (ipykernel)",
   "language": "python",
   "name": "python3"
  },
  "language_info": {
   "codemirror_mode": {
    "name": "ipython",
    "version": 3
   },
   "file_extension": ".py",
   "mimetype": "text/x-python",
   "name": "python",
   "nbconvert_exporter": "python",
   "pygments_lexer": "ipython3",
   "version": "3.9.19"
  }
 },
 "nbformat": 4,
 "nbformat_minor": 5
}
