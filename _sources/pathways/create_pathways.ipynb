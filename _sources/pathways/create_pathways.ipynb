{
 "cells": [
  {
   "cell_type": "code",
   "execution_count": 9,
   "id": "a84b9b30-8826-4066-a840-973b15a5797c",
   "metadata": {},
   "outputs": [
    {
     "name": "stdout",
     "output_type": "stream",
     "text": [
      "Notebook combined successfully into './data_scientist.ipynb'\n"
     ]
    }
   ],
   "source": [
    "!python pathway_creator.py ../individual_modules/Python_ScikitLearn.ipynb ../individual_modules/computational_thinking/04_decomposition.md --dest_dir . --output_name data_scientist.ipynb\n"
   ]
  },
  {
   "cell_type": "code",
   "execution_count": null,
   "id": "6a95626e-04b5-473c-83f9-8b68ae0711b1",
   "metadata": {},
   "outputs": [],
   "source": []
  }
 ],
 "metadata": {
  "kernelspec": {
   "display_name": "Python 3 (ipykernel)",
   "language": "python",
   "name": "python3"
  },
  "language_info": {
   "codemirror_mode": {
    "name": "ipython",
    "version": 3
   },
   "file_extension": ".py",
   "mimetype": "text/x-python",
   "name": "python",
   "nbconvert_exporter": "python",
   "pygments_lexer": "ipython3",
   "version": "3.12.2"
  }
 },
 "nbformat": 4,
 "nbformat_minor": 5
}
