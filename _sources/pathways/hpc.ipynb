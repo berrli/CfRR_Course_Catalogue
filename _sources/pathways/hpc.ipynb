{
 "cells": [
  {
   "cell_type": "markdown",
   "id": "5add793f-8c69-4f71-9067-635e3c36c69f",
   "metadata": {},
   "source": [
    "# High Performance Computing"
   ]
  },
  {
   "cell_type": "code",
   "execution_count": null,
   "id": "4feaf369-5548-49e6-ace7-2080ef9e8bfb",
   "metadata": {},
   "outputs": [],
   "source": []
  }
 ],
 "metadata": {
  "kernelspec": {
   "display_name": "Python 3 (ipykernel)",
   "language": "python",
   "name": "python3"
  },
  "language_info": {
   "codemirror_mode": {
    "name": "ipython",
    "version": 3
   },
   "file_extension": ".py",
   "mimetype": "text/x-python",
   "name": "python",
   "nbconvert_exporter": "python",
   "pygments_lexer": "ipython3",
   "version": "3.9.19"
  }
 },
 "nbformat": 4,
 "nbformat_minor": 5
}
