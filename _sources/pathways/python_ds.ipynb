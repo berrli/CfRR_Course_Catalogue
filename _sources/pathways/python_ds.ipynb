{
 "cells": [
  {
   "cell_type": "markdown",
   "id": "e7094926-3aa3-4859-8683-13a67a88f12f",
   "metadata": {},
   "source": [
    "# Python Data Science"
   ]
  },
  {
   "cell_type": "code",
   "execution_count": null,
   "id": "5e0f6474-e85e-4925-94bd-69c7d6ab8160",
   "metadata": {},
   "outputs": [],
   "source": []
  }
 ],
 "metadata": {
  "kernelspec": {
   "display_name": "Python 3 (ipykernel)",
   "language": "python",
   "name": "python3"
  },
  "language_info": {
   "codemirror_mode": {
    "name": "ipython",
    "version": 3
   },
   "file_extension": ".py",
   "mimetype": "text/x-python",
   "name": "python",
   "nbconvert_exporter": "python",
   "pygments_lexer": "ipython3",
   "version": "3.9.19"
  }
 },
 "nbformat": 4,
 "nbformat_minor": 5
}
