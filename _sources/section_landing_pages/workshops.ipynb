{
 "cells": [
  {
   "cell_type": "markdown",
   "id": "0db1f016-24c6-4e83-af56-06e71b50880f",
   "metadata": {},
   "source": [
    "# Course Catalogue: Details and Dates\n",
    "\n",
    "## Upcoming Workshops"
   ]
  },
  {
   "cell_type": "code",
   "execution_count": null,
   "id": "d55e28b8-bcaa-4a25-9356-d8ebc7a6f5d9",
   "metadata": {},
   "outputs": [],
   "source": [
    "from IPython.display import Markdown, display\n",
    "\n",
    "display(Markdown(\"course_details_markdowns/combined.md\"))"
   ]
  }
 ],
 "metadata": {
  "kernelspec": {
   "display_name": "Python 3 (ipykernel)",
   "language": "python",
   "name": "python3"
  },
  "language_info": {
   "codemirror_mode": {
    "name": "ipython",
    "version": 3
   },
   "file_extension": ".py",
   "mimetype": "text/x-python",
   "name": "python",
   "nbconvert_exporter": "python",
   "pygments_lexer": "ipython3",
   "version": "3.12.2"
  }
 },
 "nbformat": 4,
 "nbformat_minor": 5
}
