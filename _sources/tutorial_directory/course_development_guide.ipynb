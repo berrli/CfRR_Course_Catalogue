{
 "cells": [
  {
   "cell_type": "markdown",
   "id": "d42bb7d3-ce82-4b0e-9510-5476c1e8e679",
   "metadata": {},
   "source": [
    "# Course Development Guide \n",
    "\n",
    "If you wish to create a completely new course, or to add a large portion of content to the program then there will be a need for you to engage with the jupyter book framework to add the content to the book and ensure it works as intended. This guide aims to help you achieve this. "
   ]
  }
 ],
 "metadata": {
  "kernelspec": {
   "display_name": "Python 3 (ipykernel)",
   "language": "python",
   "name": "python3"
  },
  "language_info": {
   "codemirror_mode": {
    "name": "ipython",
    "version": 3
   },
   "file_extension": ".py",
   "mimetype": "text/x-python",
   "name": "python",
   "nbconvert_exporter": "python",
   "pygments_lexer": "ipython3",
   "version": "3.9.19"
  }
 },
 "nbformat": 4,
 "nbformat_minor": 5
}
